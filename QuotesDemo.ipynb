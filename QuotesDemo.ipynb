{
 "cells": [
  {
   "cell_type": "code",
   "execution_count": 1,
   "metadata": {},
   "outputs": [
    {
     "data": {
      "text/plain": [
       "Waiting for a Spark session to start..."
      ]
     },
     "metadata": {},
     "output_type": "display_data"
    },
    {
     "data": {
      "text/html": [
       "\n",
       "<ul>\n",
       "<li><a href=\"http://100.85.167.226:4041\" target=\"new_tab\">Spark UI</a></li>\n",
       "<li><a href=\"http://trionplay.master.us-east-1.dynprod.netflix.net:5050/#/frameworks/a0f56417-320d-4086-9b11-425f35f157c3-0055\" target=\"new_tab\">Mesos UI: a0f56417-320d-4086-9b11-425f35f157c3-0055</a></li>\n",
       "<li>Local logs are available using %tail_log</li>\n",
       "<li>Local logs are at: /tmp/genie/jobs/a5f874e8-2f99-4f0c-9023-22b97d9e119e/spark.log</li>\n",
       "</ul>\n"
      ],
      "text/plain": [
       "\n",
       "Spark a0f56417-320d-4086-9b11-425f35f157c3-0055:\n",
       "* http://100.85.167.226:4041\n",
       "* http://trionplay.master.us-east-1.dynprod.netflix.net:5050/#/frameworks/a0f56417-320d-4086-9b11-425f35f157c3-0055\n",
       "\n",
       "Local logs:\n",
       "* /tmp/genie/jobs/a5f874e8-2f99-4f0c-9023-22b97d9e119e/spark.log\n",
       "* Also available using %tail_log\n"
      ]
     },
     "execution_count": 1,
     "metadata": {},
     "output_type": "execute_result"
    }
   ],
   "source": [
    "spark"
   ]
  },
  {
   "cell_type": "code",
   "execution_count": 12,
   "metadata": {},
   "outputs": [
    {
     "name": "stdout",
     "output_type": "stream",
     "text": [
      "Starting download from https://producteng.builds.test.netflix.net/job/rank-v2-release/342/artifact/rank-spark/build/libs/rank-spark_2.11-5.0.64-all.jar\n",
      "Finished download of rank-spark_2.11-5.0.64-all.jar\n"
     ]
    }
   ],
   "source": [
    "%AddJar https://producteng.builds.test.netflix.net/job/rank-v2-release/342/artifact/rank-spark/build/libs/rank-spark_2.11-5.0.64-all.jar"
   ]
  },
  {
   "cell_type": "code",
   "execution_count": 13,
   "metadata": {},
   "outputs": [
    {
     "data": {
      "text/plain": [
       "tableName = rmenezes.quotes_vegas\n"
      ]
     },
     "metadata": {},
     "output_type": "display_data"
    },
    {
     "data": {
      "text/plain": [
       "rmenezes.quotes_vegas"
      ]
     },
     "execution_count": 13,
     "metadata": {},
     "output_type": "execute_result"
    }
   ],
   "source": [
    "val tableName = \"rmenezes.quotes_vegas\""
   ]
  },
  {
   "cell_type": "code",
   "execution_count": 14,
   "metadata": {},
   "outputs": [],
   "source": [
    "import com.netflix.boson.viz.display._\n",
    "import vegas._\n",
    "import vegas.sparkExt._"
   ]
  },
  {
   "cell_type": "code",
   "execution_count": 15,
   "metadata": {},
   "outputs": [
    {
     "data": {
      "text/plain": [
       "isTradingDay: (date: Int)Boolean\n",
       "getNextTradingDay: (date: Int)Int\n",
       "getPreviousTradingDay: (date: Int)Int\n",
       "getTradingDay: (date: Int)Int\n"
      ]
     },
     "metadata": {},
     "output_type": "display_data"
    }
   ],
   "source": [
    "import com.netflix.boson.util.DateInt\n",
    "\n",
    "def isTradingDay(date: Int) = {\n",
    "    spark.table(tableName).filter($\"date\" === date).count > 100\n",
    "}\n",
    "\n",
    "def getNextTradingDay(date: Int) = {\n",
    "    var currDate = DateInt(date).plusDays(1).intValue\n",
    "    while (!isTradingDay(currDate)) {\n",
    "        currDate = DateInt(currDate).plusDays(1).intValue\n",
    "    }\n",
    "    currDate\n",
    "}\n",
    "\n",
    "\n",
    "def getPreviousTradingDay(date: Int) = {\n",
    "    var currDate = DateInt(date).minusDays(1).intValue\n",
    "    while (!isTradingDay(currDate)) {\n",
    "        currDate = DateInt(currDate).minusDays(1).intValue\n",
    "    }\n",
    "    currDate\n",
    "}\n",
    "\n",
    "def getTradingDay(date: Int) = {\n",
    "    if (isTradingDay(date)) {\n",
    "        date\n",
    "    } else {\n",
    "        getNextTradingDay(date)\n",
    "    }\n",
    "}"
   ]
  },
  {
   "cell_type": "code",
   "execution_count": 16,
   "metadata": {},
   "outputs": [
    {
     "data": {
      "text/plain": [
       "20200106"
      ]
     },
     "execution_count": 16,
     "metadata": {},
     "output_type": "execute_result"
    }
   ],
   "source": [
    "getTradingDay(20200104)"
   ]
  },
  {
   "cell_type": "code",
   "execution_count": 17,
   "metadata": {},
   "outputs": [
    {
     "data": {
      "text/plain": [
       "percentageGrowth = > Double\n"
      ]
     },
     "metadata": {},
     "output_type": "display_data"
    },
    {
     "data": {
      "text/plain": [
       "percentageGrowthUDF: org.apache.spark.sql.expressions.UserDefinedFunction\n"
      ]
     },
     "metadata": {},
     "output_type": "display_data"
    },
    {
     "data": {
      "text/plain": [
       "<function2>"
      ]
     },
     "execution_count": 17,
     "metadata": {},
     "output_type": "execute_result"
    }
   ],
   "source": [
    "def percentageGrowth: (Double, Double) => Double = { (start: Double, end: Double) =>\n",
    "    val growth = (end - start) / start\n",
    "    growth * 100.0\n",
    "} \n",
    "\n",
    "def percentageGrowthUDF = udf { percentageGrowth }"
   ]
  },
  {
   "cell_type": "code",
   "execution_count": 18,
   "metadata": {},
   "outputs": [
    {
     "data": {
      "text/plain": [
       "readDF: (date: Int)org.apache.spark.sql.Dataset[org.apache.spark.sql.Row]\n",
       "readSafeDF: (date: Int)org.apache.spark.sql.Dataset[org.apache.spark.sql.Row]\n",
       "getComparisionDF: (startDF: org.apache.spark.sql.DataFrame, endDF: org.apache.spark.sql.DataFrame)org.apache.spark.sql.DataFrame\n",
       "getComparisionDFWithDates: (startDate: Int, endDate: Int)org.apache.spark.sql.DataFrame\n",
       "getSafeComparisionDFWithDates: (startDate: Int, endDate: Int)org.apache.spark.sql.DataFrame\n"
      ]
     },
     "metadata": {},
     "output_type": "display_data"
    }
   ],
   "source": [
    "import org.apache.spark.sql.DataFrame\n",
    "\n",
    "def readDF(date: Int) = {\n",
    "    val df = spark.table(tableName).filter($\"date\" === date)\n",
    "    assert(df.count > 1000, s\"$date wasn't a trading day\")\n",
    "    df\n",
    "}\n",
    "\n",
    "def readSafeDF(date: Int) = {\n",
    "    val tradingDay = getTradingDay(date)\n",
    "    Console.println(s\"trading day is ${tradingDay}\")\n",
    "    spark.table(tableName).filter($\"date\" === getTradingDay(tradingDay))\n",
    "}\n",
    "\n",
    "\n",
    "def getComparisionDF(startDF: DataFrame, endDF: DataFrame) = {\n",
    "  startDF.join(endDF, startDF(\"ticker\") === endDF(\"ticker\"))\n",
    "    .withColumn(\"diff_percentage\", percentageGrowthUDF(startDF(\"open\"), endDF(\"open\")))\n",
    "    .select(startDF(\"ticker\"),\n",
    "            endDF(\"open\") as \"end_of_period\",\n",
    "            startDF(\"open\") as \"start_of_period\",\n",
    "            $\"diff_percentage\"\n",
    "    )\n",
    "}\n",
    "\n",
    "def getComparisionDFWithDates(startDate: Int, endDate: Int) = {\n",
    "  val startDF = readDF(startDate)\n",
    "  val endDF = readDF(endDate)\n",
    "  getComparisionDF(startDF, endDF)\n",
    "}\n",
    "\n",
    "def getSafeComparisionDFWithDates(startDate: Int, endDate: Int) = {\n",
    "  val startDF = readSafeDF(startDate)\n",
    "  val endDF = readSafeDF(endDate)\n",
    "  getComparisionDF(startDF, endDF)\n",
    "}"
   ]
  },
  {
   "cell_type": "code",
   "execution_count": 21,
   "metadata": {},
   "outputs": [
    {
     "data": {
      "text/plain": [
       "namesDF = [ticker: string, name: string]\n"
      ]
     },
     "metadata": {},
     "output_type": "display_data"
    },
    {
     "data": {
      "text/plain": [
       "[ticker: string, name: string]"
      ]
     },
     "execution_count": 21,
     "metadata": {},
     "output_type": "execute_result"
    }
   ],
   "source": [
    "val namesDF = spark.table(\"rmenezes.zz_20201014_quotes_names\")"
   ]
  },
  {
   "cell_type": "code",
   "execution_count": 23,
   "metadata": {},
   "outputs": [
    {
     "data": {
      "text/plain": [
       "addNames: (df: org.apache.spark.sql.DataFrame)org.apache.spark.sql.DataFrame\n"
      ]
     },
     "metadata": {},
     "output_type": "display_data"
    }
   ],
   "source": [
    "def addNames(df: DataFrame) = {\n",
    "    df.join(namesDF, df(\"ticker\") === namesDF(\"ticker\"), \"left_outer\")\n",
    "        .drop(namesDF(\"ticker\"))\n",
    "}"
   ]
  },
  {
   "cell_type": "markdown",
   "metadata": {},
   "source": [
    "### Follow up\n",
    "\n",
    "1. Plot how the percentage growth over the last 5 years, looks like for a bunch of stocks, FANG\n",
    "2. Visualize them over Vegas.\n",
    "3. Also, just check how the average prices of stocks have gone higher.  So, if you would have bought it every day, you still would have been in a better position now.\n",
    "4. What happens if you would have bought it on only days when the stock has dropped.\n",
    "5. Stocks that have been growing positively year over year but have dropped down in 2020. Rather than comparing single days, compare 7 day moving averages.\n"
   ]
  },
  {
   "cell_type": "code",
   "execution_count": 19,
   "metadata": {},
   "outputs": [
    {
     "name": "stdout",
     "output_type": "stream",
     "text": [
      "trading day is 20190101\n",
      "trading day is 20191231\n"
     ]
    },
    {
     "data": {
      "text/plain": [
       "growth2019DF = [ticker: string, end_of_period: double ... 3 more fields]\n"
      ]
     },
     "metadata": {},
     "output_type": "display_data"
    },
    {
     "data": {
      "text/plain": [
       "[ticker: string, end_of_period: double ... 3 more fields]"
      ]
     },
     "execution_count": 19,
     "metadata": {},
     "output_type": "execute_result"
    }
   ],
   "source": [
    "val growth2019DF = addNames(getSafeComparisionDFWithDates(20190101, 20191231))"
   ]
  },
  {
   "cell_type": "code",
   "execution_count": 22,
   "metadata": {},
   "outputs": [
    {
     "name": "stdout",
     "output_type": "stream",
     "text": [
      "trading day is 20180101\n",
      "trading day is 20181231\n"
     ]
    },
    {
     "data": {
      "text/plain": [
       "growth2018DF = [ticker: string, end_of_period: double ... 3 more fields]\n"
      ]
     },
     "metadata": {},
     "output_type": "display_data"
    },
    {
     "data": {
      "text/plain": [
       "[ticker: string, end_of_period: double ... 3 more fields]"
      ]
     },
     "execution_count": 22,
     "metadata": {},
     "output_type": "execute_result"
    }
   ],
   "source": [
    "val growth2018DF = addNames(getSafeComparisionDFWithDates(20180101, 20181231))"
   ]
  },
  {
   "cell_type": "code",
   "execution_count": 20,
   "metadata": {},
   "outputs": [
    {
     "name": "stdout",
     "output_type": "stream",
     "text": [
      "root\n",
      " |-- ticker: string (nullable = true)\n",
      " |-- end_of_period: double (nullable = true)\n",
      " |-- start_of_period: double (nullable = true)\n",
      " |-- diff_percentage: double (nullable = true)\n",
      " |-- name: string (nullable = true)\n",
      "\n"
     ]
    }
   ],
   "source": [
    "growth2019DF.printSchema"
   ]
  },
  {
   "cell_type": "code",
   "execution_count": 26,
   "metadata": {},
   "outputs": [
    {
     "data": {
      "text/plain": [
       "func = > String\n"
      ]
     },
     "metadata": {},
     "output_type": "display_data"
    },
    {
     "data": {
      "text/plain": [
       "<function2>"
      ]
     },
     "execution_count": 26,
     "metadata": {},
     "output_type": "execute_result"
    }
   ],
   "source": [
    "def func: (String, String) => String = { (year, column) =>\n",
    "    if (List(\"end_of_period\", \"start_of_period\", \"diff_percentage\").contains(column))\n",
    "        s\"${year}_$column\"\n",
    "    else\n",
    "        column\n",
    "    \n",
    "}"
   ]
  },
  {
   "cell_type": "code",
   "execution_count": 28,
   "metadata": {},
   "outputs": [
    {
     "data": {
      "text/plain": [
       "2018_end_of_period"
      ]
     },
     "execution_count": 28,
     "metadata": {},
     "output_type": "execute_result"
    }
   ],
   "source": [
    "func(\"2018\", \"end_of_period\")"
   ]
  },
  {
   "cell_type": "code",
   "execution_count": null,
   "metadata": {},
   "outputs": [],
   "source": [
    "lookup.foldLeft(df)((acc, ca) => acc.withColumnRenamed(ca._1, ca._2))"
   ]
  },
  {
   "cell_type": "code",
   "execution_count": 31,
   "metadata": {},
   "outputs": [
    {
     "data": {
      "text/plain": [
       "Name: Compile Error\n",
       "Message: <console>:78: error: value printSchema is not a member of Unit\n",
       "possible cause: maybe a semicolon is missing before `value printSchema'?\n",
       "       }.printSchema\n",
       "         ^\n",
       "\n",
       "StackTrace: "
      ]
     },
     "execution_count": 31,
     "metadata": {},
     "output_type": "execute_result"
    }
   ],
   "source": [
    "growth2019DF.columns.foreach { col =>\n",
    "    growth2019DF.withColumnRenamed(col, func(\"2019\", col))\n",
    "}"
   ]
  },
  {
   "cell_type": "code",
   "execution_count": 35,
   "metadata": {},
   "outputs": [
    {
     "data": {
      "text/plain": [
       "growth2019DFChanged = [ticker: string, 2019_end_of_period: double ... 3 more fields]\n"
      ]
     },
     "metadata": {},
     "output_type": "display_data"
    },
    {
     "data": {
      "text/plain": [
       "[ticker: string, 2019_end_of_period: double ... 3 more fields]"
      ]
     },
     "execution_count": 35,
     "metadata": {},
     "output_type": "execute_result"
    }
   ],
   "source": [
    "val growth2019DFChanged = growth2019DF.columns.foldLeft(growth2019DF)((acc, ca) => acc.withColumnRenamed(ca, func(\"2019\", ca)))"
   ]
  },
  {
   "cell_type": "code",
   "execution_count": 36,
   "metadata": {},
   "outputs": [
    {
     "data": {
      "text/plain": [
       "growth2018DFChanged = [ticker: string, 2018_end_of_period: double ... 3 more fields]\n"
      ]
     },
     "metadata": {},
     "output_type": "display_data"
    },
    {
     "data": {
      "text/plain": [
       "[ticker: string, 2018_end_of_period: double ... 3 more fields]"
      ]
     },
     "execution_count": 36,
     "metadata": {},
     "output_type": "execute_result"
    }
   ],
   "source": [
    "val growth2018DFChanged = growth2018DF.columns.foldLeft(growth2018DF)((acc, ca) => acc.withColumnRenamed(ca, func(\"2018\", ca)))"
   ]
  },
  {
   "cell_type": "code",
   "execution_count": null,
   "metadata": {},
   "outputs": [],
   "source": []
  },
  {
   "cell_type": "code",
   "execution_count": null,
   "metadata": {},
   "outputs": [],
   "source": []
  },
  {
   "cell_type": "code",
   "execution_count": 38,
   "metadata": {},
   "outputs": [
    {
     "name": "stdout",
     "output_type": "stream",
     "text": [
      "[Stage 42:=====================================================>(499 + 1) / 500]"
     ]
    },
    {
     "data": {
      "text/html": [
       "<link rel=\"stylesheet\" type=\"text/css\" href=\"https://producteng.builds.test.netflix.net/job/boson-v2-master/lastSuccessfulBuild/artifact/boson-viz-display/src/main/resources/notebooks.css\" />\n",
       "<script type=\"application/javascript\" src=\"https://producteng.builds.test.netflix.net/job/boson-v2-master/lastSuccessfulBuild/artifact/boson-viz-display/src/main/resources/notebooks.js\"></script>\n",
       "<table class=\"product-collection\"><thead><tr><th>ticker</th><th>2019_end_of_period</th><th>2019_start_of_period</th><th>2019_diff_percentage</th><th>name</th><th>2018_end_of_period</th><th>2018_start_of_period</th><th>2018_diff_percentage</th><th>name</th></tr></thead><tbody><tr><td>ENPH</td><td>25.16</td><td>4.73</td><td>431.92389006342495</td><td>Enphase Energy Inc</td><td>4.84</td><td>2.41</td><td>100.82987551867217</td><td>Enphase Energy Inc</td></tr><tr><td>ARWR</td><td>63.94</td><td>12.42</td><td>414.8148148148148</td><td>Arrowhead Pharma</td><td>12.16</td><td>3.68</td><td>230.43478260869566</td><td>Arrowhead Pharma</td></tr><tr><td>MYSZ</td><td>3.3963</td><td>0.77</td><td>341.0779220779221</td><td>My Size Inc</td><td>0.775</td><td>0.65</td><td>19.23076923076923</td><td>My Size Inc</td></tr><tr><td>XBIT</td><td>19.59</td><td>5.08</td><td>285.6299212598425</td><td>Xbiotech Inc</td><td>5.0</td><td>3.94</td><td>26.903553299492387</td><td>Xbiotech Inc</td></tr><tr><td>RETA</td><td>203.21</td><td>56.1</td><td>262.2281639928699</td><td>Reata Pharma</td><td>54.53</td><td>28.32</td><td>92.5494350282486</td><td>Reata Pharma</td></tr><tr><td>CCXI</td><td>37.92</td><td>10.91</td><td>247.5710357470211</td><td>Chemocentryx Inc</td><td>10.99</td><td>5.95</td><td>84.70588235294117</td><td>Chemocentryx Inc</td></tr><tr><td>IOVA</td><td>27.42</td><td>8.85</td><td>209.83050847457628</td><td>Iovance Biotherapeutics Inc</td><td>9.26</td><td>8.0</td><td>15.749999999999996</td><td>Iovance Biotherapeutics Inc</td></tr><tr><td>MRTX</td><td>127.98</td><td>42.42</td><td>201.6973125884017</td><td>Mirati Therapeutics</td><td>42.12</td><td>18.25</td><td>130.79452054794518</td><td>Mirati Therapeutics</td></tr><tr><td>AUPH</td><td>19.96</td><td>6.82</td><td>192.66862170087978</td><td>Aurinia Pharm Ord</td><td>6.85</td><td>4.53</td><td>51.21412803532007</td><td>Aurinia Pharm Ord</td></tr><tr><td>KRYS</td><td>57.39</td><td>20.78</td><td>176.17901828681423</td><td>Krystal Biotech Inc</td><td>20.84</td><td>10.52</td><td>98.09885931558937</td><td>Krystal Biotech Inc</td></tr><tr><td>AKER</td><td>3.11</td><td>1.13</td><td>175.2212389380531</td><td>Akers Biosciences</td><td>1.35</td><td>0.13</td><td>938.4615384615385</td><td>Akers Biosciences</td></tr><tr><td>LSCC</td><td>18.97</td><td>6.92</td><td>174.1329479768786</td><td>Lattice Semicond</td><td>6.79</td><td>5.78</td><td>17.47404844290657</td><td>Lattice Semicond</td></tr><tr><td>NVCR</td><td>84.93</td><td>33.48</td><td>153.67383512544808</td><td>Novocure Ltd Ord Sh</td><td>33.13</td><td>20.2</td><td>64.00990099009903</td><td>Novocure Ltd Ord Sh</td></tr><tr><td>AUDC</td><td>25.05</td><td>9.88</td><td>153.54251012145747</td><td>Audiocodes Ltd</td><td>9.91</td><td>7.36</td><td>34.64673913043478</td><td>Audiocodes Ltd</td></tr><tr><td>EHTH</td><td>95.67</td><td>38.42</td><td>149.01093180635087</td><td>Ehealth Inc</td><td>36.7</td><td>17.37</td><td>111.28382268278642</td><td>Ehealth Inc</td></tr><tr><td>QURE</td><td>71.46</td><td>28.82</td><td>147.95281054823036</td><td>Uniqure N.V.</td><td>27.77</td><td>19.59</td><td>41.75599795814191</td><td>Uniqure N.V.</td></tr><tr><td>AMD</td><td>45.07</td><td>18.46</td><td>144.1495124593716</td><td>Adv Micro Devices</td><td>18.15</td><td>10.28</td><td>76.55642023346303</td><td>Adv Micro Devices</td></tr><tr><td>NTRA</td><td>33.37</td><td>13.96</td><td>139.0401146131805</td><td>Natera Inc</td><td>13.31</td><td>8.99</td><td>48.05339265850946</td><td>Natera Inc</td></tr><tr><td>ATLC</td><td>8.7</td><td>3.64</td><td>139.01098901098896</td><td>Atlanticus Hld Cp</td><td>3.25</td><td>2.4</td><td>35.41666666666667</td><td>Atlanticus Hld Cp</td></tr><tr><td>COUP</td><td>145.4</td><td>62.86</td><td>131.3076678332803</td><td>Coupa Software Inc</td><td>63.25</td><td>31.22</td><td>102.59449071108264</td><td>Coupa Software Inc</td></tr><tr><td>NEO</td><td>29.13</td><td>12.61</td><td>131.0071371927042</td><td>Neogenomics Inc</td><td>12.32</td><td>8.86</td><td>39.05191873589166</td><td>Neogenomics Inc</td></tr><tr><td>VERU</td><td>3.19</td><td>1.4</td><td>127.85714285714288</td><td>Veru Inc</td><td>1.3</td><td>1.14</td><td>14.035087719298259</td><td>Veru Inc</td></tr><tr><td>VCYT</td><td>28.19</td><td>12.58</td><td>124.0858505564388</td><td>Veracyte Inc</td><td>12.26</td><td>6.53</td><td>87.74885145482388</td><td>Veracyte Inc</td></tr><tr><td>PNRG</td><td>153.24</td><td>70.05</td><td>118.75802997858675</td><td>Primeenergy Cp</td><td>70.05</td><td>51.5</td><td>36.01941747572815</td><td>Primeenergy Cp</td></tr><tr><td>SPI</td><td>1.86</td><td>0.855</td><td>117.54385964912282</td><td>Spi Energy Co. Ads</td><td>0.74</td><td>0.64</td><td>15.624999999999996</td><td>Spi Energy Co. Ads</td></tr><tr><td>ASND</td><td>136.16</td><td>62.65</td><td>117.33439744612927</td><td>Ascendis Pharma Ads</td><td>60.34</td><td>40.06</td><td>50.62406390414378</td><td>Ascendis Pharma Ads</td></tr><tr><td>CRSP</td><td>61.66</td><td>28.57</td><td>115.82079103955196</td><td>Crispr Therapeutics Ag</td><td>27.11</td><td>23.48</td><td>15.45996592844974</td><td>Crispr Therapeutics Ag</td></tr><tr><td>TTD</td><td>249.11</td><td>116.06</td><td>114.63897983801483</td><td>Trade Desk Inc</td><td>116.09</td><td>45.73</td><td>153.8596107588017</td><td>Trade Desk Inc</td></tr><tr><td>LUNA</td><td>7.17</td><td>3.35</td><td>114.02985074626866</td><td>Luna Innovations Inc</td><td>3.22</td><td>2.43</td><td>32.510288065843625</td><td>Luna Innovations Inc</td></tr><tr><td>PODD</td><td>168.69</td><td>79.32</td><td>112.67019667170955</td><td>Insulet Corp</td><td>78.56</td><td>69.0</td><td>13.85507246376812</td><td>Insulet Corp</td></tr><tr><td>XENE</td><td>13.06</td><td>6.31</td><td>106.97305863708402</td><td>Xenon Pharmaceuticals Inc</td><td>5.95</td><td>2.825</td><td>110.61946902654867</td><td>Xenon Pharmaceuticals Inc</td></tr><tr><td>PRFT</td><td>45.89</td><td>22.26</td><td>106.15453728661275</td><td>Perficient Inc</td><td>22.18</td><td>19.07</td><td>16.308337703198738</td><td>Perficient Inc</td></tr><tr><td>DRNA</td><td>21.76</td><td>10.69</td><td>103.55472404116</td><td>Dicerna Pharmaceutic</td><td>10.72</td><td>9.03</td><td>18.7153931339978</td><td>Dicerna Pharmaceutic</td></tr><tr><td>REFR</td><td>3.1</td><td>1.56</td><td>98.71794871794872</td><td>Research Frontiers</td><td>1.37</td><td>1.04</td><td>31.730769230769234</td><td>Research Frontiers</td></tr><tr><td>PCTY</td><td>119.08</td><td>60.21</td><td>97.77445607042019</td><td>Paylocity Hld Corp</td><td>60.26</td><td>47.16</td><td>27.777777777777786</td><td>Paylocity Hld Corp</td></tr><tr><td>LPSN</td><td>36.88</td><td>18.86</td><td>95.54612937433724</td><td>Liveperson Inc</td><td>18.98</td><td>11.5</td><td>65.04347826086956</td><td>Liveperson Inc</td></tr><tr><td>MTCH</td><td>82.94</td><td>42.77</td><td>93.92097264437687</td><td>Match Group Inc CS</td><td>42.39</td><td>31.31</td><td>35.38805493452572</td><td>Match Group Inc CS</td></tr><tr><td>JYNT</td><td>16.06</td><td>8.32</td><td>93.02884615384613</td><td>The Joint Corp</td><td>8.55</td><td>4.96</td><td>72.37903225806454</td><td>The Joint Corp</td></tr><tr><td>LULU</td><td>231.14</td><td>121.61</td><td>90.06660636460816</td><td>Lululemon Athletica</td><td>123.12</td><td>78.59</td><td>56.66115281842473</td><td>Lululemon Athletica</td></tr><tr><td>CPRT</td><td>90.74</td><td>47.78</td><td>89.91209711176222</td><td>Copart Inc</td><td>47.82</td><td>43.19</td><td>10.720074091224827</td><td>Copart Inc</td></tr><tr><td>NSSC</td><td>29.45</td><td>15.75</td><td>86.98412698412697</td><td>Napco Sec Tech Inc</td><td>15.32</td><td>8.75</td><td>75.08571428571429</td><td>Napco Sec Tech Inc</td></tr><tr><td>NSTG</td><td>27.42</td><td>14.83</td><td>84.89548213081592</td><td>Nanostring Tech</td><td>14.63</td><td>7.47</td><td>95.8500669344043</td><td>Nanostring Tech</td></tr><tr><td>HZNP</td><td>35.96</td><td>19.54</td><td>84.03275332650973</td><td>Horizon Therapeutics</td><td>19.49</td><td>14.6</td><td>33.4931506849315</td><td>Horizon Therapeutics</td></tr><tr><td>APPF</td><td>108.51</td><td>59.22</td><td>83.23201621073963</td><td>Appfolio Cl A</td><td>58.14</td><td>41.5</td><td>40.096385542168676</td><td>Appfolio Cl A</td></tr><tr><td>KRNT</td><td>34.21</td><td>18.72</td><td>82.74572649572652</td><td>Kornit Digital Ord</td><td>18.95</td><td>16.15</td><td>17.337461300309602</td><td>Kornit Digital Ord</td></tr><tr><td>FRPT</td><td>58.18</td><td>32.16</td><td>80.90796019900499</td><td>Freshpet Inc CS</td><td>31.44</td><td>18.95</td><td>65.91029023746702</td><td>Freshpet Inc CS</td></tr><tr><td>INSG</td><td>7.5</td><td>4.15</td><td>80.72289156626505</td><td>Inseego Corp</td><td>4.05</td><td>1.61</td><td>151.55279503105587</td><td>Inseego Corp</td></tr><tr><td>DXCM</td><td>216.48</td><td>119.8</td><td>80.70116861435726</td><td>Dexcom</td><td>119.22</td><td>57.39</td><td>107.73653946680606</td><td>Dexcom</td></tr><tr><td>KNSL</td><td>100.33</td><td>55.56</td><td>80.57955363570913</td><td>Kinsale Capital Group Inc</td><td>54.2</td><td>45.0</td><td>20.44444444444445</td><td>Kinsale Capital Group Inc</td></tr><tr><td>RPD</td><td>56.01</td><td>31.16</td><td>79.74967907573813</td><td>Rapid7 Inc</td><td>31.2</td><td>18.66</td><td>67.20257234726688</td><td>Rapid7 Inc</td></tr></tbody></table>\n",
       "     "
      ]
     },
     "metadata": {},
     "output_type": "display_data"
    }
   ],
   "source": [
    "growth2019DFChanged.join(growth2018DFChanged, Seq(\"ticker\"))\n",
    "    .filter($\"2019_diff_percentage\" > 10.0)\n",
    "    .filter($\"2018_diff_percentage\" > 10.0)\n",
    "    .orderBy($\"2019_diff_percentage\".desc).display\n",
    "    "
   ]
  },
  {
   "cell_type": "code",
   "execution_count": 32,
   "metadata": {},
   "outputs": [
    {
     "name": "stdout",
     "output_type": "stream",
     "text": [
      "root\n",
      " |-- ticker: string (nullable = true)\n",
      " |-- end_of_period: double (nullable = true)\n",
      " |-- start_of_period: double (nullable = true)\n",
      " |-- diff_percentage: double (nullable = true)\n",
      " |-- name: string (nullable = true)\n",
      "\n"
     ]
    }
   ],
   "source": [
    "growth2019DF.printSchema"
   ]
  },
  {
   "cell_type": "code",
   "execution_count": null,
   "metadata": {},
   "outputs": [],
   "source": [
    "Map(\"\")"
   ]
  },
  {
   "cell_type": "code",
   "execution_count": 21,
   "metadata": {},
   "outputs": [
    {
     "data": {
      "text/html": [
       "<link rel=\"stylesheet\" type=\"text/css\" href=\"https://producteng.builds.test.netflix.net/job/boson-v2-master/lastSuccessfulBuild/artifact/boson-viz-display/src/main/resources/notebooks.css\" />\n",
       "<script type=\"application/javascript\" src=\"https://producteng.builds.test.netflix.net/job/boson-v2-master/lastSuccessfulBuild/artifact/boson-viz-display/src/main/resources/notebooks.js\"></script>\n",
       "<table class=\"product-collection\"><thead><tr><th>ticker</th><th>end_of_period</th><th>start_of_period</th><th>diff_percentage</th><th>name</th></tr></thead><tbody><tr><td>CDLX</td><td>61.45</td><td>10.83</td><td>467.4053554939982</td><td>Cardlytics Inc</td></tr><tr><td>ARWR</td><td>63.94</td><td>12.42</td><td>414.8148148148148</td><td>Arrowhead Pharma</td></tr><tr><td>EIDX</td><td>60.36</td><td>13.76</td><td>338.66279069767444</td><td>Eidos Therapeutics Inc</td></tr><tr><td>ROKU</td><td>128.75</td><td>30.64</td><td>320.20234986945167</td><td>Roku Inc</td></tr><tr><td>RETA</td><td>203.21</td><td>56.1</td><td>262.2281639928699</td><td>Reata Pharma</td></tr><tr><td>CCXI</td><td>37.92</td><td>10.91</td><td>247.5710357470211</td><td>Chemocentryx Inc</td></tr><tr><td>ARVN</td><td>42.28</td><td>12.85</td><td>229.0272373540856</td><td>Arvinas Inc</td></tr><tr><td>ZEAL</td><td>35.3599</td><td>11.61</td><td>204.5641688199828</td><td>Zealand Pharma A/S ADR</td></tr><tr><td>MRTX</td><td>127.98</td><td>42.42</td><td>201.6973125884017</td><td>Mirati Therapeutics</td></tr><tr><td>DCPH</td><td>61.9</td><td>20.99</td><td>194.9023344449738</td><td>Deciphera Pharmaceuticals Inc</td></tr><tr><td>ITCI</td><td>33.21</td><td>11.39</td><td>191.57155399473223</td><td>Intra-Cellular Ther</td></tr><tr><td>KRYS</td><td>57.39</td><td>20.78</td><td>176.17901828681423</td><td>Krystal Biotech Inc</td></tr><tr><td>FTSV</td><td>43.14</td><td>15.72</td><td>174.42748091603053</td><td><span class=\"null-value\">null</span></td></tr><tr><td>SEDG</td><td>93.9</td><td>35.1</td><td>167.52136752136752</td><td>Solaredge Tech</td></tr><tr><td>ACAD</td><td>43.0</td><td>16.17</td><td>165.92455163883733</td><td>Acadia Pharmaceutica</td></tr><tr><td>RARX</td><td>46.7</td><td>18.2</td><td>156.59340659340663</td><td><span class=\"null-value\">null</span></td></tr><tr><td>NVCR</td><td>84.93</td><td>33.48</td><td>153.67383512544808</td><td>Novocure Ltd Ord Sh</td></tr><tr><td>EHTH</td><td>95.67</td><td>38.42</td><td>149.01093180635087</td><td>Ehealth Inc</td></tr><tr><td>CRUS</td><td>82.6</td><td>33.18</td><td>148.94514767932486</td><td>Cirrus Logic Inc</td></tr><tr><td>QURE</td><td>71.46</td><td>28.82</td><td>147.95281054823036</td><td>Uniqure N.V.</td></tr><tr><td>AMD</td><td>45.07</td><td>18.46</td><td>144.1495124593716</td><td>Adv Micro Devices</td></tr><tr><td>NTRA</td><td>33.37</td><td>13.96</td><td>139.0401146131805</td><td>Natera Inc</td></tr><tr><td>BLDR</td><td>25.43</td><td>10.91</td><td>133.08890925756188</td><td>Builders Firstsource</td></tr><tr><td>COUP</td><td>145.4</td><td>62.86</td><td>131.3076678332803</td><td>Coupa Software Inc</td></tr><tr><td>NEO</td><td>29.13</td><td>12.61</td><td>131.0071371927042</td><td>Neogenomics Inc</td></tr><tr><td>TQQQ</td><td>85.3</td><td>37.04</td><td>130.29157667386607</td><td>Ultrapro QQQ Proshares</td></tr><tr><td>DMRC</td><td>33.03</td><td>14.5</td><td>127.79310344827589</td><td>Digimarc Corp</td></tr><tr><td>GLPG</td><td>207.83</td><td>91.74</td><td>126.54240244168304</td><td>Galapagos NV</td></tr><tr><td>VCYT</td><td>28.19</td><td>12.58</td><td>124.0858505564388</td><td>Veracyte Inc</td></tr><tr><td>APLS</td><td>29.38</td><td>13.19</td><td>122.74450341167551</td><td>Apellis Pharmaceuticals Inc</td></tr><tr><td>OLED</td><td>207.22</td><td>93.57</td><td>121.45986961633004</td><td>Universal Display</td></tr><tr><td>GDS</td><td>51.08</td><td>23.09</td><td>121.22130792550887</td><td>Gds Holdings Ltd</td></tr><tr><td>XOMA</td><td>27.78</td><td>12.65</td><td>119.60474308300395</td><td>Xoma Corp</td></tr><tr><td>PNRG</td><td>153.24</td><td>70.05</td><td>118.75802997858675</td><td>Primeenergy Cp</td></tr><tr><td>ODT</td><td>30.79</td><td>14.08</td><td>118.67897727272727</td><td>Odonate Therapeutics Inc</td></tr><tr><td>TER</td><td>68.43</td><td>31.38</td><td>118.06883365200768</td><td>Teradyne Inc</td></tr><tr><td>ASND</td><td>136.16</td><td>62.65</td><td>117.33439744612927</td><td>Ascendis Pharma Ads</td></tr><tr><td>CRSP</td><td>61.66</td><td>28.57</td><td>115.82079103955196</td><td>Crispr Therapeutics Ag</td></tr><tr><td>LRCX</td><td>292.39</td><td>136.17</td><td>114.72424175662776</td><td>Lam Research Corp</td></tr><tr><td>TTD</td><td>249.11</td><td>116.06</td><td>114.63897983801483</td><td>Trade Desk Inc</td></tr><tr><td>PODD</td><td>168.69</td><td>79.32</td><td>112.67019667170955</td><td>Insulet Corp</td></tr><tr><td>TTGT</td><td>25.8</td><td>12.21</td><td>111.30221130221129</td><td>Techtarget Inc</td></tr><tr><td>PPC</td><td>32.66</td><td>15.51</td><td>110.57382333978079</td><td>Pilgrim's Pride</td></tr><tr><td>CUTR</td><td>35.55</td><td>17.02</td><td>108.8719153936545</td><td>Cutera Inc</td></tr><tr><td>STNE</td><td>38.11</td><td>18.44</td><td>106.6702819956616</td><td>Stoneco Ltd Cl A</td></tr><tr><td>PRFT</td><td>45.89</td><td>22.26</td><td>106.15453728661275</td><td>Perficient Inc</td></tr><tr><td>UEIC</td><td>52.04</td><td>25.28</td><td>105.85443037974682</td><td>Universal Elect IN</td></tr><tr><td>ICHR</td><td>33.53</td><td>16.3</td><td>105.70552147239263</td><td>Ichor Holdings Ltd</td></tr><tr><td>GH</td><td>77.18</td><td>37.59</td><td>105.32056397978187</td><td>Guardant Health Inc</td></tr><tr><td>VCTR</td><td>20.93</td><td>10.22</td><td>104.79452054794518</td><td>Victory Capital Holdings Inc Cl A</td></tr></tbody></table>\n",
       "     "
      ]
     },
     "metadata": {},
     "output_type": "display_data"
    }
   ],
   "source": [
    "growth2019DF\n",
    "    .filter($\"start_of_period\" > 10)\n",
    "    .orderBy($\"diff_percentage\".desc).display"
   ]
  },
  {
   "cell_type": "code",
   "execution_count": 14,
   "metadata": {},
   "outputs": [
    {
     "name": "stdout",
     "output_type": "stream",
     "text": [
      "trading day is 20160101\n",
      "trading day is 20170102\n"
     ]
    },
    {
     "data": {
      "text/plain": [
       "growth2016DF = [ticker: string, end_of_period: double ... 2 more fields]\n"
      ]
     },
     "metadata": {},
     "output_type": "display_data"
    },
    {
     "data": {
      "text/plain": [
       "[ticker: string, end_of_period: double ... 2 more fields]"
      ]
     },
     "execution_count": 14,
     "metadata": {},
     "output_type": "execute_result"
    }
   ],
   "source": [
    "val growth2016DF = getSafeComparisionDFWithDates(20160101, 20161231)"
   ]
  },
  {
   "cell_type": "code",
   "execution_count": 15,
   "metadata": {},
   "outputs": [
    {
     "name": "stdout",
     "output_type": "stream",
     "text": [
      "trading day is 20150101\n",
      "trading day is 20151231\n"
     ]
    },
    {
     "data": {
      "text/plain": [
       "growth2015DF = [ticker: string, end_of_period: double ... 2 more fields]\n"
      ]
     },
     "metadata": {},
     "output_type": "display_data"
    },
    {
     "data": {
      "text/plain": [
       "[ticker: string, end_of_period: double ... 2 more fields]"
      ]
     },
     "execution_count": 15,
     "metadata": {},
     "output_type": "execute_result"
    }
   ],
   "source": [
    "val growth2015DF = getSafeComparisionDFWithDates(20150101, 20151231)"
   ]
  },
  {
   "cell_type": "code",
   "execution_count": 28,
   "metadata": {},
   "outputs": [
    {
     "data": {
      "text/html": [
       "<link rel=\"stylesheet\" type=\"text/css\" href=\"https://producteng.builds.test.netflix.net/job/boson-v2-master/lastSuccessfulBuild/artifact/boson-viz-display/src/main/resources/notebooks.css\" />\n",
       "<script type=\"application/javascript\" src=\"https://producteng.builds.test.netflix.net/job/boson-v2-master/lastSuccessfulBuild/artifact/boson-viz-display/src/main/resources/notebooks.js\"></script>\n",
       "<table class=\"product-collection\"><thead><tr><th>ticker</th><th>end_of_period</th><th>start_of_period</th><th>diff_percentage</th></tr></thead><tbody><tr><td>AAPL</td><td>290.2</td><td>157.74</td><td>83.97362748827182</td></tr><tr><td>AMZN</td><td>1842.0</td><td>1501.97</td><td>22.63893419975099</td></tr><tr><td>FB</td><td>203.995</td><td>131.09</td><td>55.61446334579296</td></tr><tr><td>GOOG</td><td>1330.11</td><td>1035.61</td><td>28.437346105194045</td></tr><tr><td>MSFT</td><td>156.77</td><td>101.57</td><td>54.34675593186967</td></tr><tr><td>NFLX</td><td>322.0</td><td>267.66</td><td>20.301875513711416</td></tr></tbody></table>\n",
       "     "
      ]
     },
     "metadata": {},
     "output_type": "display_data"
    }
   ],
   "source": [
    "growth2019DF\n",
    "    .filter($\"ticker\".isin(FAANG:_*))\n",
    "    .display()"
   ]
  },
  {
   "cell_type": "code",
   "execution_count": 7,
   "metadata": {},
   "outputs": [
    {
     "name": "stdout",
     "output_type": "stream",
     "text": [
      "trading day is 20180101\n",
      "trading day is 20181231\n"
     ]
    },
    {
     "data": {
      "text/plain": [
       "growth2018DF = [ticker: string, end_of_period: double ... 2 more fields]\n"
      ]
     },
     "metadata": {},
     "output_type": "display_data"
    },
    {
     "data": {
      "text/plain": [
       "[ticker: string, end_of_period: double ... 2 more fields]"
      ]
     },
     "execution_count": 7,
     "metadata": {},
     "output_type": "execute_result"
    }
   ],
   "source": [
    "val growth2018DF = getSafeComparisionDFWithDates(20180101, 20181231)"
   ]
  },
  {
   "cell_type": "code",
   "execution_count": 8,
   "metadata": {},
   "outputs": [
    {
     "data": {
      "text/html": [
       "<link rel=\"stylesheet\" type=\"text/css\" href=\"https://producteng.builds.test.netflix.net/job/boson-v2-master/lastSuccessfulBuild/artifact/boson-viz-display/src/main/resources/notebooks.css\" />\n",
       "<script type=\"application/javascript\" src=\"https://producteng.builds.test.netflix.net/job/boson-v2-master/lastSuccessfulBuild/artifact/boson-viz-display/src/main/resources/notebooks.js\"></script>\n",
       "<table class=\"product-collection\"><thead><tr><th>ticker</th><th>end_of_period</th><th>start_of_period</th><th>diff_percentage</th></tr></thead><tbody><tr><td>AAPL</td><td>158.53</td><td>169.23</td><td>-6.322756012527324</td></tr><tr><td>AMZN</td><td>1510.8</td><td>1169.47</td><td>29.186725610746745</td></tr><tr><td>FB</td><td>134.45</td><td>176.46</td><td>-23.80709509237222</td></tr><tr><td>GOOG</td><td>1050.96</td><td>1046.4</td><td>0.4357798165137562</td></tr><tr><td>MSFT</td><td>101.29</td><td>85.54</td><td>18.41243862520458</td></tr><tr><td>NFLX</td><td>260.16</td><td>191.96</td><td>35.52823504896854</td></tr></tbody></table>\n",
       "     "
      ]
     },
     "metadata": {},
     "output_type": "display_data"
    }
   ],
   "source": [
    "growth2018DF\n",
    "    .filter($\"ticker\".isin(FAANG:_*))\n",
    "    .display()"
   ]
  },
  {
   "cell_type": "code",
   "execution_count": 16,
   "metadata": {},
   "outputs": [
    {
     "data": {
      "text/plain": [
       "fullDF = [ticker: string, end_of_period: double ... 3 more fields]\n"
      ]
     },
     "metadata": {},
     "output_type": "display_data"
    },
    {
     "data": {
      "text/plain": [
       "[ticker: string, end_of_period: double ... 3 more fields]"
      ]
     },
     "execution_count": 16,
     "metadata": {},
     "output_type": "execute_result"
    }
   ],
   "source": [
    "val fullDF = growth2018DF.withColumn(\"year\", lit(2018))\n",
    "    .union(growth2019DF.withColumn(\"year\", lit(2019)))\n",
    "    .union(growth2015DF.withColumn(\"year\", lit(2015)))\n",
    "    .union(growth2016DF.withColumn(\"year\", lit(2016)))\n",
    "    .union(growth2017DF.withColumn(\"year\", lit(2017)))"
   ]
  },
  {
   "cell_type": "code",
   "execution_count": 40,
   "metadata": {},
   "outputs": [
    {
     "data": {
      "text/plain": [
       "startOfYear: (year: Int)Int\n"
      ]
     },
     "metadata": {},
     "output_type": "display_data"
    }
   ],
   "source": [
    "def startOfYear(year: Int) = {\n",
    "    s\"${year}0101\".toInt\n",
    "}"
   ]
  },
  {
   "cell_type": "code",
   "execution_count": 41,
   "metadata": {},
   "outputs": [
    {
     "data": {
      "text/plain": [
       "endOfYear: (year: Int)Int\n"
      ]
     },
     "metadata": {},
     "output_type": "display_data"
    }
   ],
   "source": [
    "def endOfYear(year: Int) = {\n",
    "    s\"${year}1231\".toInt\n",
    "}"
   ]
  },
  {
   "cell_type": "code",
   "execution_count": 42,
   "metadata": {},
   "outputs": [
    {
     "name": "stdout",
     "output_type": "stream",
     "text": [
      "trading day is 20150101\n",
      "trading day is 20151231\n",
      "trading day is 20160101\n",
      "trading day is 20170102\n",
      "trading day is 20170102\n",
      "trading day is 20180101\n",
      "trading day is 20180101\n",
      "trading day is 20181231\n",
      "trading day is 20190101\n",
      "trading day is 20191231\n"
     ]
    },
    {
     "data": {
      "text/plain": [
       "dfs = List([ticker: string, end_of_period: double ... 3 more fields], [ticker: string, end_of_period: double ... 3 more fields], [ticker: string, end_of_period: double ... 3 more fields], [ticker: string, end_of_period: double ... 3 more fields], [ticker: string, end_of_period: double ... 3 more fields])\n"
      ]
     },
     "metadata": {},
     "output_type": "display_data"
    },
    {
     "data": {
      "text/plain": [
       "List([ticker: string, end_of_period: double ... 3 more fields], [ticker: string, end_of_period: double ... 3 more fields], [ticker: string, end_of_period: double ... 3 more fields], [ticker: string, end_of_period: double ... 3 more fields], [ticker: string, end_of_period: double ... 3 more fields])"
      ]
     },
     "execution_count": 42,
     "metadata": {},
     "output_type": "execute_result"
    }
   ],
   "source": [
    "val dfs = List(2015, 2016, 2017, 2018, 2019).map { year =>\n",
    "    getSafeComparisionDFWithDates(startOfYear(year), endOfYear(year))\n",
    "        .withColumn(\"year\", lit(year))\n",
    "}"
   ]
  },
  {
   "cell_type": "code",
   "execution_count": 43,
   "metadata": {},
   "outputs": [
    {
     "data": {
      "text/plain": [
       "overYearDF = [ticker: string, end_of_period: double ... 3 more fields]\n"
      ]
     },
     "metadata": {},
     "output_type": "display_data"
    },
    {
     "data": {
      "text/plain": [
       "[ticker: string, end_of_period: double ... 3 more fields]"
      ]
     },
     "execution_count": 43,
     "metadata": {},
     "output_type": "execute_result"
    }
   ],
   "source": [
    "val overYearDF = dfs.reduce(_ union _)"
   ]
  },
  {
   "cell_type": "code",
   "execution_count": 62,
   "metadata": {},
   "outputs": [
    {
     "data": {
      "text/plain": [
       "overYearDFWithNames = [ticker: string, end_of_period: double ... 4 more fields]\n"
      ]
     },
     "metadata": {},
     "output_type": "display_data"
    },
    {
     "data": {
      "text/plain": [
       "[ticker: string, end_of_period: double ... 4 more fields]"
      ]
     },
     "execution_count": 62,
     "metadata": {},
     "output_type": "execute_result"
    }
   ],
   "source": [
    "val overYearDFWithNames = addNames(overYearDF)"
   ]
  },
  {
   "cell_type": "code",
   "execution_count": 66,
   "metadata": {},
   "outputs": [
    {
     "name": "stdout",
     "output_type": "stream",
     "text": [
      "\r",
      "[Stage 234:=============================================>           (4 + 1) / 5]"
     ]
    },
    {
     "data": {
      "text/html": [
       "<link rel=\"stylesheet\" type=\"text/css\" href=\"https://producteng.builds.test.netflix.net/job/boson-v2-master/lastSuccessfulBuild/artifact/boson-viz-display/src/main/resources/notebooks.css\" />\n",
       "<script type=\"application/javascript\" src=\"https://producteng.builds.test.netflix.net/job/boson-v2-master/lastSuccessfulBuild/artifact/boson-viz-display/src/main/resources/notebooks.js\"></script>\n",
       "<table class=\"product-collection\"><thead><tr><th>ticker</th><th>end_of_period</th><th>start_of_period</th><th>diff_percentage</th><th>year</th><th>name</th></tr></thead><tbody><tr><td>ROKU</td><td>128.75</td><td>30.64</td><td>320.20234986945167</td><td>2019</td><td>Roku Inc</td></tr><tr><td>RETA</td><td>203.21</td><td>56.1</td><td>262.2281639928699</td><td>2019</td><td>Reata Pharma</td></tr><tr><td>MRTX</td><td>127.98</td><td>42.42</td><td>201.6973125884017</td><td>2019</td><td>Mirati Therapeutics</td></tr><tr><td>DCPH</td><td>61.9</td><td>20.99</td><td>194.9023344449738</td><td>2019</td><td>Deciphera Pharmaceuticals Inc</td></tr><tr><td>KRYS</td><td>57.39</td><td>20.78</td><td>176.17901828681423</td><td>2019</td><td>Krystal Biotech Inc</td></tr><tr><td>SEDG</td><td>93.9</td><td>35.1</td><td>167.52136752136752</td><td>2019</td><td>Solaredge Tech</td></tr><tr><td>NVCR</td><td>84.93</td><td>33.48</td><td>153.67383512544808</td><td>2019</td><td>Novocure Ltd Ord Sh</td></tr><tr><td>EHTH</td><td>95.67</td><td>38.42</td><td>149.01093180635087</td><td>2019</td><td>Ehealth Inc</td></tr><tr><td>CRUS</td><td>82.6</td><td>33.18</td><td>148.94514767932486</td><td>2019</td><td>Cirrus Logic Inc</td></tr><tr><td>QURE</td><td>71.46</td><td>28.82</td><td>147.95281054823036</td><td>2019</td><td>Uniqure N.V.</td></tr><tr><td>COUP</td><td>145.4</td><td>62.86</td><td>131.3076678332803</td><td>2019</td><td>Coupa Software Inc</td></tr><tr><td>TQQQ</td><td>85.3</td><td>37.04</td><td>130.29157667386607</td><td>2019</td><td>Ultrapro QQQ Proshares</td></tr><tr><td>GLPG</td><td>207.83</td><td>91.74</td><td>126.54240244168304</td><td>2019</td><td>Galapagos NV</td></tr><tr><td>OLED</td><td>207.22</td><td>93.57</td><td>121.45986961633004</td><td>2019</td><td>Universal Display</td></tr><tr><td>GDS</td><td>51.08</td><td>23.09</td><td>121.22130792550887</td><td>2019</td><td>Gds Holdings Ltd</td></tr><tr><td>PNRG</td><td>153.24</td><td>70.05</td><td>118.75802997858675</td><td>2019</td><td>Primeenergy Cp</td></tr><tr><td>TER</td><td>68.43</td><td>31.38</td><td>118.06883365200768</td><td>2019</td><td>Teradyne Inc</td></tr><tr><td>ASND</td><td>136.16</td><td>62.65</td><td>117.33439744612927</td><td>2019</td><td>Ascendis Pharma Ads</td></tr><tr><td>CRSP</td><td>61.66</td><td>28.57</td><td>115.82079103955196</td><td>2019</td><td>Crispr Therapeutics Ag</td></tr><tr><td>LRCX</td><td>292.39</td><td>136.17</td><td>114.72424175662776</td><td>2019</td><td>Lam Research Corp</td></tr><tr><td>TTD</td><td>249.11</td><td>116.06</td><td>114.63897983801483</td><td>2019</td><td>Trade Desk Inc</td></tr><tr><td>PODD</td><td>168.69</td><td>79.32</td><td>112.67019667170955</td><td>2019</td><td>Insulet Corp</td></tr><tr><td>PRFT</td><td>45.89</td><td>22.26</td><td>106.15453728661275</td><td>2019</td><td>Perficient Inc</td></tr><tr><td>UEIC</td><td>52.04</td><td>25.28</td><td>105.85443037974682</td><td>2019</td><td>Universal Elect IN</td></tr><tr><td>GH</td><td>77.18</td><td>37.59</td><td>105.32056397978187</td><td>2019</td><td>Guardant Health Inc</td></tr><tr><td>ARCE</td><td>44.77</td><td>22.12</td><td>102.39602169981919</td><td>2019</td><td>Arco Platform Ltd Cl A</td></tr><tr><td>OFLX</td><td>109.41</td><td>54.07</td><td>102.34880710190492</td><td>2019</td><td>Omega Flex Inc</td></tr><tr><td>PRNB</td><td>55.37</td><td>27.39</td><td>102.15407082876962</td><td>2019</td><td>Principia Biopharma Inc</td></tr><tr><td>SGEN</td><td>113.9</td><td>56.66</td><td>101.02364984115782</td><td>2019</td><td>Seattle Genetics Inc</td></tr><tr><td>MELI</td><td>582.79</td><td>292.85</td><td>99.00631722724941</td><td>2019</td><td>Mercadolibre Inc</td></tr><tr><td>KLAC</td><td>177.39</td><td>89.49</td><td>98.22326516929265</td><td>2019</td><td>K L A-Tencor Corp</td></tr><tr><td>PCTY</td><td>119.08</td><td>60.21</td><td>97.77445607042019</td><td>2019</td><td>Paylocity Hld Corp</td></tr><tr><td>POWL</td><td>48.95</td><td>25.01</td><td>95.72171131547381</td><td>2019</td><td>Powell Inds Inc</td></tr><tr><td>MTCH</td><td>82.94</td><td>42.77</td><td>93.92097264437687</td><td>2019</td><td>Match Group Inc CS</td></tr><tr><td>GBT</td><td>78.95</td><td>41.05</td><td>92.32643118148602</td><td>2019</td><td>Global Blood Ther</td></tr><tr><td>FORTY</td><td>68.24</td><td>35.64</td><td>91.47025813692478</td><td>2019</td><td>Formula Sys [1985]</td></tr><tr><td>QRVO</td><td>115.67</td><td>60.73</td><td>90.46599703606127</td><td>2019</td><td>Qorvo Inc</td></tr><tr><td>LULU</td><td>231.14</td><td>121.61</td><td>90.06660636460816</td><td>2019</td><td>Lululemon Athletica</td></tr><tr><td>CPRT</td><td>90.74</td><td>47.78</td><td>89.91209711176222</td><td>2019</td><td>Copart Inc</td></tr><tr><td>ASML</td><td>294.98</td><td>155.62</td><td>89.55147153322196</td><td>2019</td><td>Asml Hld NY Reg</td></tr><tr><td>LITE</td><td>79.21</td><td>42.01</td><td>88.55034515591525</td><td>2019</td><td>Lumentum Hld</td></tr><tr><td>MANH</td><td>79.31</td><td>42.37</td><td>87.18432853434035</td><td>2019</td><td>Manhattan Assoc</td></tr><tr><td>AMWD</td><td>104.01</td><td>55.68</td><td>86.79956896551725</td><td>2019</td><td>Amer Woodmark Cp</td></tr><tr><td>UFPI</td><td>48.2</td><td>25.96</td><td>85.67026194144839</td><td>2019</td><td>Universal Forest Prd</td></tr><tr><td>AMAT</td><td>60.68</td><td>32.74</td><td>85.33903481979229</td><td>2019</td><td>Applied Materials</td></tr><tr><td>AAPL</td><td>290.2</td><td>157.74</td><td>83.97362748827182</td><td>2019</td><td>Apple Inc</td></tr><tr><td>DOCU</td><td>73.67</td><td>40.08</td><td>83.80738522954093</td><td>2019</td><td>Docusign Inc</td></tr><tr><td>APPF</td><td>108.51</td><td>59.22</td><td>83.23201621073963</td><td>2019</td><td>Appfolio Cl A</td></tr><tr><td>ALLK</td><td>95.77</td><td>52.27</td><td>83.22173330782473</td><td>2019</td><td>Allakos Inc</td></tr><tr><td>FRPT</td><td>58.18</td><td>32.16</td><td>80.90796019900499</td><td>2019</td><td>Freshpet Inc CS</td></tr></tbody></table>\n",
       "     "
      ]
     },
     "metadata": {},
     "output_type": "display_data"
    }
   ],
   "source": [
    "overYearDFWithNames.filter($\"year\" === 2019)\n",
    "    .filter($\"start_of_period\" > 20)\n",
    "    .orderBy($\"diff_percentage\".desc).display"
   ]
  },
  {
   "cell_type": "code",
   "execution_count": 64,
   "metadata": {},
   "outputs": [
    {
     "data": {
      "text/html": [
       "<link rel=\"stylesheet\" type=\"text/css\" href=\"https://producteng.builds.test.netflix.net/job/boson-v2-master/lastSuccessfulBuild/artifact/boson-viz-display/src/main/resources/notebooks.css\" />\n",
       "<script type=\"application/javascript\" src=\"https://producteng.builds.test.netflix.net/job/boson-v2-master/lastSuccessfulBuild/artifact/boson-viz-display/src/main/resources/notebooks.js\"></script>\n",
       "<table class=\"product-collection\"><thead><tr><th>ticker</th><th>end_of_period</th><th>start_of_period</th><th>diff_percentage</th><th>year</th><th>name</th></tr></thead><tbody><tr><td>TNDM</td><td>37.8</td><td>2.36</td><td>1501.6949152542372</td><td>2018</td><td>Tandem Diabetes Care</td></tr><tr><td>TVIX</td><td>72.5</td><td>5.54</td><td>1208.6642599277977</td><td>2018</td><td>VS 2X VIX Short Term</td></tr><tr><td>AKER</td><td>1.35</td><td>0.13</td><td>938.4615384615385</td><td>2018</td><td>Akers Biosciences</td></tr><tr><td>UGLD</td><td>94.88</td><td>11.14</td><td>751.7055655296228</td><td>2018</td><td>VS 3X Gold</td></tr><tr><td>HEAR</td><td>14.53</td><td>1.8</td><td>707.2222222222221</td><td>2018</td><td>Turtle Beach Corp</td></tr><tr><td>USLV</td><td>72.45</td><td>11.61</td><td>524.031007751938</td><td>2018</td><td>VS 3X Silver</td></tr><tr><td>PRQR</td><td>15.59</td><td>3.225</td><td>383.41085271317826</td><td>2018</td><td>Proqr Therapeutics</td></tr><tr><td>AMRN</td><td>13.47</td><td>4.01</td><td>235.91022443890276</td><td>2018</td><td>Amarin Corp Ads</td></tr><tr><td>ARWR</td><td>12.16</td><td>3.68</td><td>230.43478260869566</td><td>2018</td><td>Arrowhead Pharma</td></tr><tr><td>CDNA</td><td>23.72</td><td>7.34</td><td>223.1607629427793</td><td>2018</td><td>Caredx Inc</td></tr><tr><td>VCEL</td><td>17.4</td><td>5.45</td><td>219.26605504587155</td><td>2018</td><td>Vericel Corproation</td></tr><tr><td>AMSC</td><td>11.19</td><td>3.63</td><td>208.26446280991738</td><td>2018</td><td>Amer Superconductor</td></tr><tr><td>SHSP</td><td>13.24</td><td>4.4</td><td>200.90909090909088</td><td>2018</td><td>Sharpspring Inc</td></tr><tr><td>PACB</td><td>7.4</td><td>2.64</td><td>180.30303030303028</td><td>2018</td><td>Pacific Biosciences</td></tr><tr><td>MDB</td><td>81.99</td><td>29.68</td><td>176.24663072776278</td><td>2018</td><td>Mongodb Inc Cl A</td></tr><tr><td>LFVN</td><td>13.04</td><td>4.76</td><td>173.94957983193277</td><td>2018</td><td>Lifevantage Cp</td></tr><tr><td>CATS</td><td>9.73</td><td>3.75</td><td>159.46666666666667</td><td>2018</td><td>Catasys Inc</td></tr><tr><td>RFIL</td><td>6.96</td><td>2.7</td><td>157.77777777777774</td><td>2018</td><td>RF Industries Ltd</td></tr><tr><td>TTD</td><td>116.09</td><td>45.73</td><td>153.8596107588017</td><td>2018</td><td>Trade Desk Inc</td></tr><tr><td>INSG</td><td>4.05</td><td>1.61</td><td>151.55279503105587</td><td>2018</td><td>Inseego Corp</td></tr><tr><td>VKTXW</td><td>6.23</td><td>2.53</td><td>146.2450592885376</td><td>2018</td><td>Viking Theraptcs WT</td></tr><tr><td>OKTA</td><td>62.66</td><td>25.61</td><td>144.67005076142132</td><td>2018</td><td>Okta Inc Cl A</td></tr><tr><td>AFMD</td><td>3.16</td><td>1.3</td><td>143.07692307692307</td><td>2018</td><td>Affimed N.V.</td></tr><tr><td>NBEV</td><td>5.25</td><td>2.17</td><td>141.93548387096774</td><td>2018</td><td>New Age Beverages Corp</td></tr><tr><td>ETSY</td><td>47.9</td><td>20.45</td><td>134.22982885085574</td><td>2018</td><td>Etsy Inc</td></tr><tr><td>SSKN</td><td>2.85</td><td>1.23</td><td>131.70731707317074</td><td>2018</td><td>Strata Skin Scien</td></tr><tr><td>MRTX</td><td>42.12</td><td>18.25</td><td>130.79452054794518</td><td>2018</td><td>Mirati Therapeutics</td></tr><tr><td>TRHC</td><td>63.1</td><td>28.05</td><td>124.9554367201426</td><td>2018</td><td>Tabula Rasa Healthcare Inc</td></tr><tr><td>GLUU</td><td>8.05</td><td>3.64</td><td>121.15384615384615</td><td>2018</td><td>Glu Mobile Inc</td></tr><tr><td>CSBR</td><td>8.55</td><td>3.88</td><td>120.36082474226805</td><td>2018</td><td>Champions Oncolog</td></tr><tr><td>AMED</td><td>115.85</td><td>52.71</td><td>119.78751660026559</td><td>2018</td><td>Amedisys Inc</td></tr><tr><td>SMTX</td><td>4.1</td><td>1.89</td><td>116.93121693121694</td><td>2018</td><td>Smtc Corp</td></tr><tr><td>REGI</td><td>25.42</td><td>11.8</td><td>115.42372881355934</td><td>2018</td><td>Renewable Energy</td></tr><tr><td>CROX</td><td>26.93</td><td>12.64</td><td>113.05379746835442</td><td>2018</td><td>Crocs Inc</td></tr><tr><td>EHTH</td><td>36.7</td><td>17.37</td><td>111.28382268278642</td><td>2018</td><td>Ehealth Inc</td></tr><tr><td>FOSL</td><td>16.4</td><td>7.77</td><td>111.06821106821106</td><td>2018</td><td>Fossil Group</td></tr><tr><td>SSTI</td><td>29.63</td><td>14.05</td><td>110.88967971530248</td><td>2018</td><td>Shotspotter Inc</td></tr><tr><td>XENE</td><td>5.95</td><td>2.825</td><td>110.61946902654867</td><td>2018</td><td>Xenon Pharmaceuticals Inc</td></tr><tr><td>DXCM</td><td>119.22</td><td>57.39</td><td>107.73653946680606</td><td>2018</td><td>Dexcom</td></tr><tr><td>STAA</td><td>31.68</td><td>15.5</td><td>104.38709677419355</td><td>2018</td><td>Staar Surgical Company</td></tr><tr><td>BLFS</td><td>12.21</td><td>6.0</td><td>103.50000000000001</td><td>2018</td><td>Biolife Solutions</td></tr><tr><td>COUP</td><td>63.25</td><td>31.22</td><td>102.59449071108264</td><td>2018</td><td>Coupa Software Inc</td></tr><tr><td>KALV</td><td>19.7</td><td>9.75</td><td>102.05128205128204</td><td>2018</td><td>Kalvista Pharmaceuticals Inc</td></tr><tr><td>LTRPB</td><td>18.93</td><td>9.4</td><td>101.38297872340425</td><td>2018</td><td>Liberty Tripadv B</td></tr><tr><td>RIBT</td><td>2.98</td><td>1.48</td><td>101.35135135135135</td><td>2018</td><td>Ricebran Technologie</td></tr><tr><td>ACMR</td><td>10.55</td><td>5.25</td><td>100.95238095238098</td><td>2018</td><td>Acm Research Inc</td></tr><tr><td>ENPH</td><td>4.84</td><td>2.41</td><td>100.82987551867217</td><td>2018</td><td>Enphase Energy Inc</td></tr><tr><td>FATE</td><td>12.21</td><td>6.11</td><td>99.83633387888707</td><td>2018</td><td>Fate Therapeutics</td></tr><tr><td>FNKO</td><td>13.28</td><td>6.65</td><td>99.69924812030074</td><td>2018</td><td>Funko Inc Cl A</td></tr><tr><td>CDXS</td><td>16.67</td><td>8.35</td><td>99.64071856287427</td><td>2018</td><td>Codexis Inc</td></tr></tbody></table>\n",
       "     "
      ]
     },
     "metadata": {},
     "output_type": "display_data"
    }
   ],
   "source": [
    "overYearDFWithNames.filter($\"year\" === 2018)\n",
    "    .orderBy($\"diff_percentage\".desc).display"
   ]
  },
  {
   "cell_type": "code",
   "execution_count": 59,
   "metadata": {},
   "outputs": [
    {
     "name": "stdout",
     "output_type": "stream",
     "text": [
      "\r",
      "[Stage 207:==================================>                      (3 + 2) / 5]"
     ]
    },
    {
     "data": {
      "text/plain": [
       "ticks = Array(ABMD, MTCH, VICR, FFWM, CARO, MKTX, ERI, MPWR, CWST, SIMO, BLFS, ZBRA, SHEN, EXPO, CEVA, LMAT, LULU, NVDA, SBBX, WIX, FIVE, BOOM, MRCY, UPLD, ADSK, AEIS, AZPN, PDEX, CDW, AVGO, PCTY, MMAC, FSBW, AMED, FIVN, MASI, VRSN, CYRXW, NFLX, ADBE, NSSC, WING, SKYW, LUNA, FSFG, TBK, APPF, MRTX, PATK, LHCG, PEGA, AMRN, AMZN, POOL, KTOS)\n"
      ]
     },
     "metadata": {},
     "output_type": "display_data"
    },
    {
     "data": {
      "text/plain": [
       "[ABMD, MTCH, VICR, FFWM, CARO, MKTX, ERI, MPWR, CWST, SIMO, BLFS, ZBRA, SHEN, EXPO, CEVA, LMAT, LULU, NVDA, SBBX, WIX, FIVE, BOOM, MRCY, UPLD, ADSK, AEIS, AZPN, PDEX, CDW, AVGO, PCTY, MMAC, FSBW, AMED, FIVN, MASI, VRSN, CYRXW, NFLX, ADBE, NSSC, WING, SKYW, LUNA, FSFG, TBK, APPF, MRTX, PATK, LHCG, PEGA, AMRN, AMZN, POOL, KTOS]"
      ]
     },
     "execution_count": 59,
     "metadata": {},
     "output_type": "execute_result"
    }
   ],
   "source": [
    "val ticks = overYearDF.filter($\"diff_percentage\" > 20)\n",
    "    .groupBy(\"ticker\")\n",
    "    .count\n",
    "    .filter($\"count\" > 3)\n",
    "    .select(\"ticker\")\n",
    "    .collect.map(_.getAs[String](\"ticker\"))"
   ]
  },
  {
   "cell_type": "code",
   "execution_count": 60,
   "metadata": {},
   "outputs": [
    {
     "name": "stdout",
     "output_type": "stream",
     "text": [
      "\r",
      "[Stage 214:=============================================>           (4 + 1) / 5]"
     ]
    },
    {
     "data": {
      "text/html": [
       "\n",
       "  <iframe id=\"frame-vegas-2e749511-9ae9-486b-9cf7-101b922cac82\" sandbox=\"allow-scripts allow-same-origin\" style=\"border: none; width: 100%\" srcdoc=\"&lt;html&gt;\n",
       "  &lt;head&gt;\n",
       "    &lt;script src=&quot;https://cdn.jsdelivr.net/webjars/org.webjars.bower/d3/3.5.17/d3.min.js&quot; charset=&quot;utf-8&quot;&gt;&lt;/script&gt;\n",
       "&lt;script src=&quot;https://cdn.jsdelivr.net/webjars/org.webjars.bower/vega/2.6.3/vega.min.js&quot; charset=&quot;utf-8&quot;&gt;&lt;/script&gt;\n",
       "&lt;script src=&quot;https://cdn.jsdelivr.net/webjars/org.webjars.bower/vega-lite/1.2.0/vega-lite.min.js&quot; charset=&quot;utf-8&quot;&gt;&lt;/script&gt;\n",
       "&lt;script src=&quot;https://vega.github.io/vega-editor/vendor/vega-embed.js&quot; charset=&quot;utf-8&quot;&gt;&lt;/script&gt;\n",
       "  &lt;/head&gt;\n",
       "  &lt;body&gt;\n",
       " &lt;div id='vegas-2e749511-9ae9-486b-9cf7-101b922cac82'&gt;&lt;/div&gt;\n",
       " &lt;script&gt;\n",
       "   var embedSpec = {\n",
       "     mode: &quot;vega-lite&quot;,\n",
       "     spec: {\n",
       "  &quot;mark&quot; : &quot;line&quot;,\n",
       "  &quot;encoding&quot; : {\n",
       "    &quot;x&quot; : {\n",
       "      &quot;field&quot; : &quot;year&quot;,\n",
       "      &quot;type&quot; : &quot;ordinal&quot;\n",
       "    },\n",
       "    &quot;y&quot; : {\n",
       "      &quot;scale&quot; : {\n",
       "        &quot;domain&quot; : [\n",
       "          -30.0,\n",
       "          200.0\n",
       "        ]\n",
       "      },\n",
       "      &quot;field&quot; : &quot;diff_percentage&quot;,\n",
       "      &quot;type&quot; : &quot;quantitative&quot;\n",
       "    },\n",
       "    &quot;color&quot; : {\n",
       "      &quot;field&quot; : &quot;ticker&quot;,\n",
       "      &quot;type&quot; : &quot;nominal&quot;\n",
       "    }\n",
       "  },\n",
       "  &quot;description&quot; : &quot;Quotes Data&quot;,\n",
       "  &quot;data&quot; : {\n",
       "    &quot;values&quot; : [\n",
       "      {\n",
       "        &quot;start_of_period&quot; : 38.06,\n",
       "        &quot;end_of_period&quot; : 91.55,\n",
       "        &quot;year&quot; : 2015,\n",
       "        &quot;diff_percentage&quot; : 140.54125065685756,\n",
       "        &quot;ticker&quot; : &quot;ABMD&quot;\n",
       "      },\n",
       "      {\n",
       "        &quot;start_of_period&quot; : 13.99,\n",
       "        &quot;end_of_period&quot; : 18.06,\n",
       "        &quot;year&quot; : 2015,\n",
       "        &quot;diff_percentage&quot; : 29.09220872051464,\n",
       "        &quot;ticker&quot; : &quot;CARO&quot;\n",
       "      },\n",
       "      {\n",
       "        &quot;start_of_period&quot; : 4.04,\n",
       "        &quot;end_of_period&quot; : 6.05,\n",
       "        &quot;year&quot; : 2015,\n",
       "        &quot;diff_percentage&quot; : 49.75247524752475,\n",
       "        &quot;ticker&quot; : &quot;CWST&quot;\n",
       "      },\n",
       "      {\n",
       "        &quot;start_of_period&quot; : 4.05,\n",
       "        &quot;end_of_period&quot; : 11.06,\n",
       "        &quot;year&quot; : 2015,\n",
       "        &quot;diff_percentage&quot; : 173.08641975308646,\n",
       "        &quot;ticker&quot; : &quot;ERI&quot;\n",
       "      },\n",
       "      {\n",
       "        &quot;start_of_period&quot; : 9.07,\n",
       "        &quot;end_of_period&quot; : 11.75,\n",
       "        &quot;year&quot; : 2015,\n",
       "        &quot;diff_percentage&quot; : 29.54796030871003,\n",
       "        &quot;ticker&quot; : &quot;FFWM&quot;\n",
       "      },\n",
       "      {\n",
       "        &quot;start_of_period&quot; : 71.71,\n",
       "        &quot;end_of_period&quot; : 112.75,\n",
       "        &quot;year&quot; : 2015,\n",
       "        &quot;diff_percentage&quot; : 57.23051178357274,\n",
       "        &quot;ticker&quot; : &quot;MKTX&quot;\n",
       "      },\n",
       "      {\n",
       "        &quot;start_of_period&quot; : 49.74,\n",
       "        &quot;end_of_period&quot; : 64.54,\n",
       "        &quot;year&quot; : 2015,\n",
       "        &quot;diff_percentage&quot; : 29.754724567752323,\n",
       "        &quot;ticker&quot; : &quot;MPWR&quot;\n",
       "      },\n",
       "      {\n",
       "        &quot;start_of_period&quot; : 23.65,\n",
       "        &quot;end_of_period&quot; : 31.79,\n",
       "        &quot;year&quot; : 2015,\n",
       "        &quot;diff_percentage&quot; : 34.418604651162795,\n",
       "        &quot;ticker&quot; : &quot;SIMO&quot;\n",
       "      },\n",
       "      {\n",
       "        &quot;start_of_period&quot; : 12.1,\n",
       "        &quot;end_of_period&quot; : 8.96,\n",
       "        &quot;year&quot; : 2015,\n",
       "        &quot;diff_percentage&quot; : -25.95041322314049,\n",
       "        &quot;ticker&quot; : &quot;VICR&quot;\n",
       "      },\n",
       "      {\n",
       "        &quot;start_of_period&quot; : 90.28,\n",
       "        &quot;end_of_period&quot; : 112.68,\n",
       "        &quot;year&quot; : 2016,\n",
       "        &quot;diff_percentage&quot; : 24.811696942844492,\n",
       "        &quot;ticker&quot; : &quot;ABMD&quot;\n",
       "      },\n",
       "      {\n",
       "        &quot;start_of_period&quot; : 18.0,\n",
       "        &quot;end_of_period&quot; : 30.79,\n",
       "        &quot;year&quot; : 2016,\n",
       "        &quot;diff_percentage&quot; : 71.05555555555554,\n",
       "        &quot;ticker&quot; : &quot;CARO&quot;\n",
       "      },\n",
       "      {\n",
       "        &quot;start_of_period&quot; : 5.98,\n",
       "        &quot;end_of_period&quot; : 12.41,\n",
       "        &quot;year&quot; : 2016,\n",
       "        &quot;diff_percentage&quot; : 107.52508361204012,\n",
       "        &quot;ticker&quot; : &quot;CWST&quot;\n",
       "      },\n",
       "      {\n",
       "        &quot;start_of_period&quot; : 11.0,\n",
       "        &quot;end_of_period&quot; : 16.95,\n",
       "        &quot;year&quot; : 2016,\n",
       "        &quot;diff_percentage&quot; : 54.090909090909086,\n",
       "        &quot;ticker&quot; : &quot;ERI&quot;\n",
       "      },\n",
       "      {\n",
       "        &quot;start_of_period&quot; : 11.795,\n",
       "        &quot;end_of_period&quot; : 14.25,\n",
       "        &quot;year&quot; : 2016,\n",
       "        &quot;diff_percentage&quot; : 20.813904196693514,\n",
       "        &quot;ticker&quot; : &quot;FFWM&quot;\n",
       "      },\n",
       "      {\n",
       "        &quot;start_of_period&quot; : 111.59,\n",
       "        &quot;end_of_period&quot; : 146.92,\n",
       "        &quot;year&quot; : 2016,\n",
       "        &quot;diff_percentage&quot; : 31.66054305941391,\n",
       "        &quot;ticker&quot; : &quot;MKTX&quot;\n",
       "      },\n",
       "      {\n",
       "        &quot;start_of_period&quot; : 63.71,\n",
       "        &quot;end_of_period&quot; : 81.93,\n",
       "        &quot;year&quot; : 2016,\n",
       "        &quot;diff_percentage&quot; : 28.598336210955903,\n",
       "        &quot;ticker&quot; : &quot;MPWR&quot;\n",
       "      },\n",
       "      {\n",
       "        &quot;start_of_period&quot; : 13.55,\n",
       "        &quot;end_of_period&quot; : 17.1,\n",
       "        &quot;year&quot; : 2016,\n",
       "        &quot;diff_percentage&quot; : 26.19926199261993,\n",
       "        &quot;ticker&quot; : &quot;MTCH&quot;\n",
       "      },\n",
       "      {\n",
       "        &quot;start_of_period&quot; : 31.36,\n",
       "        &quot;end_of_period&quot; : 42.48,\n",
       "        &quot;year&quot; : 2016,\n",
       "        &quot;diff_percentage&quot; : 35.45918367346938,\n",
       "        &quot;ticker&quot; : &quot;SIMO&quot;\n",
       "      },\n",
       "      {\n",
       "        &quot;start_of_period&quot; : 9.12,\n",
       "        &quot;end_of_period&quot; : 15.1,\n",
       "        &quot;year&quot; : 2016,\n",
       "        &quot;diff_percentage&quot; : 65.57017543859651,\n",
       "        &quot;ticker&quot; : &quot;VICR&quot;\n",
       "      },\n",
       "      {\n",
       "        &quot;start_of_period&quot; : 112.68,\n",
       "        &quot;end_of_period&quot; : 187.41,\n",
       "        &quot;year&quot; : 2017,\n",
       "        &quot;diff_percentage&quot; : 66.32055378061766,\n",
       "        &quot;ticker&quot; : &quot;ABMD&quot;\n",
       "      },\n",
       "      {\n",
       "        &quot;start_of_period&quot; : 30.79,\n",
       "        &quot;end_of_period&quot; : 37.15,\n",
       "        &quot;year&quot; : 2017,\n",
       "        &quot;diff_percentage&quot; : 20.65605716141604,\n",
       "        &quot;ticker&quot; : &quot;CARO&quot;\n",
       "      },\n",
       "      {\n",
       "        &quot;start_of_period&quot; : 12.41,\n",
       "        &quot;end_of_period&quot; : 23.02,\n",
       "        &quot;year&quot; : 2017,\n",
       "        &quot;diff_percentage&quot; : 85.49556809024979,\n",
       "        &quot;ticker&quot; : &quot;CWST&quot;\n",
       "      },\n",
       "      {\n",
       "        &quot;start_of_period&quot; : 16.95,\n",
       "        &quot;end_of_period&quot; : 33.15,\n",
       "        &quot;year&quot; : 2017,\n",
       "        &quot;diff_percentage&quot; : 95.57522123893806,\n",
       "        &quot;ticker&quot; : &quot;ERI&quot;\n",
       "      },\n",
       "      {\n",
       "        &quot;start_of_period&quot; : 14.25,\n",
       "        &quot;end_of_period&quot; : 18.54,\n",
       "        &quot;year&quot; : 2017,\n",
       "        &quot;diff_percentage&quot; : 30.10526315789473,\n",
       "        &quot;ticker&quot; : &quot;FFWM&quot;\n",
       "      },\n",
       "      {\n",
       "        &quot;start_of_period&quot; : 146.92,\n",
       "        &quot;end_of_period&quot; : 201.75,\n",
       "        &quot;year&quot; : 2017,\n",
       "        &quot;diff_percentage&quot; : 37.31962973046557,\n",
       "        &quot;ticker&quot; : &quot;MKTX&quot;\n",
       "      },\n",
       "      {\n",
       "        &quot;start_of_period&quot; : 81.93,\n",
       "        &quot;end_of_period&quot; : 112.36,\n",
       "        &quot;year&quot; : 2017,\n",
       "        &quot;diff_percentage&quot; : 37.141462223849615,\n",
       "        &quot;ticker&quot; : &quot;MPWR&quot;\n",
       "      },\n",
       "      {\n",
       "        &quot;start_of_period&quot; : 17.1,\n",
       "        &quot;end_of_period&quot; : 31.31,\n",
       "        &quot;year&quot; : 2017,\n",
       "        &quot;diff_percentage&quot; : 83.09941520467834,\n",
       "        &quot;ticker&quot; : &quot;MTCH&quot;\n",
       "      },\n",
       "      {\n",
       "        &quot;start_of_period&quot; : 42.48,\n",
       "        &quot;end_of_period&quot; : 52.96,\n",
       "        &quot;year&quot; : 2017,\n",
       "        &quot;diff_percentage&quot; : 24.670433145009426,\n",
       "        &quot;ticker&quot; : &quot;SIMO&quot;\n",
       "      },\n",
       "      {\n",
       "        &quot;start_of_period&quot; : 15.1,\n",
       "        &quot;end_of_period&quot; : 20.9,\n",
       "        &quot;year&quot; : 2017,\n",
       "        &quot;diff_percentage&quot; : 38.41059602649006,\n",
       "        &quot;ticker&quot; : &quot;VICR&quot;\n",
       "      },\n",
       "      {\n",
       "        &quot;start_of_period&quot; : 187.41,\n",
       "        &quot;end_of_period&quot; : 320.3,\n",
       "        &quot;year&quot; : 2018,\n",
       "        &quot;diff_percentage&quot; : 70.90870284403181,\n",
       "        &quot;ticker&quot; : &quot;ABMD&quot;\n",
       "      },\n",
       "      {\n",
       "        &quot;start_of_period&quot; : 37.15,\n",
       "        &quot;end_of_period&quot; : 29.76,\n",
       "        &quot;year&quot; : 2018,\n",
       "        &quot;diff_percentage&quot; : -19.89232839838492,\n",
       "        &quot;ticker&quot; : &quot;CARO&quot;\n",
       "      },\n",
       "      {\n",
       "        &quot;start_of_period&quot; : 23.02,\n",
       "        &quot;end_of_period&quot; : 28.22,\n",
       "        &quot;year&quot; : 2018,\n",
       "        &quot;diff_percentage&quot; : 22.58905299739357,\n",
       "        &quot;ticker&quot; : &quot;CWST&quot;\n",
       "      },\n",
       "      {\n",
       "        &quot;start_of_period&quot; : 33.15,\n",
       "        &quot;end_of_period&quot; : 36.08,\n",
       "        &quot;year&quot; : 2018,\n",
       "        &quot;diff_percentage&quot; : 8.838612368024132,\n",
       "        &quot;ticker&quot; : &quot;ERI&quot;\n",
       "      },\n",
       "      {\n",
       "        &quot;start_of_period&quot; : 18.54,\n",
       "        &quot;end_of_period&quot; : 12.86,\n",
       "        &quot;year&quot; : 2018,\n",
       "        &quot;diff_percentage&quot; : -30.636461704422867,\n",
       "        &quot;ticker&quot; : &quot;FFWM&quot;\n",
       "      },\n",
       "      {\n",
       "        &quot;start_of_period&quot; : 201.75,\n",
       "        &quot;end_of_period&quot; : 208.63,\n",
       "        &quot;year&quot; : 2018,\n",
       "        &quot;diff_percentage&quot; : 3.4101610904584865,\n",
       "        &quot;ticker&quot; : &quot;MKTX&quot;\n",
       "      },\n",
       "      {\n",
       "        &quot;start_of_period&quot; : 112.36,\n",
       "        &quot;end_of_period&quot; : 116.13,\n",
       "        &quot;year&quot; : 2018,\n",
       "        &quot;diff_percentage&quot; : 3.3552865788536814,\n",
       "        &quot;ticker&quot; : &quot;MPWR&quot;\n",
       "      },\n",
       "      {\n",
       "        &quot;start_of_period&quot; : 31.31,\n",
       "        &quot;end_of_period&quot; : 42.39,\n",
       "        &quot;year&quot; : 2018,\n",
       "        &quot;diff_percentage&quot; : 35.38805493452572,\n",
       "        &quot;ticker&quot; : &quot;MTCH&quot;\n",
       "      },\n",
       "      {\n",
       "        &quot;start_of_period&quot; : 52.96,\n",
       "        &quot;end_of_period&quot; : 34.91,\n",
       "        &quot;year&quot; : 2018,\n",
       "        &quot;diff_percentage&quot; : -34.082326283987925,\n",
       "        &quot;ticker&quot; : &quot;SIMO&quot;\n",
       "      },\n",
       "      {\n",
       "        &quot;start_of_period&quot; : 20.9,\n",
       "        &quot;end_of_period&quot; : 37.78,\n",
       "        &quot;year&quot; : 2018,\n",
       "        &quot;diff_percentage&quot; : 80.76555023923446,\n",
       "        &quot;ticker&quot; : &quot;VICR&quot;\n",
       "      },\n",
       "      {\n",
       "        &quot;start_of_period&quot; : 325.04,\n",
       "        &quot;end_of_period&quot; : 167.33,\n",
       "        &quot;year&quot; : 2019,\n",
       "        &quot;diff_percentage&quot; : -48.520182131429976,\n",
       "        &quot;ticker&quot; : &quot;ABMD&quot;\n",
       "      },\n",
       "      {\n",
       "        &quot;start_of_period&quot; : 29.59,\n",
       "        &quot;end_of_period&quot; : 43.2,\n",
       "        &quot;year&quot; : 2019,\n",
       "        &quot;diff_percentage&quot; : 45.99526867184861,\n",
       "        &quot;ticker&quot; : &quot;CARO&quot;\n",
       "      },\n",
       "      {\n",
       "        &quot;start_of_period&quot; : 28.49,\n",
       "        &quot;end_of_period&quot; : 45.75,\n",
       "        &quot;year&quot; : 2019,\n",
       "        &quot;diff_percentage&quot; : 60.582660582660594,\n",
       "        &quot;ticker&quot; : &quot;CWST&quot;\n",
       "      },\n",
       "      {\n",
       "        &quot;start_of_period&quot; : 36.21,\n",
       "        &quot;end_of_period&quot; : 58.86,\n",
       "        &quot;year&quot; : 2019,\n",
       "        &quot;diff_percentage&quot; : 62.551781275890626,\n",
       "        &quot;ticker&quot; : &quot;ERI&quot;\n",
       "      },\n",
       "      {\n",
       "        &quot;start_of_period&quot; : 12.86,\n",
       "        &quot;end_of_period&quot; : 17.41,\n",
       "        &quot;year&quot; : 2019,\n",
       "        &quot;diff_percentage&quot; : 35.381026438569215,\n",
       "        &quot;ticker&quot; : &quot;FFWM&quot;\n",
       "      },\n",
       "      {\n",
       "        &quot;start_of_period&quot; : 211.31,\n",
       "        &quot;end_of_period&quot; : 374.48,\n",
       "        &quot;year&quot; : 2019,\n",
       "        &quot;diff_percentage&quot; : 77.21830486015807,\n",
       "        &quot;ticker&quot; : &quot;MKTX&quot;\n",
       "      },\n",
       "      {\n",
       "        &quot;start_of_period&quot; : 116.25,\n",
       "        &quot;end_of_period&quot; : 178.06,\n",
       "        &quot;year&quot; : 2019,\n",
       "        &quot;diff_percentage&quot; : 53.16989247311829,\n",
       "        &quot;ticker&quot; : &quot;MPWR&quot;\n",
       "      },\n",
       "      {\n",
       "        &quot;start_of_period&quot; : 42.77,\n",
       "        &quot;end_of_period&quot; : 82.94,\n",
       "        &quot;year&quot; : 2019,\n",
       "        &quot;diff_percentage&quot; : 93.92097264437687,\n",
       "        &quot;ticker&quot; : &quot;MTCH&quot;\n",
       "      },\n",
       "      {\n",
       "        &quot;start_of_period&quot; : 34.5,\n",
       "        &quot;end_of_period&quot; : 50.04,\n",
       "        &quot;year&quot; : 2019,\n",
       "        &quot;diff_percentage&quot; : 45.04347826086956,\n",
       "        &quot;ticker&quot; : &quot;SIMO&quot;\n",
       "      },\n",
       "      {\n",
       "        &quot;start_of_period&quot; : 37.79,\n",
       "        &quot;end_of_period&quot; : 45.7,\n",
       "        &quot;year&quot; : 2019,\n",
       "        &quot;diff_percentage&quot; : 20.931463350092628,\n",
       "        &quot;ticker&quot; : &quot;VICR&quot;\n",
       "      }\n",
       "    ]\n",
       "  }\n",
       "}\n",
       "   }\n",
       "   vg.embed(&quot;#vegas-2e749511-9ae9-486b-9cf7-101b922cac82&quot;, embedSpec, function(error, result) {});\n",
       " &lt;/script&gt;\n",
       "\n",
       "    &lt;/body&gt;\n",
       "&lt;/html&gt;\"></iframe>\n",
       "  <script>\n",
       "    (function() {\n",
       "      function resizeIFrame(el, k) {\n",
       "        var height = el.contentWindow.document.body.scrollHeight || '400'; // Fallback in case of no scroll height\n",
       "        el.style.height = height + 'px';\n",
       "        if (k <= 10) { setTimeout(function() { resizeIFrame(el, k+1) }, 1000 + (k * 250)) };\n",
       "      }\n",
       "      resizeIFrame(document.querySelector('#frame-vegas-2e749511-9ae9-486b-9cf7-101b922cac82'), 1);\n",
       "    })(); // IIFE\n",
       "  </script>\n",
       "    "
      ]
     },
     "metadata": {},
     "output_type": "display_data"
    }
   ],
   "source": [
    "Vegas(\"Quotes Data\").\n",
    "  withDataFrame(overYearDF.filter($\"ticker\".isin(ticks.take(10): _*))).\n",
    "  mark(Line).\n",
    "  encodeX(\"year\", Ordinal).\n",
    "  encodeY(\"diff_percentage\", Quantitative, scale=Scale(domainValues=List(-30.0, 200.0))).\n",
    "  encodeColor(\"ticker\", Nominal).\n",
    "  show"
   ]
  },
  {
   "cell_type": "code",
   "execution_count": 17,
   "metadata": {},
   "outputs": [
    {
     "name": "stdout",
     "output_type": "stream",
     "text": [
      "\r",
      "[Stage 309:==========================================>              (3 + 1) / 4]"
     ]
    },
    {
     "data": {
      "text/html": [
       "<link rel=\"stylesheet\" type=\"text/css\" href=\"https://producteng.builds.test.netflix.net/job/boson-v2-master/lastSuccessfulBuild/artifact/boson-viz-display/src/main/resources/notebooks.css\" />\n",
       "<script type=\"application/javascript\" src=\"https://producteng.builds.test.netflix.net/job/boson-v2-master/lastSuccessfulBuild/artifact/boson-viz-display/src/main/resources/notebooks.js\"></script>\n",
       "<table class=\"product-collection\"><thead><tr><th>ticker</th><th>end_of_period</th><th>start_of_period</th><th>diff_percentage</th><th>year</th></tr></thead><tbody><tr><td>AAPL</td><td>158.53</td><td>169.23</td><td>-6.322756012527324</td><td>2018</td></tr><tr><td>AMZN</td><td>1510.8</td><td>1169.47</td><td>29.186725610746745</td><td>2018</td></tr><tr><td>FB</td><td>134.45</td><td>176.46</td><td>-23.80709509237222</td><td>2018</td></tr><tr><td>GOOG</td><td>1050.96</td><td>1046.4</td><td>0.4357798165137562</td><td>2018</td></tr><tr><td>MSFT</td><td>101.29</td><td>85.54</td><td>18.41243862520458</td><td>2018</td></tr><tr><td>NFLX</td><td>260.16</td><td>191.96</td><td>35.52823504896854</td><td>2018</td></tr><tr><td>AAPL</td><td>290.2</td><td>157.74</td><td>83.97362748827182</td><td>2019</td></tr><tr><td>AMZN</td><td>1842.0</td><td>1501.97</td><td>22.63893419975099</td><td>2019</td></tr><tr><td>FB</td><td>203.995</td><td>131.09</td><td>55.61446334579296</td><td>2019</td></tr><tr><td>GOOG</td><td>1330.11</td><td>1035.61</td><td>28.437346105194045</td><td>2019</td></tr><tr><td>MSFT</td><td>156.77</td><td>101.57</td><td>54.34675593186967</td><td>2019</td></tr><tr><td>NFLX</td><td>322.0</td><td>267.66</td><td>20.301875513711416</td><td>2019</td></tr><tr><td>AAPL</td><td>107.01</td><td>110.38</td><td>-3.0530893277767626</td><td>2015</td></tr><tr><td>AMZN</td><td>686.08</td><td>310.35</td><td>121.06653777992588</td><td>2015</td></tr><tr><td>FB</td><td>106.0</td><td>78.02</td><td>35.862599333504235</td><td>2015</td></tr><tr><td>GOOG</td><td>769.5</td><td>526.4</td><td>46.18161094224924</td><td>2015</td></tr><tr><td>MSFT</td><td>56.04</td><td>46.45</td><td>20.645855758880508</td><td>2015</td></tr><tr><td>NFLX</td><td>116.21</td><td>48.8014</td><td>138.12841434876867</td><td>2015</td></tr><tr><td>AAPL</td><td>115.82</td><td>105.26</td><td>10.032300969029059</td><td>2016</td></tr><tr><td>AMZN</td><td>749.87</td><td>675.89</td><td>10.945568065809528</td><td>2016</td></tr><tr><td>FB</td><td>115.05</td><td>104.66</td><td>9.927383909803172</td><td>2016</td></tr><tr><td>GOOG</td><td>771.82</td><td>758.88</td><td>1.7051444233607493</td><td>2016</td></tr><tr><td>MSFT</td><td>62.14</td><td>55.48</td><td>12.004325883201162</td><td>2016</td></tr><tr><td>NFLX</td><td>123.8</td><td>114.38</td><td>8.235705542927088</td><td>2016</td></tr><tr><td>AAPL</td><td>169.23</td><td>115.82</td><td>46.114660680366086</td><td>2017</td></tr><tr><td>AMZN</td><td>1169.47</td><td>749.87</td><td>55.95636577006682</td><td>2017</td></tr><tr><td>FB</td><td>176.46</td><td>115.05</td><td>53.376792698826605</td><td>2017</td></tr><tr><td>GOOG</td><td>1046.4</td><td>771.82</td><td>35.575652354175844</td><td>2017</td></tr><tr><td>MSFT</td><td>85.54</td><td>62.14</td><td>37.65690376569039</td><td>2017</td></tr><tr><td>NFLX</td><td>191.96</td><td>123.8</td><td>55.05654281098546</td><td>2017</td></tr></tbody></table>\n",
       "     "
      ]
     },
     "metadata": {},
     "output_type": "display_data"
    }
   ],
   "source": [
    "fullDF\n",
    "    .filter($\"ticker\".isin(FAANG:_*))\n",
    "    .display()"
   ]
  },
  {
   "cell_type": "code",
   "execution_count": 22,
   "metadata": {},
   "outputs": [
    {
     "data": {
      "text/html": [
       "\n",
       "  <iframe id=\"frame-vegas-5bad3ed9-e081-47da-a9e2-a17a3c2eefdf\" sandbox=\"allow-scripts allow-same-origin\" style=\"border: none; width: 100%\" srcdoc=\"&lt;html&gt;\n",
       "  &lt;head&gt;\n",
       "    &lt;script src=&quot;https://cdn.jsdelivr.net/webjars/org.webjars.bower/d3/3.5.17/d3.min.js&quot; charset=&quot;utf-8&quot;&gt;&lt;/script&gt;\n",
       "&lt;script src=&quot;https://cdn.jsdelivr.net/webjars/org.webjars.bower/vega/2.6.3/vega.min.js&quot; charset=&quot;utf-8&quot;&gt;&lt;/script&gt;\n",
       "&lt;script src=&quot;https://cdn.jsdelivr.net/webjars/org.webjars.bower/vega-lite/1.2.0/vega-lite.min.js&quot; charset=&quot;utf-8&quot;&gt;&lt;/script&gt;\n",
       "&lt;script src=&quot;https://vega.github.io/vega-editor/vendor/vega-embed.js&quot; charset=&quot;utf-8&quot;&gt;&lt;/script&gt;\n",
       "  &lt;/head&gt;\n",
       "  &lt;body&gt;\n",
       " &lt;div id='vegas-5bad3ed9-e081-47da-a9e2-a17a3c2eefdf'&gt;&lt;/div&gt;\n",
       " &lt;script&gt;\n",
       "   var embedSpec = {\n",
       "     mode: &quot;vega-lite&quot;,\n",
       "     spec: {\n",
       "  &quot;mark&quot; : &quot;line&quot;,\n",
       "  &quot;encoding&quot; : {\n",
       "    &quot;x&quot; : {\n",
       "      &quot;field&quot; : &quot;year&quot;,\n",
       "      &quot;type&quot; : &quot;ordinal&quot;\n",
       "    },\n",
       "    &quot;y&quot; : {\n",
       "      &quot;scale&quot; : {\n",
       "        &quot;domain&quot; : [\n",
       "          -30.0,\n",
       "          200.0\n",
       "        ]\n",
       "      },\n",
       "      &quot;field&quot; : &quot;diff_percentage&quot;,\n",
       "      &quot;type&quot; : &quot;quantitative&quot;\n",
       "    },\n",
       "    &quot;color&quot; : {\n",
       "      &quot;field&quot; : &quot;ticker&quot;,\n",
       "      &quot;type&quot; : &quot;nominal&quot;\n",
       "    }\n",
       "  },\n",
       "  &quot;description&quot; : &quot;Quotes Data&quot;,\n",
       "  &quot;data&quot; : {\n",
       "    &quot;values&quot; : [\n",
       "      {\n",
       "        &quot;start_of_period&quot; : 169.23,\n",
       "        &quot;end_of_period&quot; : 158.53,\n",
       "        &quot;year&quot; : 2018,\n",
       "        &quot;diff_percentage&quot; : -6.322756012527324,\n",
       "        &quot;ticker&quot; : &quot;AAPL&quot;\n",
       "      },\n",
       "      {\n",
       "        &quot;start_of_period&quot; : 1169.47,\n",
       "        &quot;end_of_period&quot; : 1510.8,\n",
       "        &quot;year&quot; : 2018,\n",
       "        &quot;diff_percentage&quot; : 29.186725610746745,\n",
       "        &quot;ticker&quot; : &quot;AMZN&quot;\n",
       "      },\n",
       "      {\n",
       "        &quot;start_of_period&quot; : 176.46,\n",
       "        &quot;end_of_period&quot; : 134.45,\n",
       "        &quot;year&quot; : 2018,\n",
       "        &quot;diff_percentage&quot; : -23.80709509237222,\n",
       "        &quot;ticker&quot; : &quot;FB&quot;\n",
       "      },\n",
       "      {\n",
       "        &quot;start_of_period&quot; : 1046.4,\n",
       "        &quot;end_of_period&quot; : 1050.96,\n",
       "        &quot;year&quot; : 2018,\n",
       "        &quot;diff_percentage&quot; : 0.4357798165137562,\n",
       "        &quot;ticker&quot; : &quot;GOOG&quot;\n",
       "      },\n",
       "      {\n",
       "        &quot;start_of_period&quot; : 85.54,\n",
       "        &quot;end_of_period&quot; : 101.29,\n",
       "        &quot;year&quot; : 2018,\n",
       "        &quot;diff_percentage&quot; : 18.41243862520458,\n",
       "        &quot;ticker&quot; : &quot;MSFT&quot;\n",
       "      },\n",
       "      {\n",
       "        &quot;start_of_period&quot; : 191.96,\n",
       "        &quot;end_of_period&quot; : 260.16,\n",
       "        &quot;year&quot; : 2018,\n",
       "        &quot;diff_percentage&quot; : 35.52823504896854,\n",
       "        &quot;ticker&quot; : &quot;NFLX&quot;\n",
       "      },\n",
       "      {\n",
       "        &quot;start_of_period&quot; : 157.74,\n",
       "        &quot;end_of_period&quot; : 290.2,\n",
       "        &quot;year&quot; : 2019,\n",
       "        &quot;diff_percentage&quot; : 83.97362748827182,\n",
       "        &quot;ticker&quot; : &quot;AAPL&quot;\n",
       "      },\n",
       "      {\n",
       "        &quot;start_of_period&quot; : 1501.97,\n",
       "        &quot;end_of_period&quot; : 1842.0,\n",
       "        &quot;year&quot; : 2019,\n",
       "        &quot;diff_percentage&quot; : 22.63893419975099,\n",
       "        &quot;ticker&quot; : &quot;AMZN&quot;\n",
       "      },\n",
       "      {\n",
       "        &quot;start_of_period&quot; : 131.09,\n",
       "        &quot;end_of_period&quot; : 203.995,\n",
       "        &quot;year&quot; : 2019,\n",
       "        &quot;diff_percentage&quot; : 55.61446334579296,\n",
       "        &quot;ticker&quot; : &quot;FB&quot;\n",
       "      },\n",
       "      {\n",
       "        &quot;start_of_period&quot; : 1035.61,\n",
       "        &quot;end_of_period&quot; : 1330.11,\n",
       "        &quot;year&quot; : 2019,\n",
       "        &quot;diff_percentage&quot; : 28.437346105194045,\n",
       "        &quot;ticker&quot; : &quot;GOOG&quot;\n",
       "      },\n",
       "      {\n",
       "        &quot;start_of_period&quot; : 101.57,\n",
       "        &quot;end_of_period&quot; : 156.77,\n",
       "        &quot;year&quot; : 2019,\n",
       "        &quot;diff_percentage&quot; : 54.34675593186967,\n",
       "        &quot;ticker&quot; : &quot;MSFT&quot;\n",
       "      },\n",
       "      {\n",
       "        &quot;start_of_period&quot; : 267.66,\n",
       "        &quot;end_of_period&quot; : 322.0,\n",
       "        &quot;year&quot; : 2019,\n",
       "        &quot;diff_percentage&quot; : 20.301875513711416,\n",
       "        &quot;ticker&quot; : &quot;NFLX&quot;\n",
       "      },\n",
       "      {\n",
       "        &quot;start_of_period&quot; : 110.38,\n",
       "        &quot;end_of_period&quot; : 107.01,\n",
       "        &quot;year&quot; : 2015,\n",
       "        &quot;diff_percentage&quot; : -3.0530893277767626,\n",
       "        &quot;ticker&quot; : &quot;AAPL&quot;\n",
       "      },\n",
       "      {\n",
       "        &quot;start_of_period&quot; : 310.35,\n",
       "        &quot;end_of_period&quot; : 686.08,\n",
       "        &quot;year&quot; : 2015,\n",
       "        &quot;diff_percentage&quot; : 121.06653777992588,\n",
       "        &quot;ticker&quot; : &quot;AMZN&quot;\n",
       "      },\n",
       "      {\n",
       "        &quot;start_of_period&quot; : 78.02,\n",
       "        &quot;end_of_period&quot; : 106.0,\n",
       "        &quot;year&quot; : 2015,\n",
       "        &quot;diff_percentage&quot; : 35.862599333504235,\n",
       "        &quot;ticker&quot; : &quot;FB&quot;\n",
       "      },\n",
       "      {\n",
       "        &quot;start_of_period&quot; : 526.4,\n",
       "        &quot;end_of_period&quot; : 769.5,\n",
       "        &quot;year&quot; : 2015,\n",
       "        &quot;diff_percentage&quot; : 46.18161094224924,\n",
       "        &quot;ticker&quot; : &quot;GOOG&quot;\n",
       "      },\n",
       "      {\n",
       "        &quot;start_of_period&quot; : 46.45,\n",
       "        &quot;end_of_period&quot; : 56.04,\n",
       "        &quot;year&quot; : 2015,\n",
       "        &quot;diff_percentage&quot; : 20.645855758880508,\n",
       "        &quot;ticker&quot; : &quot;MSFT&quot;\n",
       "      },\n",
       "      {\n",
       "        &quot;start_of_period&quot; : 48.8014,\n",
       "        &quot;end_of_period&quot; : 116.21,\n",
       "        &quot;year&quot; : 2015,\n",
       "        &quot;diff_percentage&quot; : 138.12841434876867,\n",
       "        &quot;ticker&quot; : &quot;NFLX&quot;\n",
       "      },\n",
       "      {\n",
       "        &quot;start_of_period&quot; : 105.26,\n",
       "        &quot;end_of_period&quot; : 115.82,\n",
       "        &quot;year&quot; : 2016,\n",
       "        &quot;diff_percentage&quot; : 10.032300969029059,\n",
       "        &quot;ticker&quot; : &quot;AAPL&quot;\n",
       "      },\n",
       "      {\n",
       "        &quot;start_of_period&quot; : 675.89,\n",
       "        &quot;end_of_period&quot; : 749.87,\n",
       "        &quot;year&quot; : 2016,\n",
       "        &quot;diff_percentage&quot; : 10.945568065809528,\n",
       "        &quot;ticker&quot; : &quot;AMZN&quot;\n",
       "      },\n",
       "      {\n",
       "        &quot;start_of_period&quot; : 104.66,\n",
       "        &quot;end_of_period&quot; : 115.05,\n",
       "        &quot;year&quot; : 2016,\n",
       "        &quot;diff_percentage&quot; : 9.927383909803172,\n",
       "        &quot;ticker&quot; : &quot;FB&quot;\n",
       "      },\n",
       "      {\n",
       "        &quot;start_of_period&quot; : 758.88,\n",
       "        &quot;end_of_period&quot; : 771.82,\n",
       "        &quot;year&quot; : 2016,\n",
       "        &quot;diff_percentage&quot; : 1.7051444233607493,\n",
       "        &quot;ticker&quot; : &quot;GOOG&quot;\n",
       "      },\n",
       "      {\n",
       "        &quot;start_of_period&quot; : 55.48,\n",
       "        &quot;end_of_period&quot; : 62.14,\n",
       "        &quot;year&quot; : 2016,\n",
       "        &quot;diff_percentage&quot; : 12.004325883201162,\n",
       "        &quot;ticker&quot; : &quot;MSFT&quot;\n",
       "      },\n",
       "      {\n",
       "        &quot;start_of_period&quot; : 114.38,\n",
       "        &quot;end_of_period&quot; : 123.8,\n",
       "        &quot;year&quot; : 2016,\n",
       "        &quot;diff_percentage&quot; : 8.235705542927088,\n",
       "        &quot;ticker&quot; : &quot;NFLX&quot;\n",
       "      },\n",
       "      {\n",
       "        &quot;start_of_period&quot; : 115.82,\n",
       "        &quot;end_of_period&quot; : 169.23,\n",
       "        &quot;year&quot; : 2017,\n",
       "        &quot;diff_percentage&quot; : 46.114660680366086,\n",
       "        &quot;ticker&quot; : &quot;AAPL&quot;\n",
       "      },\n",
       "      {\n",
       "        &quot;start_of_period&quot; : 749.87,\n",
       "        &quot;end_of_period&quot; : 1169.47,\n",
       "        &quot;year&quot; : 2017,\n",
       "        &quot;diff_percentage&quot; : 55.95636577006682,\n",
       "        &quot;ticker&quot; : &quot;AMZN&quot;\n",
       "      },\n",
       "      {\n",
       "        &quot;start_of_period&quot; : 115.05,\n",
       "        &quot;end_of_period&quot; : 176.46,\n",
       "        &quot;year&quot; : 2017,\n",
       "        &quot;diff_percentage&quot; : 53.376792698826605,\n",
       "        &quot;ticker&quot; : &quot;FB&quot;\n",
       "      },\n",
       "      {\n",
       "        &quot;start_of_period&quot; : 771.82,\n",
       "        &quot;end_of_period&quot; : 1046.4,\n",
       "        &quot;year&quot; : 2017,\n",
       "        &quot;diff_percentage&quot; : 35.575652354175844,\n",
       "        &quot;ticker&quot; : &quot;GOOG&quot;\n",
       "      },\n",
       "      {\n",
       "        &quot;start_of_period&quot; : 62.14,\n",
       "        &quot;end_of_period&quot; : 85.54,\n",
       "        &quot;year&quot; : 2017,\n",
       "        &quot;diff_percentage&quot; : 37.65690376569039,\n",
       "        &quot;ticker&quot; : &quot;MSFT&quot;\n",
       "      },\n",
       "      {\n",
       "        &quot;start_of_period&quot; : 123.8,\n",
       "        &quot;end_of_period&quot; : 191.96,\n",
       "        &quot;year&quot; : 2017,\n",
       "        &quot;diff_percentage&quot; : 55.05654281098546,\n",
       "        &quot;ticker&quot; : &quot;NFLX&quot;\n",
       "      }\n",
       "    ]\n",
       "  }\n",
       "}\n",
       "   }\n",
       "   vg.embed(&quot;#vegas-5bad3ed9-e081-47da-a9e2-a17a3c2eefdf&quot;, embedSpec, function(error, result) {});\n",
       " &lt;/script&gt;\n",
       "\n",
       "    &lt;/body&gt;\n",
       "&lt;/html&gt;\"></iframe>\n",
       "  <script>\n",
       "    (function() {\n",
       "      function resizeIFrame(el, k) {\n",
       "        var height = el.contentWindow.document.body.scrollHeight || '400'; // Fallback in case of no scroll height\n",
       "        el.style.height = height + 'px';\n",
       "        if (k <= 10) { setTimeout(function() { resizeIFrame(el, k+1) }, 1000 + (k * 250)) };\n",
       "      }\n",
       "      resizeIFrame(document.querySelector('#frame-vegas-5bad3ed9-e081-47da-a9e2-a17a3c2eefdf'), 1);\n",
       "    })(); // IIFE\n",
       "  </script>\n",
       "    "
      ]
     },
     "metadata": {},
     "output_type": "display_data"
    }
   ],
   "source": [
    "Vegas(\"Quotes Data\").\n",
    "  withDataFrame(fullDF.filter($\"ticker\".isin(FAANG:_*))).\n",
    "  mark(Line).\n",
    "  encodeX(\"year\", Ordinal).\n",
    "  encodeY(\"diff_percentage\", Quantitative, scale=Scale(domainValues=List(-30.0, 200.0))).\n",
    "  encodeColor(\"ticker\", Nominal).\n",
    "  show"
   ]
  },
  {
   "cell_type": "code",
   "execution_count": 43,
   "metadata": {},
   "outputs": [
    {
     "name": "stdout",
     "output_type": "stream",
     "text": [
      "trading day is 20170102\n",
      "trading day is 20180101\n"
     ]
    },
    {
     "data": {
      "text/plain": [
       "growth2017DF = [ticker: string, end_of_period: double ... 2 more fields]\n"
      ]
     },
     "metadata": {},
     "output_type": "display_data"
    },
    {
     "data": {
      "text/plain": [
       "[ticker: string, end_of_period: double ... 2 more fields]"
      ]
     },
     "execution_count": 43,
     "metadata": {},
     "output_type": "execute_result"
    }
   ],
   "source": [
    "val growth2017DF = getSafeComparisionDFWithDates(20170101, 20171231)"
   ]
  },
  {
   "cell_type": "code",
   "execution_count": 34,
   "metadata": {},
   "outputs": [
    {
     "data": {
      "text/html": [
       "<link rel=\"stylesheet\" type=\"text/css\" href=\"https://producteng.builds.test.netflix.net/job/boson-v2-master/lastSuccessfulBuild/artifact/boson-viz-display/src/main/resources/notebooks.css\" />\n",
       "<script type=\"application/javascript\" src=\"https://producteng.builds.test.netflix.net/job/boson-v2-master/lastSuccessfulBuild/artifact/boson-viz-display/src/main/resources/notebooks.js\"></script>\n",
       "<table class=\"product-collection\"><thead><tr><th>ticker</th><th>end_of_period</th><th>start_of_period</th><th>diff_percentage</th></tr></thead><tbody><tr><td>AAPL</td><td>169.23</td><td>115.82</td><td>46.114660680366086</td></tr><tr><td>AMZN</td><td>1169.47</td><td>749.87</td><td>55.95636577006682</td></tr><tr><td>FB</td><td>176.46</td><td>115.05</td><td>53.376792698826605</td></tr><tr><td>GOOG</td><td>1046.4</td><td>771.82</td><td>35.575652354175844</td></tr><tr><td>MSFT</td><td>85.54</td><td>62.14</td><td>37.65690376569039</td></tr><tr><td>NFLX</td><td>191.96</td><td>123.8</td><td>55.05654281098546</td></tr></tbody></table>\n",
       "     "
      ]
     },
     "metadata": {},
     "output_type": "display_data"
    }
   ],
   "source": [
    "growth2017DF\n",
    "    .filter($\"ticker\".isin(FAANG:_*))\n",
    "    .display()"
   ]
  },
  {
   "cell_type": "code",
   "execution_count": 45,
   "metadata": {},
   "outputs": [
    {
     "data": {
      "text/html": [
       "<link rel=\"stylesheet\" type=\"text/css\" href=\"https://producteng.builds.test.netflix.net/job/boson-v2-master/lastSuccessfulBuild/artifact/boson-viz-display/src/main/resources/notebooks.css\" />\n",
       "<script type=\"application/javascript\" src=\"https://producteng.builds.test.netflix.net/job/boson-v2-master/lastSuccessfulBuild/artifact/boson-viz-display/src/main/resources/notebooks.js\"></script>\n",
       "<table class=\"product-collection\"><thead><tr><th>ticker</th><th>end_of_period</th><th>start_of_period</th><th>diff_percentage</th></tr></thead><tbody><tr><td>TSLA</td><td>311.35</td><td>213.69</td><td>45.701717441153086</td></tr></tbody></table>\n",
       "     "
      ]
     },
     "metadata": {},
     "output_type": "display_data"
    }
   ],
   "source": [
    "growth2017DF\n",
    "    .filter($\"ticker\".isin(\"TSLA\"))\n",
    "    .display()"
   ]
  },
  {
   "cell_type": "code",
   "execution_count": 24,
   "metadata": {},
   "outputs": [
    {
     "data": {
      "text/plain": [
       "getYearDF: (year: String)org.apache.spark.sql.Dataset[org.apache.spark.sql.Row]\n"
      ]
     },
     "metadata": {},
     "output_type": "display_data"
    }
   ],
   "source": [
    "def getYearDF(year: String) = {\n",
    "    val startOfYear = s\"${year}0101\"\n",
    "    val endOfYear = s\"${year}1231\"\n",
    "    spark.table(tableName)\n",
    "        .filter($\"date\" >= startOfYear)\n",
    "        .filter($\"date\" <= endOfYear)\n",
    "        .groupBy(\"ticker\")\n",
    "        .agg(\n",
    "            org.apache.spark.sql.functions.min($\"open\") as s\"min_${year}\",\n",
    "            org.apache.spark.sql.functions.max($\"open\") as s\"max_${year}\",\n",
    "            org.apache.spark.sql.functions.avg($\"open\") as s\"avg_${year}\"\n",
    "        )\n",
    "        .cache()\n",
    "}"
   ]
  },
  {
   "cell_type": "code",
   "execution_count": 20,
   "metadata": {},
   "outputs": [
    {
     "data": {
      "text/plain": [
       "df2019 = [ticker: string, min_2019: double ... 2 more fields]\n"
      ]
     },
     "metadata": {},
     "output_type": "display_data"
    },
    {
     "data": {
      "text/plain": [
       "[ticker: string, min_2019: double ... 2 more fields]"
      ]
     },
     "execution_count": 20,
     "metadata": {},
     "output_type": "execute_result"
    }
   ],
   "source": [
    "val df2019 = getYearDF(\"2019\")"
   ]
  },
  {
   "cell_type": "code",
   "execution_count": 21,
   "metadata": {},
   "outputs": [
    {
     "name": "stdout",
     "output_type": "stream",
     "text": [
      "[Stage 117:=====================================================> (52 + 1) / 53]"
     ]
    },
    {
     "data": {
      "text/html": [
       "<link rel=\"stylesheet\" type=\"text/css\" href=\"https://producteng.builds.test.netflix.net/job/boson-v2-master/lastSuccessfulBuild/artifact/boson-viz-display/src/main/resources/notebooks.css\" />\n",
       "<script type=\"application/javascript\" src=\"https://producteng.builds.test.netflix.net/job/boson-v2-master/lastSuccessfulBuild/artifact/boson-viz-display/src/main/resources/notebooks.js\"></script>\n",
       "<table class=\"product-collection\"><thead><tr><th>ticker</th><th>min_2019</th><th>max_2019</th><th>avg_2019</th></tr></thead><tbody><tr><td>MSFT</td><td>99.55</td><td>159.45</td><td>130.2564367816092</td></tr><tr><td>FB</td><td>128.99</td><td>208.6697</td><td>181.40645478927203</td></tr><tr><td>NFLX</td><td>255.71</td><td>382.77</td><td>328.8103065134099</td></tr><tr><td>AAPL</td><td>143.98</td><td>291.12</td><td>207.7258620689655</td></tr><tr><td>GOOG</td><td>1016.57</td><td>1363.35</td><td>1186.6421455938698</td></tr><tr><td>AMZN</td><td>1465.2</td><td>2025.62</td><td>1787.6514176245214</td></tr></tbody></table>\n",
       "     "
      ]
     },
     "metadata": {},
     "output_type": "display_data"
    }
   ],
   "source": [
    "df2019\n",
    "    .filter($\"ticker\".isin(FAANG:_*))\n",
    "    .display()"
   ]
  },
  {
   "cell_type": "code",
   "execution_count": null,
   "metadata": {},
   "outputs": [],
   "source": []
  },
  {
   "cell_type": "code",
   "execution_count": 39,
   "metadata": {},
   "outputs": [
    {
     "name": "stdout",
     "output_type": "stream",
     "text": [
      "trading day is 20200803\n",
      "trading day is 20201214\n"
     ]
    },
    {
     "data": {
      "text/plain": [
       "compareDF = [ticker: string, end_of_period: double ... 2 more fields]\n"
      ]
     },
     "metadata": {},
     "output_type": "display_data"
    },
    {
     "data": {
      "text/plain": [
       "[ticker: string, end_of_period: double ... 2 more fields]"
      ]
     },
     "execution_count": 39,
     "metadata": {},
     "output_type": "execute_result"
    }
   ],
   "source": [
    "val compareDF = getSafeComparisionDFWithDates(20200802, 20201214)"
   ]
  },
  {
   "cell_type": "code",
   "execution_count": 43,
   "metadata": {},
   "outputs": [
    {
     "name": "stdout",
     "output_type": "stream",
     "text": [
      "+------+-------------+---------------+------------------+------------------------------------------------+\n",
      "|ticker|end_of_period|start_of_period|diff_percentage   |name                                            |\n",
      "+------+-------------+---------------+------------------+------------------------------------------------+\n",
      "|OAS   |38.91        |0.6307         |6069.335658791818 |Oasis Petroleum Inc                             |\n",
      "|HJLI  |13.22        |0.3341         |3856.8991319964084|Hancock Jaffe Laboratories Inc                  |\n",
      "|NCSM  |19.58        |0.5626         |3380.270174191255 |Ncs Multistage Holdings Inc                     |\n",
      "|MGEN  |18.7325      |1.11           |1587.6126126126128|Miragen Therapeutics Inc                        |\n",
      "|MCRB  |24.44        |3.84           |536.4583333333334 |Seres Theraptc                                  |\n",
      "|PACB  |22.21        |3.76           |490.6914893617023 |Pacific Biosciences                             |\n",
      "|PRPH  |10.28        |1.81           |467.9558011049723 |Prophase Labs Inc                               |\n",
      "|APVO  |42.89        |8.38           |411.81384248210014|Aptevo Therapeutics Inc                         |\n",
      "|SRRK  |48.68        |11.33          |329.6557811120918 |Scholar Rock Holding Corp                       |\n",
      "|FOSL  |13.49        |3.35           |302.6865671641791 |Fossil Group                                    |\n",
      "|GRWG  |33.57        |8.5            |294.94117647058823|Growgeneration Corp                             |\n",
      "|PLL   |26.09        |6.62           |294.1087613293051 |Piedmont Lithium Ltd ADR                        |\n",
      "|CRDF  |18.83        |4.8            |292.29166666666663|Cardiff Oncology Inc.                           |\n",
      "|BEAM  |79.21        |20.7           |282.6570048309178 |Beam Therapeutics Inc                           |\n",
      "|BLNKW |23.25        |6.36           |265.566037735849  |Blink Charging Co. WT                           |\n",
      "|DMRC  |51.19        |14.26          |258.97615708274895|Digimarc Corp                                   |\n",
      "|ALTM  |47.69        |13.49          |253.52112676056336|Altus Midstream Company                         |\n",
      "|GOGO  |10.34        |2.96           |249.32432432432435|Gogo Inc                                        |\n",
      "|EXPI  |69.59        |19.95          |248.82205513784461|Exp Realty International                        |\n",
      "|IEA   |11.85        |3.41           |247.50733137829909|Infrastructure and Energy Alternatives Inc      |\n",
      "|DNLI  |81.0         |23.71          |241.62800506115562|Denali Therapeutics Inc                         |\n",
      "|LMPX  |25.2         |7.4            |240.5405405405405 |Lmp Automotive Holdings Inc                     |\n",
      "|LMB   |12.75        |3.75           |240.0             |Limbach Holdings Inc                            |\n",
      "|KIRK  |18.19        |5.43           |234.99079189686927|Kirkland's Inc                                  |\n",
      "|PLUG  |27.19        |8.17           |232.8029375764994 |Plug Power Inc                                  |\n",
      "|MGNI  |19.68        |6.08           |223.6842105263158 |null                                            |\n",
      "|APPS  |45.07        |14.15          |218.51590106007066|Digital Turbine                                 |\n",
      "|MTSC  |58.3         |18.46          |215.8179848320693 |M T S Systems Cp                                |\n",
      "|FATE  |95.96        |31.45          |205.11923688394273|Fate Therapeutics                               |\n",
      "|APPN  |153.87       |50.87          |202.47690190682133|Appian Corp Cl A                                |\n",
      "|NTLA  |55.25        |18.28          |202.2428884026258 |Intellia Thera CS                               |\n",
      "|GRVY  |179.27       |61.5           |191.4959349593496 |Gravity Co. Ltd                                 |\n",
      "|LQDT  |14.94        |5.18           |188.41698841698843|Liquidity Services                              |\n",
      "|EIDX  |117.39       |40.72          |188.28585461689588|Eidos Therapeutics Inc                          |\n",
      "|BIS   |23.17        |8.09           |186.40296662546356|Ultrashort Biotechnology Proshares              |\n",
      "|VERI  |31.85        |11.32          |181.36042402826854|Veritone Inc                                    |\n",
      "|CIIC  |28.5         |10.15          |180.7881773399015 |Ciig Merger Corp Cl A                           |\n",
      "|XPEL  |47.19        |16.83          |180.3921568627451 |Xpel Technologies                               |\n",
      "|FPRX  |16.52        |5.93           |178.58347386172005|Five Prime Thera                                |\n",
      "|STRO  |21.73        |7.84           |177.1683673469388 |Sutro Biopharma Inc                             |\n",
      "|KOD   |129.04       |46.68          |176.4353041988003 |Kodiak Sciences Inc                             |\n",
      "|SQBG  |16.46        |6.0            |174.33333333333334|Sequential Brands                               |\n",
      "|FTHM  |27.67        |10.1           |173.96039603960395|null                                            |\n",
      "|SFIX  |60.82        |22.33          |172.3690103000448 |Stitch Fix Inc                                  |\n",
      "|ATLC  |21.63        |7.95           |172.0754716981132 |Atlanticus Hld Cp                               |\n",
      "|OCUL  |21.34        |7.9            |170.126582278481  |Ocular Therapeut                                |\n",
      "|NKTX  |69.99        |26.29          |166.22289844047165|null                                            |\n",
      "|LOB   |45.0         |17.11          |163.0040911747516 |Live Oak Bancsh                                 |\n",
      "|BLNK  |27.59        |10.62          |159.79284369114876|Blink Charging Company                          |\n",
      "|RCKT  |60.82        |23.75          |156.0842105263158 |Rocket Pharmaceuticals Inc                      |\n",
      "|TWST  |144.81       |56.67          |155.53202752779248|Twist Bioscience Corp                           |\n",
      "|KURA  |42.06        |16.56          |153.98550724637684|Kura Oncology                                   |\n",
      "|ALXO  |81.92        |32.46          |152.3721503388786 |null                                            |\n",
      "|NFE   |52.89        |20.98          |152.09723546234508|New Fortress Energy Llc                         |\n",
      "|CELH  |36.82        |14.68          |150.8174386920981 |Celsius Holdings Inc                            |\n",
      "|CTRN  |42.73        |17.25          |147.71014492753622|Citi Trends Inc                                 |\n",
      "|BWMX  |29.82        |12.15          |145.4320987654321 |Betterware DE Mexico Da DE Cv                   |\n",
      "|NVUS  |19.97        |8.1864         |143.94117072217333|Novus Therapeutics Inc                          |\n",
      "|RICK  |29.5         |12.14          |142.99835255354202|RCI Hospitality Hold                            |\n",
      "|KROS  |77.5         |32.06          |141.73424828446662|Keros Therapeutics Inc                          |\n",
      "|MEOH  |44.96        |18.67          |140.81414033208355|Methanex Cp                                     |\n",
      "|MSTR  |298.93       |124.37         |140.35539117150438|Microstrategy Cl A                              |\n",
      "|RUTH  |16.6         |6.91           |140.23154848046312|Ruth's Hospitality                              |\n",
      "|FRHC  |46.1         |19.37          |137.99690242643263|Freedom Holding Corp                            |\n",
      "|SOHOB |14.0         |5.9404         |135.67436536260183|Sotherly Hotels Inc 8.0% Series B Cumulative Re |\n",
      "|ENPH  |143.0        |60.89          |134.84972901954345|Enphase Energy Inc                              |\n",
      "|CLPT  |10.7         |4.56           |134.64912280701756|Clearpoint Neuro Inc.                           |\n",
      "|CZR   |71.68        |30.67          |133.71372676882947|Caesars Entertainment Corp                      |\n",
      "|ATEC  |11.61        |4.99           |132.66533066132263|Alphatec Holdings                               |\n",
      "|TA    |32.62        |14.03          |132.50178189593726|Travelcenters of America Llc                    |\n",
      "|AOSL  |25.36        |10.92          |132.23443223443223|Alpha and Omega Semi                            |\n",
      "|SPWR  |21.82        |9.42           |131.63481953290872|Sunpower Corp                                   |\n",
      "|GRPN  |35.45        |15.31          |131.54800783801437|Groupon Cl A                                    |\n",
      "|UPWK  |35.5         |15.34          |131.42112125162973|Upwork Inc                                      |\n",
      "|CLSK  |16.63        |7.2            |130.97222222222223|Cleanspark Inc                                  |\n",
      "|CRNC  |92.37        |40.0           |130.925           |Cerence Inc                                     |\n",
      "|SGMS  |40.96        |17.75          |130.7605633802817 |Scientific Games                                |\n",
      "|GIII  |22.93        |9.98           |129.75951903807615|G-III Apparel Gp                                |\n",
      "|REGI  |64.01        |27.92          |129.2621776504298 |Renewable Energy                                |\n",
      "|RRGB  |20.04        |8.75           |129.02857142857144|Red Robin Gourmet Burgers Inc                   |\n",
      "|SOHON |13.45        |5.88           |128.74149659863946|Sotherly Hotels Inc Perp Pfd Ser D              |\n",
      "|EH    |19.22        |8.45           |127.45562130177515|Ehang Holdings Ltd Ads                          |\n",
      "|XOMA  |38.35        |16.9           |126.92307692307696|Xoma Corp                                       |\n",
      "|RRR   |24.49        |10.82          |126.34011090573011|Red Rock Resorts Inc                            |\n",
      "|SOHOO |13.8         |6.1            |126.22950819672134|Sotherly Hotels LP                              |\n",
      "|NVCR  |171.91       |76.06          |126.01893242177226|Novocure Ltd Ord Sh                             |\n",
      "|PNTG  |56.76        |25.21          |125.14875049583497|The Pennant Group Inc                           |\n",
      "|FUV   |12.64        |5.64           |124.11347517730498|Arcimoto Inc                                    |\n",
      "|PENN  |76.0         |34.27          |121.76831047563465|Penn Natl Gaming Inc                            |\n",
      "|BBIO  |62.85        |28.5           |120.52631578947368|Bridgebio Pharma Inc                            |\n",
      "|PSNL  |38.98        |17.71          |120.1016374929418 |Personalis Inc                                  |\n",
      "|LRMR  |23.72        |10.8           |119.62962962962959|Larimar Therapeutics Inc.                       |\n",
      "|REPL  |43.89        |20.06          |118.7936191425723 |Replimune Group Inc                             |\n",
      "|PKOH  |32.08        |14.68          |118.52861035422342|Park Ohio Hld Cp                                |\n",
      "|MRNA  |163.4        |74.98          |117.92477994131767|Moderna Inc                                     |\n",
      "|STRT  |47.04        |21.68          |116.97416974169741|Strattec Security                               |\n",
      "|GDEN  |18.5465      |8.56           |116.66471962616822|Golden Entmt                                    |\n",
      "|PDEX  |40.5         |18.76          |115.88486140724945|Pro-Dex Inc                                     |\n",
      "|ARVN  |68.64        |31.81          |115.78120088022634|Arvinas Inc                                     |\n",
      "|LE    |18.59        |8.64           |115.16203703703702|Lands' End Inc                                  |\n",
      "|TGTX  |42.29        |19.7           |114.67005076142132|Tg Therapeuticscmn                              |\n",
      "|HCACU |25.15        |11.75          |114.04255319148935|Hennessy Capital Acquisition Corp IV Unit       |\n",
      "|TSLA  |619.0        |289.84         |113.56610543748278|Tesla Inc                                       |\n",
      "|NOVSU |22.42        |10.5           |113.52380952380953|Novus Capital Corporation Units                 |\n",
      "|BLFS  |41.53        |19.49          |113.08363263211906|Biolife Solutions                               |\n",
      "|IMVT  |48.1         |22.71          |111.80096873623955|Immunovant Inc.                                 |\n",
      "|WTRE  |34.73        |16.4           |111.76829268292683|Watford Holdings Ltd                            |\n",
      "|STOK  |52.86        |25.03          |111.18657610866958|Stoke Therapeutics Inc                          |\n",
      "|CHEF  |24.2         |11.47          |110.9851787271142 |The Chefs Warehouse                             |\n",
      "|ROKU  |333.0        |158.36         |110.28037383177569|Roku Inc                                        |\n",
      "|AMSC  |19.62        |9.35           |109.83957219251339|Amer Superconductor                             |\n",
      "|NRIX  |40.79        |19.45          |109.7172236503856 |null                                            |\n",
      "|TRUP  |105.0        |50.22          |109.08004778972523|Trupanion Inc                                   |\n",
      "|CDNA  |70.62        |33.84          |108.68794326241134|Caredx Inc                                      |\n",
      "|ARCT  |109.74       |52.7           |108.23529411764703|Arcturus Therapeutics Ltd                       |\n",
      "|PLAY  |25.63        |12.41          |106.52699435938757|Dave & Buster's Ente                            |\n",
      "|OPRX  |29.5         |14.29          |106.43806857942619|Optimizerx Corp                                 |\n",
      "|SHSP  |16.58        |8.04           |106.21890547263682|Sharpspring Inc                                 |\n",
      "|CMBM  |25.32        |12.3           |105.85365853658534|Cambium Networks Corp                           |\n",
      "|CELC  |11.11        |5.4            |105.74074074074072|Celcuity Inc                                    |\n",
      "|TTD   |929.0        |456.0          |103.72807017543859|Trade Desk Inc                                  |\n",
      "|LCUT  |14.49        |7.13           |103.2258064516129 |Lifetime Brands Inc                             |\n",
      "|BSET  |18.16        |8.94           |103.13199105145414|Bassett Furniture                               |\n",
      "|HIBB  |47.12        |23.21          |103.01594140456697|Hibbett Sports Inc                              |\n",
      "|FLXS  |32.47        |16.01          |102.81074328544658|Flexsteel Inds                                  |\n",
      "|CDLX  |135.24       |66.88          |102.2129186602871 |Cardlytics Inc                                  |\n",
      "|WLFC  |40.16        |19.88          |102.01207243460763|Willis Lease Fin C                              |\n",
      "|LIND  |14.59        |7.23           |101.79806362378976|Lindblad Expd Hld                               |\n",
      "|NTRA  |97.34        |48.33          |101.40699358576455|Natera Inc                                      |\n",
      "|EDIT  |60.15        |29.91          |101.10330992978935|Editas Medicine                                 |\n",
      "|PERI  |12.14        |6.04           |100.99337748344372|Perion Network Ltd                              |\n",
      "|CLCT  |76.11        |38.24          |99.03242677824267 |Collectors Universe                             |\n",
      "|COHU  |37.64        |19.01          |98.00105207785374 |Cohu Inc                                        |\n",
      "|AMBA  |89.74        |45.42          |97.57815940114484 |Ambarella Inc                                   |\n",
      "|FBRX  |36.41        |18.48          |97.0238095238095  |Forte Biosciences Inc.                          |\n",
      "|TCRR  |33.65        |17.13          |96.43899591360187 |Tcr2 Therapeutics Inc                           |\n",
      "|MRTX  |240.93       |122.73         |96.30897091175751 |Mirati Therapeutics                             |\n",
      "|SRACU |20.2         |10.3           |96.11650485436891 |Stable Road Acquisition Corp                    |\n",
      "|TPTX  |117.3        |59.87          |95.9245030900284  |Turning Point Therapeutics Inc                  |\n",
      "|SITM  |104.23       |53.37          |95.2969833239648  |Sitime Corp                                     |\n",
      "|LI    |31.74        |16.26          |95.20295202952028 |null                                            |\n",
      "|LCA   |22.45        |11.52          |94.87847222222221 |Landcadia Holdings II Inc Cl A                  |\n",
      "|LPRO  |33.06        |16.99          |94.58505002942911 |Open Lending Corporation Cl A                   |\n",
      "|AHCO  |37.81        |19.5           |93.89743589743591 |Adapthealth Corp. Cl. A                         |\n",
      "|ATRA  |24.21        |12.54          |93.06220095693783 |Atara Biotherap                                 |\n",
      "|UROV  |16.1         |8.34           |93.04556354916069 |Urovant Sciences Ltd                            |\n",
      "|SWAV  |95.7         |49.6           |92.94354838709677 |Shockwave Medical Inc                           |\n",
      "|CSSE  |18.34        |9.5601         |91.83899750002614 |Chicken Soup For The Soul Entertainment Inc     |\n",
      "|NBACU |19.45        |10.15          |91.62561576354679 |Newborn Acquisition Corp                        |\n",
      "|INBK  |27.9         |14.57          |91.48936170212765 |First Internet Bcp                              |\n",
      "|FRGI  |12.43        |6.5            |91.23076923076923 |Fiesta Restaurant Gp                            |\n",
      "|KALV  |18.9         |9.89           |91.10212335692617 |Kalvista Pharmaceuticals Inc                    |\n",
      "|VOXX  |12.43        |6.52           |90.64417177914112 |Voxx Intl Corp                                  |\n",
      "|FLGT  |50.87        |26.74          |90.23934181002244 |Fulgent Genetics Inc                            |\n",
      "|MBNKP |22.0         |11.57          |90.14693171996542 |Medallion Bank Fixed-To-Floating Rate Non-Cumula|\n",
      "|AGYS  |39.93        |21.0           |90.14285714285715 |Agilysys Inc                                    |\n",
      "|NSTG  |69.16        |36.49          |89.531378459852   |Nanostring Tech                                 |\n",
      "|DADA  |44.61        |23.58          |89.18575063613233 |Dada Nexus Limited American Depositary Shares   |\n",
      "|ZG    |130.0        |68.82          |88.8985759953502  |Zillow Grp Inc Cl A                             |\n",
      "|MRNS  |12.98        |6.88           |88.66279069767444 |Marinus Pharma CS                               |\n",
      "|FNKO  |10.47        |5.55           |88.64864864864866 |Funko Inc Cl A                                  |\n",
      "|HCAC  |20.85        |11.08          |88.17689530685922 |Hennessy Capital Acquisition Corp IV Cl A       |\n",
      "|GBIO  |36.73        |19.52          |88.16598360655736 |Generation Bio Co.                              |\n",
      "|APLS  |49.27        |26.28          |87.48097412480973 |Apellis Pharmaceuticals Inc                     |\n",
      "|MTLS  |41.67        |22.3           |86.8609865470852  |Materialise NV Ads                              |\n",
      "|IESC  |44.71        |24.0           |86.29166666666667 |Ies Holdings                                    |\n",
      "|CASH  |35.0         |18.83          |85.87360594795541 |Meta Financial Group                            |\n",
      "|Z     |128.57       |69.26          |85.63384348830492 |Zillow Group Cl C                               |\n",
      "|RARE  |145.8        |78.56          |85.59063136456213 |Ultragenyx Pharmaceu                            |\n",
      "|TBK   |48.5         |26.21          |85.0438763830599  |Triumph Bancorp                                 |\n",
      "|CLLS  |29.62        |16.01          |85.0093691442848  |Cellectis S.A. ADR                              |\n",
      "|PLCE  |44.78        |24.24          |84.73597359735975 |Children's Place Inc                            |\n",
      "|LCAHU |24.0         |12.9999        |84.61680474465187 |Landcadia Holdings II Inc Unit                  |\n",
      "|SP    |29.6         |16.05          |84.42367601246106 |SP Plus Corp                                    |\n",
      "|IGMS  |93.14        |50.55          |84.25321463897133 |Igm Biosciences Inc                             |\n",
      "|JYNT  |26.64        |14.5           |83.72413793103448 |The Joint Corp                                  |\n",
      "|ACCD  |59.83        |32.57          |83.69665336198956 |null                                            |\n",
      "|SVC   |12.31        |6.75           |82.37037037037038 |Service Properties Trust                        |\n",
      "|TRIL  |12.36        |6.78           |82.3008849557522  |Trillium Therapeutic                            |\n",
      "|BMCH  |46.97        |25.99          |80.723355136591   |Bmc Stock Holdings                              |\n",
      "|QNST  |20.93        |11.62          |80.12048192771086 |Quinstreet Inc                                  |\n",
      "|AVNW  |36.96        |20.53          |80.02922552362396 |Aviat Networks Inc                              |\n",
      "|RDVT  |27.84        |15.47          |79.9612152553329  |Red Violet Inc                                  |\n",
      "|BBBY  |19.48        |10.85          |79.53917050691246 |Bed Bath & Beyond                               |\n",
      "|SLM   |12.19        |6.79           |79.52871870397644 |SLM Corp                                        |\n",
      "|SGRY  |27.77        |15.48          |79.39276485788113 |Surgery Partners CS                             |\n",
      "|PASG  |28.23        |15.78          |78.89733840304184 |Passage Bio Inc                                 |\n",
      "|JCOM  |101.01       |56.67          |78.24245632609846 |J2 Global Inc                                   |\n",
      "|SNBR  |83.53        |46.89          |78.14032842823629 |Sleep Number Corp                               |\n",
      "|ANGO  |14.77        |8.3            |77.95180722891564 |Angiodynamics Inc                               |\n",
      "|NOVS  |17.6         |9.9            |77.77777777777779 |Novus Capital Corp                              |\n",
      "|CRSP  |153.51       |86.54          |77.38617980124796 |Crispr Therapeutics Ag                          |\n",
      "|QCLN  |62.2         |35.18          |76.80500284252417 |Nasdaq Clean Edge Green Energy Index Fund FT    |\n",
      "|SUMR  |17.05        |9.7            |75.77319587628868 |Summer Infant Inc                               |\n",
      "|ESTA  |31.33        |17.85          |75.51820728291314 |Establishment Labs Holdings Inc                 |\n",
      "|RNDB  |19.11        |10.9           |75.32110091743118 |Randolph Bancorp Inc                            |\n",
      "|TCBI  |58.92        |33.64          |75.1486325802616  |Texas Capital Bncsh                             |\n",
      "|BILI  |78.41        |44.78          |75.10049129075479 |Bilibili Inc ADR                                |\n",
      "|CROX  |63.3         |36.16          |75.05530973451329 |Crocs Inc                                       |\n",
      "|SWTX  |74.98        |42.89          |74.81930519934717 |Springworks Therapeutics Inc                    |\n",
      "|PRSC  |142.29       |81.62          |74.3322715020828  |Providence Svc Cp                               |\n",
      "|TITN  |19.1         |10.96          |74.27007299270073 |Titan Machinery Inc                             |\n",
      "|CSIQ  |38.7         |22.21          |74.24583520936515 |Canadian Solar Inc                              |\n",
      "|PI    |40.99        |23.56          |73.98132427843804 |Impinj Inc                                      |\n",
      "|SNDX  |24.67        |14.22          |73.48804500703235 |Syndax Pharma                                   |\n",
      "|SPNE  |16.39        |9.46           |73.25581395348836 |Seaspine Holdings                               |\n",
      "|PLSE  |17.93        |10.35          |73.23671497584542 |Pulse Biosciences CS                            |\n",
      "|PRVB  |18.1         |10.47          |72.8748806112703  |Provention Bio Inc                              |\n",
      "|IOVA  |50.71        |29.34          |72.83571915473756 |Iovance Biotherapeutics Inc                     |\n",
      "|CLDX  |17.96        |10.4           |72.6923076923077  |Celldex Therapeutics                            |\n",
      "|GDYN  |11.53        |6.68           |72.60479041916167 |Grid Dynamics Holdings Inc.                     |\n",
      "|ALGN  |510.9        |296.01         |72.59552042160738 |Align Technology                                |\n",
      "|ARWR  |74.68        |43.41          |72.03409352683717 |Arrowhead Pharma                                |\n",
      "|VC    |125.89       |73.28          |71.79312227074236 |Visteon Corp                                    |\n",
      "|MIK   |12.3         |7.16           |71.7877094972067  |The Michaels Comp                               |\n",
      "|PRIM  |27.62        |16.14          |71.1276332094176  |Primoris Services Cp                            |\n",
      "|CCB   |22.24        |13.02          |70.81413210445467 |Coastal Financial Corp                          |\n",
      "|LSACU |17.3         |10.13          |70.77986179664363 |Lifesci Acquisition Corp. Unit 1 Com & 1 WT     |\n",
      "|ROAD  |28.48        |16.7           |70.53892215568864 |Construction Partners Inc Cl A                  |\n",
      "|RVMD  |42.67        |25.03          |70.47542948461846 |Revolution Medicines Inc                        |\n",
      "|CORT  |25.65        |15.06          |70.31872509960158 |Corcept Therapeutics                            |\n",
      "|MMYT  |26.4         |15.53          |69.9935608499678  |Makemytrip Ltd                                  |\n",
      "|SEDG  |293.23       |172.66         |69.83088150121628 |Solaredge Tech                                  |\n",
      "|KRUS  |17.65        |10.4           |69.71153846153845 |Kura Sushi USA Inc Cl A                         |\n",
      "|PTON  |118.01       |69.6           |69.55459770114945 |Peloton Interactive Inc                         |\n",
      "|LAWS  |51.06        |30.28          |68.62615587846763 |Lawson Products IN                              |\n",
      "|ALVR  |40.52        |24.05          |68.4823284823285  |null                                            |\n",
      "|STND  |32.84        |19.5           |68.41025641025644 |Standard Financial                              |\n",
      "|SG    |12.23        |7.28           |67.9945054945055  |Sirius International Insurance Group            |\n",
      "|SRAC  |16.75        |10.0           |67.5              |Stable Road Acquisition Corp. Cl A              |\n",
      "|GTLS  |115.55       |68.99          |67.48804174518047 |Chart Industries IN                             |\n",
      "|HA    |19.81        |11.84          |67.31418918918918 |Hawaiian Hlds Inc                               |\n",
      "|TBIO  |25.61        |15.32          |67.16710182767623 |Translate Bio Inc                               |\n",
      "|PTSI  |46.8         |28.0           |67.14285714285714 |P A M Transport Sv                              |\n",
      "|HEES  |29.31        |17.55          |67.008547008547   |H&E Equip Services                              |\n",
      "|COOP  |27.71        |16.61          |66.82721252257677 |Mr.Cooper Group Inc                             |\n",
      "|AVID  |13.76        |8.27           |66.3845223700121  |Avid Tech Inc                                   |\n",
      "|ERII  |12.71        |7.64           |66.36125654450264 |Energy Recovery Inc                             |\n",
      "|SKYW  |43.7176      |26.36          |65.8482549317147  |Skywest Inc                                     |\n",
      "|EBIX  |36.8         |22.2           |65.76576576576576 |Ebix Inc                                        |\n",
      "|MIDD  |138.75       |83.87          |65.43460116847501 |Middleby Corp                                   |\n",
      "|ICLN  |24.02        |14.55          |65.08591065292096 |Global Clean Energy Ishares ETF                 |\n",
      "|OMP   |13.88        |8.42           |64.84560570071261 |Oasis Midstream Partners LP                     |\n",
      "|BJRI  |33.27        |20.24          |64.37747035573126 |Bj's Restaurants Inc                            |\n",
      "|FBNC  |34.0         |20.74          |63.93442622950821 |First Bancorp [Nc]                              |\n",
      "|MLHR  |38.39        |23.44          |63.77986348122866 |Miller Herman Inc                               |\n",
      "|HWC   |31.53        |19.28          |63.537344398340245|Hancock Whitney Corp                            |\n",
      "|GRTX  |11.38        |6.96           |63.505747126436795|Galera Therapeutics Inc                         |\n",
      "|MYGN  |19.83        |12.13          |63.478977741137655|Myriad Genetics Inc                             |\n",
      "|TZOO  |10.2         |6.24           |63.461538461538446|Travelzoo Inc                                   |\n",
      "|ABCB  |38.1         |23.31          |63.44916344916346 |Ameris Bancorp                                  |\n",
      "|STRL  |16.96        |10.38          |63.39113680154143 |Sterling Constructio                            |\n",
      "|ANDE  |23.42        |14.34          |63.319386331938645|Andersons Inc                                   |\n",
      "|OMCL  |115.41       |70.75          |63.12367491166078 |Omnicell Inc                                    |\n",
      "|MYRG  |59.49        |36.5           |62.98630136986302 |MYR Group Inc                                   |\n",
      "|LYFT  |47.62        |29.25          |62.8034188034188  |Lyft Inc Cl A                                   |\n",
      "|THRM  |63.54        |39.19          |62.13319724419496 |Gentherm Inc                                    |\n",
      "|BRP   |28.77        |17.77          |61.90208216094541 |Brp Group Inc Cl A                              |\n",
      "|GRBK  |22.35        |13.81          |61.83924692251992 |Green Brick Partners                            |\n",
      "|ZUMZ  |37.35        |23.08          |61.82842287694976 |Zumiez Inc                                      |\n",
      "|URBN  |27.0         |16.69          |61.773517076093455|Urban Outfitters Inc                            |\n",
      "|CIGI  |88.1         |54.51          |61.621720785177025|Colliers Intl Grp IN                            |\n",
      "|BCOV  |16.84        |10.44          |61.30268199233717 |Brightcove Inc                                  |\n",
      "|VCEL  |26.61        |16.56          |60.68840579710147 |Vericel Corproation                             |\n",
      "|BOOM  |47.59        |29.65          |60.50590219224286 |Dynamic Materials                               |\n",
      "|CATM  |36.12        |22.51          |60.46201688138603 |Cardtronics Inc                                 |\n",
      "|ORIC  |33.34        |20.8           |60.28846153846155 |Oric Pharmaceuticals Inc                        |\n",
      "|ALGT  |178.24       |111.42         |59.97127984203914 |Allegiant Travel Com                            |\n",
      "|UAL   |49.6         |31.03          |59.84531098936513 |United Continental Holdings                     |\n",
      "|FREQ  |34.67        |21.7           |59.769585253456235|Frequency Therapeutics Inc                      |\n",
      "|CAKE  |37.33        |23.37          |59.73470261018399 |Cheesecake Fact                                 |\n",
      "|SPT   |46.59        |29.18          |59.66415352981495 |Sprout Social Inc Cl A                          |\n",
      "|BLMN  |18.28        |11.45          |59.650655021834076|Bloomin' Brands Inc                             |\n",
      "|ALLK  |120.36       |75.42          |59.58631662688941 |Allakos Inc                                     |\n",
      "|COWN  |26.43        |16.57          |59.50512975256487 |Cowen Group Inc                                 |\n",
      "|BPMC  |117.28       |73.54          |59.477835191732375|Blueprint Medicines Corp                        |\n",
      "|SIVB  |356.62       |223.66         |59.44737548064026 |Svb Financial Group                             |\n",
      "|TPIC  |41.2         |25.85          |59.381044487427474|Tpi Composites Inc                              |\n",
      "|SCHN  |29.97        |18.81          |59.330143540669866|Schnitzer Steel A                               |\n",
      "|RUN   |59.2         |37.18          |59.22538999462077 |Sunrun Inc                                      |\n",
      "|TFFP  |14.41        |9.06           |59.05077262693156 |Tff Pharmaceuticals Inc                         |\n",
      "|CDXS  |18.8         |11.83          |58.91800507185123 |Codexis Inc                                     |\n",
      "|IIN   |17.32        |10.9           |58.89908256880734 |Intricon Corp                                   |\n",
      "|MVBF  |21.11        |13.29          |58.84123401053424 |Mvb Financial Corp                              |\n",
      "|MRLN  |11.78        |7.42           |58.76010781671158 |Marlin Business Serv                            |\n",
      "|ACHC  |47.48        |29.91          |58.74289535272483 |Acadia Healthcr Company                         |\n",
      "|WWD   |119.81       |75.49          |58.709762882501   |Woodward Inc                                    |\n",
      "|CHNG  |18.56        |11.7           |58.63247863247864 |Change Healthcare Inc                           |\n",
      "|NUAN  |43.57        |27.5           |58.436363636363645|Nuance Communicatns                             |\n",
      "|CHUY  |25.36        |16.01          |58.40099937539036 |Chuy's Holdings Inc                             |\n",
      "|DENN  |14.05        |8.87           |58.399098083427305|Dennys Corp                                     |\n",
      "|HDS   |55.92        |35.32          |58.323895809739525|HD Supply Hlds Cmm                              |\n",
      "|VRCA  |10.4         |6.57           |58.29528158295282 |Verrica Pharmaceuticals Inc                     |\n",
      "|MDRX  |14.34        |9.06           |58.27814569536422 |Allscripts Hlthcare                             |\n",
      "|AAL   |17.52        |11.07          |58.265582655826556|American Airlines Gp                            |\n",
      "|HOFT  |33.99        |21.51          |58.019525801952575|Hooker Furniture                                |\n",
      "|SHOO  |33.5         |21.2           |58.01886792452831 |Steven Maddens Ltd                              |\n",
      "|STNE  |76.03        |48.17          |57.836827901183305|Stoneco Ltd Cl A                                |\n",
      "|VCYT  |56.27        |35.67          |57.751611998878616|Veracyte Inc                                    |\n",
      "|KRNT  |84.77        |53.74          |57.74097506512839 |Kornit Digital Ord                              |\n",
      "+------+-------------+---------------+------------------+------------------------------------------------+\n",
      "only showing top 300 rows\n",
      "\n"
     ]
    }
   ],
   "source": [
    "addNames(compareDF)\n",
    "    .filter($\"end_of_period\" > 10.0)\n",
    "    .orderBy($\"diff_percentage\".desc)\n",
    "    .show(300, false)"
   ]
  },
  {
   "cell_type": "code",
   "execution_count": 44,
   "metadata": {},
   "outputs": [],
   "source": [
    "spark.stop()"
   ]
  },
  {
   "cell_type": "code",
   "execution_count": 12,
   "metadata": {},
   "outputs": [
    {
     "data": {
      "text/plain": [
       "withNamesDF = [ticker: string, end_of_period: double ... 3 more fields]\n"
      ]
     },
     "metadata": {},
     "output_type": "display_data"
    },
    {
     "data": {
      "text/plain": [
       "[ticker: string, end_of_period: double ... 3 more fields]"
      ]
     },
     "execution_count": 12,
     "metadata": {},
     "output_type": "execute_result"
    }
   ],
   "source": [
    "val withNamesDF = compareDF.join(namesDF, compareDF(\"ticker\") === namesDF(\"ticker\"))\n",
    "    .drop(namesDF(\"ticker\"))"
   ]
  },
  {
   "cell_type": "code",
   "execution_count": 14,
   "metadata": {},
   "outputs": [
    {
     "data": {
      "text/html": [
       "<link rel=\"stylesheet\" type=\"text/css\" href=\"https://producteng.builds.test.netflix.net/job/boson-v2-master/lastSuccessfulBuild/artifact/boson-viz-display/src/main/resources/notebooks.css\" />\n",
       "<script type=\"application/javascript\" src=\"https://producteng.builds.test.netflix.net/job/boson-v2-master/lastSuccessfulBuild/artifact/boson-viz-display/src/main/resources/notebooks.js\"></script>\n",
       "<table class=\"product-collection\"><thead><tr><th>ticker</th><th>end_of_period</th><th>start_of_period</th><th>diff_percentage</th><th>name</th></tr></thead><tbody><tr><td>RRGB</td><td>12.12</td><td>33.08</td><td>-63.361547762998796</td><td>Red Robin Gourmet Burgers Inc</td></tr><tr><td>MTSC</td><td>17.86</td><td>48.33</td><td>-63.04572729153735</td><td>M T S Systems Cp</td></tr><tr><td>CUTR</td><td>13.57</td><td>36.18</td><td>-62.493090105030404</td><td>Cutera Inc</td></tr><tr><td>ATRO</td><td>10.57</td><td>28.15</td><td>-62.45115452930728</td><td>Astronics Cp</td></tr><tr><td>ZIV</td><td>28.5</td><td>73.03</td><td>-60.97494180473778</td><td>VS -1X VIX Mid Term</td></tr><tr><td>NBLX</td><td>10.45</td><td>26.69</td><td>-60.84675908579993</td><td>Noble Midstream Partners LP</td></tr><tr><td>GIII</td><td>13.97</td><td>34.37</td><td>-59.35408786732616</td><td>G-III Apparel Gp</td></tr><tr><td>SOHON</td><td>10.75</td><td>26.114</td><td>-58.83434173240407</td><td>Sotherly Hotels Inc Perp Pfd Ser D</td></tr><tr><td>WLFC</td><td>24.81</td><td>59.46</td><td>-58.2744702320888</td><td>Willis Lease Fin C</td></tr><tr><td>SOHOO</td><td>10.76</td><td>25.7501</td><td>-58.21375450969123</td><td>Sotherly Hotels LP</td></tr><tr><td>PVAC</td><td>12.87</td><td>30.69</td><td>-58.06451612903226</td><td>Penn VA Corp</td></tr><tr><td>PLAY</td><td>17.01</td><td>40.48</td><td>-57.9792490118577</td><td>Dave &amp; Buster's Ente</td></tr><tr><td>SOHOB</td><td>11.11</td><td>26.4</td><td>-57.91666666666667</td><td>Sotherly Hotels Inc 8.0% Series B Cumulative Re</td></tr><tr><td>CHEF</td><td>16.22</td><td>38.36</td><td>-57.716371220020854</td><td>The Chefs Warehouse</td></tr><tr><td>NBL</td><td>10.62</td><td>24.79</td><td>-57.16014521984671</td><td>Noble Energy Inc</td></tr><tr><td>NXTC</td><td>24.46</td><td>56.25</td><td>-56.51555555555555</td><td>Nextcure Inc</td></tr><tr><td>MTRX</td><td>10.08</td><td>23.08</td><td>-56.32582322357018</td><td>Matrix Service Company</td></tr><tr><td>UAL</td><td>39.94</td><td>89.57</td><td>-55.40917717985933</td><td>United Continental Holdings</td></tr><tr><td>BCOR</td><td>12.19</td><td>26.51</td><td>-54.01735194266315</td><td>Blucora Inc</td></tr><tr><td>CMTL</td><td>16.59</td><td>35.76</td><td>-53.60738255033557</td><td>Comtech Telecom Company</td></tr><tr><td>VNOM</td><td>11.8</td><td>24.84</td><td>-52.49597423510467</td><td>Viper Energy LP</td></tr><tr><td>DXPE</td><td>19.14</td><td>40.2</td><td>-52.38805970149254</td><td>Dxp Enterprise</td></tr><tr><td>MYGN</td><td>13.05</td><td>27.37</td><td>-52.320058458165875</td><td>Myriad Genetics Inc</td></tr><tr><td>CASH</td><td>17.67</td><td>36.89</td><td>-52.100840336134446</td><td>Meta Financial Group</td></tr><tr><td>PKOH</td><td>16.34</td><td>33.86</td><td>-51.74246898995866</td><td>Park Ohio Hld Cp</td></tr><tr><td>XENT</td><td>12.22</td><td>25.26</td><td>-51.62311955661124</td><td>Intersect Ent Inc</td></tr><tr><td>BELFB</td><td>10.2</td><td>20.72</td><td>-50.77220077220077</td><td>BEL Fuse Inc Cl B</td></tr><tr><td>ANIP</td><td>30.64</td><td>62.2</td><td>-50.739549839228296</td><td>ANI Pharma Inc</td></tr><tr><td>MLVF</td><td>11.8</td><td>23.5146</td><td>-49.81841068952906</td><td>Malvern Bncp</td></tr><tr><td>INGN</td><td>34.5</td><td>68.68</td><td>-49.76703552708213</td><td>Inogen Inc</td></tr><tr><td>MATW</td><td>19.39</td><td>38.48</td><td>-49.610187110187105</td><td>Matthews Intl Corp</td></tr><tr><td>UNB</td><td>18.49</td><td>36.335</td><td>-49.11242603550296</td><td>Union Bankshares Inc</td></tr><tr><td>FANG</td><td>47.68</td><td>93.35</td><td>-48.9234065345474</td><td>Diamondback Energy</td></tr><tr><td>FFIC</td><td>11.15</td><td>21.72</td><td>-48.66482504604051</td><td>Flushing Finl Corp</td></tr><tr><td>MSBI</td><td>14.92</td><td>29.05</td><td>-48.640275387263344</td><td>Midland Sts BNC</td></tr><tr><td>NMIH</td><td>17.1</td><td>33.25</td><td>-48.57142857142856</td><td>Nmi Holdings Inc</td></tr><tr><td>LILAK</td><td>10.02</td><td>19.46</td><td>-48.509763617677294</td><td>Liberty Latin America Cl C</td></tr><tr><td>BNFT</td><td>11.41</td><td>22.09</td><td>-48.34766862833861</td><td>Benefitfocus</td></tr><tr><td>SP</td><td>22.12</td><td>42.68</td><td>-48.17244611059044</td><td>SP Plus Corp</td></tr><tr><td>XGN</td><td>13.17</td><td>25.35</td><td>-48.04733727810651</td><td>Exagen Inc</td></tr><tr><td>CATM</td><td>23.58</td><td>45.0</td><td>-47.6</td><td>Cardtronics Inc</td></tr><tr><td>PNRG</td><td>78.9</td><td>150.4</td><td>-47.53989361702127</td><td>Primeenergy Cp</td></tr><tr><td>VREX</td><td>15.79</td><td>30.06</td><td>-47.47172322022622</td><td>Varex Imaging Corp</td></tr><tr><td>PKBK</td><td>13.35</td><td>25.39</td><td>-47.420244190626235</td><td>Parke Bancorp Inc</td></tr><tr><td>DMRC</td><td>17.79</td><td>33.83</td><td>-47.41353827963346</td><td>Digimarc Corp</td></tr><tr><td>MVBF</td><td>13.23</td><td>24.95</td><td>-46.97394789579158</td><td>Mvb Financial Corp</td></tr><tr><td>TVTY</td><td>10.89</td><td>20.53</td><td>-46.95567462250365</td><td>Tivity Health</td></tr><tr><td>HWC</td><td>23.43</td><td>44.13</td><td>-46.90686607749831</td><td>Hancock Whitney Corp</td></tr><tr><td>PACW</td><td>20.5</td><td>38.53</td><td>-46.79470542434467</td><td>Pacwest Bancorp</td></tr><tr><td>MEOH</td><td>20.82</td><td>39.09</td><td>-46.738296239447436</td><td>Methanex Cp</td></tr></tbody></table>\n",
       "     "
      ]
     },
     "metadata": {},
     "output_type": "display_data"
    }
   ],
   "source": [
    "withNamesDF\n",
    "    .filter($\"end_of_period\" > 10.0)\n",
    "    .withColumn(\"diff_percentage\", $\"diff_percentage\" * 100.0)\n",
    "    .orderBy($\"diff_percentage\".asc).display"
   ]
  },
  {
   "cell_type": "code",
   "execution_count": 16,
   "metadata": {},
   "outputs": [
    {
     "data": {
      "text/html": [
       "<link rel=\"stylesheet\" type=\"text/css\" href=\"https://producteng.builds.test.netflix.net/job/boson-v2-master/lastSuccessfulBuild/artifact/boson-viz-display/src/main/resources/notebooks.css\" />\n",
       "<script type=\"application/javascript\" src=\"https://producteng.builds.test.netflix.net/job/boson-v2-master/lastSuccessfulBuild/artifact/boson-viz-display/src/main/resources/notebooks.js\"></script>\n",
       "<table class=\"product-collection\"><thead><tr><th>ticker</th><th>end_of_period</th><th>start_of_period</th><th>diff_percentage</th></tr></thead><tbody><tr><td>WLFC</td><td>21.16</td><td>59.46</td><td>-0.6441305079044736</td></tr><tr><td>PVAC</td><td>11.66</td><td>30.69</td><td>-0.6200716845878136</td></tr><tr><td>SOHOB</td><td>10.2</td><td>26.4</td><td>-0.6136363636363636</td></tr><tr><td>UAL</td><td>35.77</td><td>89.57</td><td>-0.6006475382382493</td></tr><tr><td>CUTR</td><td>14.49</td><td>36.18</td><td>-0.599502487562189</td></tr><tr><td>MTSC</td><td>19.44</td><td>48.33</td><td>-0.5977653631284916</td></tr><tr><td>SOHOO</td><td>10.38</td><td>25.7501</td><td>-0.5968947693407015</td></tr><tr><td>PLAY</td><td>16.5</td><td>40.48</td><td>-0.592391304347826</td></tr><tr><td>ATRO</td><td>11.81</td><td>28.15</td><td>-0.5804618117229129</td></tr><tr><td>GIII</td><td>14.5</td><td>34.37</td><td>-0.5781204538842013</td></tr><tr><td>ZIV</td><td>31.75</td><td>73.03</td><td>-0.5652471587019033</td></tr><tr><td>CHEF</td><td>16.75</td><td>38.36</td><td>-0.5633472367049009</td></tr><tr><td>XGN</td><td>11.24</td><td>25.35</td><td>-0.5566074950690335</td></tr><tr><td>AAL</td><td>12.85</td><td>28.98</td><td>-0.5565907522429262</td></tr><tr><td>PKOH</td><td>15.45</td><td>33.86</td><td>-0.5437093916125222</td></tr><tr><td>VNOM</td><td>11.35</td><td>24.84</td><td>-0.5430756843800322</td></tr><tr><td>RRGB</td><td>15.49</td><td>33.08</td><td>-0.5317412333736395</td></tr><tr><td>PNRG</td><td>72.22</td><td>150.4</td><td>-0.5198138297872341</td></tr><tr><td>ANIP</td><td>29.87</td><td>62.2</td><td>-0.5197749196141479</td></tr><tr><td>NXTC</td><td>27.03</td><td>56.25</td><td>-0.5194666666666666</td></tr><tr><td>XENT</td><td>12.18</td><td>25.26</td><td>-0.5178147268408552</td></tr><tr><td>MTRX</td><td>11.19</td><td>23.08</td><td>-0.5151646447140381</td></tr><tr><td>NMIH</td><td>16.31</td><td>33.25</td><td>-0.5094736842105263</td></tr><tr><td>SAGE</td><td>35.92</td><td>72.73</td><td>-0.5061185205554791</td></tr><tr><td>ARWR</td><td>31.64</td><td>63.62</td><td>-0.5026721156868909</td></tr><tr><td>HCCI</td><td>15.79</td><td>31.68</td><td>-0.5015782828282829</td></tr><tr><td>BCOR</td><td>13.3</td><td>26.51</td><td>-0.4983025273481705</td></tr><tr><td>AIMT</td><td>17.05</td><td>33.88</td><td>-0.4967532467532468</td></tr><tr><td>DMRC</td><td>17.04</td><td>33.83</td><td>-0.49630505468519065</td></tr><tr><td>DXPE</td><td>20.26</td><td>40.2</td><td>-0.49601990049751243</td></tr><tr><td>BWFG</td><td>14.58</td><td>28.91</td><td>-0.4956762365963335</td></tr><tr><td>MLVF</td><td>11.88</td><td>23.5146</td><td>-0.4947819652471231</td></tr><tr><td>FANG</td><td>47.3</td><td>93.35</td><td>-0.4933047670058918</td></tr><tr><td>OPRT</td><td>12.4</td><td>24.2</td><td>-0.48760330578512395</td></tr><tr><td>PACW</td><td>19.8</td><td>38.53</td><td>-0.48611471580586557</td></tr><tr><td>ARKR</td><td>11.4102</td><td>22.12</td><td>-0.4841681735985534</td></tr><tr><td>CMTL</td><td>18.5</td><td>35.76</td><td>-0.482662192393736</td></tr><tr><td>UNB</td><td>18.8</td><td>36.335</td><td>-0.48259254162653087</td></tr><tr><td>SP</td><td>22.25</td><td>42.68</td><td>-0.4786785379568885</td></tr><tr><td>CASH</td><td>19.26</td><td>36.89</td><td>-0.47790729194903764</td></tr><tr><td>MEOH</td><td>20.57</td><td>39.09</td><td>-0.4737784599641853</td></tr><tr><td>ANDE</td><td>13.48</td><td>25.58</td><td>-0.47302580140734946</td></tr><tr><td>LILA</td><td>10.27</td><td>19.48</td><td>-0.4727926078028748</td></tr><tr><td>TCBI</td><td>30.15</td><td>57.16</td><td>-0.4725332400279916</td></tr><tr><td>PEBK</td><td>17.49</td><td>32.97</td><td>-0.46951774340309377</td></tr><tr><td>BSVN</td><td>10.11</td><td>19.02</td><td>-0.4684542586750789</td></tr><tr><td>OBNK</td><td>20.2</td><td>37.74</td><td>-0.46475887652358244</td></tr><tr><td>HWC</td><td>23.63</td><td>44.13</td><td>-0.4645365964196692</td></tr><tr><td>PDCE</td><td>14.08</td><td>26.23</td><td>-0.4632100648112848</td></tr><tr><td>VIAC</td><td>22.67</td><td>42.21</td><td>-0.46292347784885096</td></tr></tbody></table>\n",
       "     "
      ]
     },
     "metadata": {},
     "output_type": "display_data"
    }
   ],
   "source": [
    "compareDF\n",
    "    .filter($\"end_of_period\" > 10.0)\n",
    "    .withColumn(\"diff_percentage\", diff_percentage * 100.0)\n",
    "    .orderBy($\"diff_percentage\".asc).display"
   ]
  },
  {
   "cell_type": "code",
   "execution_count": 19,
   "metadata": {},
   "outputs": [
    {
     "name": "stdout",
     "output_type": "stream",
     "text": [
      "[Stage 48:=====================================================>(259 + 1) / 260]"
     ]
    },
    {
     "data": {
      "text/plain": [
       "week52High = [ticker: string, open: double]\n"
      ]
     },
     "metadata": {},
     "output_type": "display_data"
    },
    {
     "data": {
      "text/plain": [
       "[ticker: string, open: double]"
      ]
     },
     "execution_count": 19,
     "metadata": {},
     "output_type": "execute_result"
    }
   ],
   "source": [
    "val week52High = spark.table(tableName)\n",
    "    .filter($\"date\" < 20200101)\n",
    "    .filter($\"date\" > 20190101)\n",
    "    .groupBy(\"ticker\")\n",
    "    .agg(max($\"open\") as \"open\")\n",
    "    .cache()"
   ]
  },
  {
   "cell_type": "code",
   "execution_count": 20,
   "metadata": {},
   "outputs": [
    {
     "name": "stdout",
     "output_type": "stream",
     "text": [
      "[Stage 49:======================================================> (51 + 1) / 52]+------+------+\n",
      "|ticker|  open|\n",
      "+------+------+\n",
      "|  MSFT|159.45|\n",
      "+------+------+\n",
      "\n"
     ]
    }
   ],
   "source": [
    "week52High.filter($\"ticker\" === \"MSFT\").show()"
   ]
  },
  {
   "cell_type": "markdown",
   "metadata": {},
   "source": [
    "#### Also, just check how the average prices of stocks have gone higher.  So, if you would have bought it every day, you still would have been in a better position now.\n",
    "\n",
    "Now, what happens if you would have bought it on days when there was a fall? What would the gains look like."
   ]
  },
  {
   "cell_type": "code",
   "execution_count": 1,
   "metadata": {},
   "outputs": [
    {
     "data": {
      "text/plain": [
       "Name: Compile Error\n",
       "Message: <console>:58: error: not found: value week52High\n",
       "       val compareWithMaxDF = getComparisionDF(week52High, readDF(20200604))\n",
       "                                               ^\n",
       "\n",
       "StackTrace: "
      ]
     },
     "execution_count": 1,
     "metadata": {},
     "output_type": "execute_result"
    }
   ],
   "source": [
    "val compareWithMaxDF = getComparisionDF(week52High, readDF(20200604))"
   ]
  },
  {
   "cell_type": "code",
   "execution_count": 23,
   "metadata": {},
   "outputs": [
    {
     "data": {
      "text/html": [
       "<link rel=\"stylesheet\" type=\"text/css\" href=\"https://producteng.builds.test.netflix.net/job/boson-v2-master/lastSuccessfulBuild/artifact/boson-viz-display/src/main/resources/notebooks.css\" />\n",
       "<script type=\"application/javascript\" src=\"https://producteng.builds.test.netflix.net/job/boson-v2-master/lastSuccessfulBuild/artifact/boson-viz-display/src/main/resources/notebooks.js\"></script>\n",
       "<table class=\"product-collection\"><thead><tr><th>ticker</th><th>end_of_period</th><th>start_of_period</th><th>diff_percentage</th></tr></thead><tbody><tr><td>MSFT</td><td>184.3</td><td>159.45</td><td>0.1558482282847289</td></tr></tbody></table>\n",
       "     "
      ]
     },
     "metadata": {},
     "output_type": "display_data"
    }
   ],
   "source": [
    "compareWithMaxDF\n",
    "    .filter($\"end_of_period\" > 10.0)\n",
    "    .filter($\"ticker\" === \"MSFT\")\n",
    "    .orderBy($\"diff_percentage\".asc).display"
   ]
  },
  {
   "cell_type": "code",
   "execution_count": 22,
   "metadata": {},
   "outputs": [
    {
     "data": {
      "text/html": [
       "<link rel=\"stylesheet\" type=\"text/css\" href=\"https://producteng.builds.test.netflix.net/job/boson-v2-master/lastSuccessfulBuild/artifact/boson-viz-display/src/main/resources/notebooks.css\" />\n",
       "<script type=\"application/javascript\" src=\"https://producteng.builds.test.netflix.net/job/boson-v2-master/lastSuccessfulBuild/artifact/boson-viz-display/src/main/resources/notebooks.js\"></script>\n",
       "<table class=\"product-collection\"><thead><tr><th>ticker</th><th>end_of_period</th><th>start_of_period</th><th>diff_percentage</th></tr></thead><tbody><tr><td>TLRY</td><td>10.13</td><td>99.0</td><td>-0.8976767676767677</td></tr><tr><td>SAGE</td><td>35.92</td><td>190.7</td><td>-0.8116413214472993</td></tr><tr><td>PVAC</td><td>11.66</td><td>57.79</td><td>-0.7982349887523792</td></tr><tr><td>BNFT</td><td>13.63</td><td>60.0</td><td>-0.7728333333333333</td></tr><tr><td>ANAB</td><td>18.94</td><td>81.23</td><td>-0.7668349132094054</td></tr><tr><td>INGN</td><td>38.08</td><td>152.87</td><td>-0.750899457055014</td></tr><tr><td>PBYI</td><td>10.96</td><td>43.26</td><td>-0.7466481738326398</td></tr><tr><td>ATRA</td><td>10.42</td><td>41.08</td><td>-0.74634858812074</td></tr><tr><td>DMRC</td><td>17.04</td><td>65.42</td><td>-0.7395291959645368</td></tr><tr><td>GGAL</td><td>10.21</td><td>38.24</td><td>-0.7330020920502092</td></tr><tr><td>ATRO</td><td>11.81</td><td>43.78</td><td>-0.7302421196893558</td></tr><tr><td>PLAY</td><td>16.5</td><td>59.2</td><td>-0.7212837837837838</td></tr><tr><td>WLFC</td><td>21.16</td><td>71.37</td><td>-0.7035168838447527</td></tr><tr><td>PDCE</td><td>14.08</td><td>46.88</td><td>-0.6996587030716724</td></tr><tr><td>NXTC</td><td>27.03</td><td>87.5</td><td>-0.6910857142857143</td></tr><tr><td>AERI</td><td>15.14</td><td>48.72</td><td>-0.6892446633825944</td></tr><tr><td>VNOM</td><td>11.35</td><td>36.36</td><td>-0.6878437843784379</td></tr><tr><td>MTSC</td><td>19.44</td><td>60.75</td><td>-0.68</td></tr><tr><td>MEOH</td><td>20.57</td><td>62.24</td><td>-0.6695051413881749</td></tr><tr><td>GIII</td><td>14.5</td><td>43.63</td><td>-0.6676598670639469</td></tr><tr><td>SBGI</td><td>20.52</td><td>61.35</td><td>-0.6655256723716381</td></tr><tr><td>MYGN</td><td>15.47</td><td>45.61</td><td>-0.6608199956149967</td></tr><tr><td>AAL</td><td>12.85</td><td>36.81</td><td>-0.6509100787829394</td></tr><tr><td>ANIP</td><td>29.87</td><td>85.38</td><td>-0.6501522604825485</td></tr><tr><td>XENT</td><td>12.18</td><td>34.8</td><td>-0.65</td></tr><tr><td>DGLD</td><td>17.27</td><td>49.27</td><td>-0.6494824436776943</td></tr><tr><td>ANDE</td><td>13.48</td><td>37.52</td><td>-0.6407249466950959</td></tr><tr><td>VNDA</td><td>11.46</td><td>31.05</td><td>-0.6309178743961352</td></tr><tr><td>AUTL</td><td>12.93</td><td>35.0</td><td>-0.6305714285714286</td></tr><tr><td>BCOR</td><td>13.3</td><td>35.99</td><td>-0.6304529035843289</td></tr><tr><td>KALV</td><td>11.42</td><td>30.87</td><td>-0.6300615484288954</td></tr><tr><td>CUTR</td><td>14.49</td><td>38.94</td><td>-0.6278890600924498</td></tr><tr><td>UAL</td><td>35.77</td><td>95.38</td><td>-0.624973789054309</td></tr><tr><td>TRIP</td><td>22.99</td><td>60.42</td><td>-0.619496855345912</td></tr><tr><td>MBCN</td><td>18.85</td><td>49.47</td><td>-0.6189609864564382</td></tr><tr><td>MGPI</td><td>38.32</td><td>99.89</td><td>-0.6163780158173991</td></tr><tr><td>UNB</td><td>18.8</td><td>48.97</td><td>-0.6160914845823974</td></tr><tr><td>SOHOB</td><td>10.2</td><td>26.39</td><td>-0.6134899583175446</td></tr><tr><td>XGN</td><td>11.24</td><td>29.02</td><td>-0.6126809097174363</td></tr><tr><td>WRLD</td><td>68.37</td><td>174.67</td><td>-0.6085761722104539</td></tr><tr><td>PNRG</td><td>72.22</td><td>184.2</td><td>-0.6079261672095548</td></tr><tr><td>SOHOO</td><td>10.38</td><td>26.3</td><td>-0.6053231939163498</td></tr><tr><td>COMM</td><td>10.57</td><td>26.78</td><td>-0.6053024645257655</td></tr><tr><td>LYFT</td><td>34.71</td><td>87.24</td><td>-0.6021320495185695</td></tr><tr><td>TIGO</td><td>27.8</td><td>69.85</td><td>-0.6020042949176807</td></tr><tr><td>EBIX</td><td>25.45</td><td>63.89</td><td>-0.601659101580842</td></tr><tr><td>RMR</td><td>30.74</td><td>77.16</td><td>-0.6016070502851218</td></tr><tr><td>LOVE</td><td>18.0</td><td>45.11</td><td>-0.6009753934825981</td></tr><tr><td>BOOM</td><td>30.38</td><td>75.71</td><td>-0.5987320036983226</td></tr><tr><td>PKOH</td><td>15.45</td><td>38.46</td><td>-0.5982839313572543</td></tr></tbody></table>\n",
       "     "
      ]
     },
     "metadata": {},
     "output_type": "display_data"
    }
   ],
   "source": [
    "compareWithMaxDF\n",
    "    .filter($\"end_of_period\" > 10.0)\n",
    "    .orderBy($\"diff_percentage\".asc).display"
   ]
  },
  {
   "cell_type": "code",
   "execution_count": null,
   "metadata": {},
   "outputs": [],
   "source": [
    "org.apache.spark.sql.functions.min"
   ]
  },
  {
   "cell_type": "code",
   "execution_count": 16,
   "metadata": {},
   "outputs": [
    {
     "name": "stdout",
     "output_type": "stream",
     "text": [
      "[Stage 9:======================================================>(257 + 3) / 260]"
     ]
    },
    {
     "data": {
      "text/plain": [
       "summary2019DF = [ticker: string, min_2019: double ... 2 more fields]\n"
      ]
     },
     "metadata": {},
     "output_type": "display_data"
    },
    {
     "data": {
      "text/plain": [
       "[ticker: string, min_2019: double ... 2 more fields]"
      ]
     },
     "execution_count": 16,
     "metadata": {},
     "output_type": "execute_result"
    }
   ],
   "source": [
    "val summary2019DF = spark.table(tableName)\n",
    "    .filter($\"date\" >= 20190101)\n",
    "    .filter($\"date\" > 20190101)\n",
    "    .groupBy(\"ticker\")\n",
    "    .agg(\n",
    "        org.apache.spark.sql.functions.min($\"open\") as \"min_2019\",\n",
    "        org.apache.spark.sql.functions.max($\"open\") as \"max_2019\",\n",
    "        org.apache.spark.sql.functions.avg($\"open\") as \"avg_2019\"\n",
    "    )\n",
    "    .cache()"
   ]
  },
  {
   "cell_type": "code",
   "execution_count": 44,
   "metadata": {},
   "outputs": [
    {
     "data": {
      "text/plain": [
       "FAANG = List(FB, AAPL, AMZN, NFLX, GOOG, MSFT)\n"
      ]
     },
     "metadata": {},
     "output_type": "display_data"
    },
    {
     "data": {
      "text/plain": [
       "List(FB, AAPL, AMZN, NFLX, GOOG, MSFT)"
      ]
     },
     "execution_count": 44,
     "metadata": {},
     "output_type": "execute_result"
    }
   ],
   "source": [
    "val FAANG = List(\"FB\", \"AAPL\", \"AMZN\", \"NFLX\", \"GOOG\", \"MSFT\")"
   ]
  },
  {
   "cell_type": "code",
   "execution_count": 25,
   "metadata": {},
   "outputs": [
    {
     "data": {
      "text/plain": [
       "percentageGrowthUDF: org.apache.spark.sql.expressions.UserDefinedFunction\n"
      ]
     },
     "metadata": {},
     "output_type": "display_data"
    }
   ],
   "source": []
  },
  {
   "cell_type": "code",
   "execution_count": 45,
   "metadata": {},
   "outputs": [
    {
     "data": {
      "text/plain": [
       "Name: Compile Error\n",
       "Message: <console>:56: error: not found: value summary2019DF\n",
       "       summary2019DF\n",
       "       ^\n",
       "\n",
       "StackTrace: "
      ]
     },
     "execution_count": 45,
     "metadata": {},
     "output_type": "execute_result"
    }
   ],
   "source": [
    "summary2019DF\n",
    "    .filter($\"ticker\".isin(FAANG:_*))\n",
    "    .display"
   ]
  },
  {
   "cell_type": "code",
   "execution_count": 21,
   "metadata": {},
   "outputs": [
    {
     "data": {
      "text/plain": [
       "fatDF = [ticker: string, end_of_period: double ... 6 more fields]\n"
      ]
     },
     "metadata": {},
     "output_type": "display_data"
    },
    {
     "data": {
      "text/plain": [
       "[ticker: string, end_of_period: double ... 6 more fields]"
      ]
     },
     "execution_count": 21,
     "metadata": {},
     "output_type": "execute_result"
    }
   ],
   "source": [
    "val fatDF = withNamesDF.join(summary2019DF, summary2019DF(\"ticker\") === withNamesDF(\"ticker\"))\n",
    "    .drop(summary2019DF(\"ticker\"))"
   ]
  },
  {
   "cell_type": "code",
   "execution_count": 46,
   "metadata": {},
   "outputs": [
    {
     "name": "stdout",
     "output_type": "stream",
     "text": [
      "[Stage 221:>                                                        (0 + 2) / 2]"
     ]
    },
    {
     "data": {
      "text/html": [
       "<link rel=\"stylesheet\" type=\"text/css\" href=\"https://producteng.builds.test.netflix.net/job/boson-v2-master/lastSuccessfulBuild/artifact/boson-viz-display/src/main/resources/notebooks.css\" />\n",
       "<script type=\"application/javascript\" src=\"https://producteng.builds.test.netflix.net/job/boson-v2-master/lastSuccessfulBuild/artifact/boson-viz-display/src/main/resources/notebooks.js\"></script>\n",
       "<table class=\"product-collection\"><thead><tr><th>ticker</th><th>end_of_period</th><th>start_of_period</th><th>diff_percentage</th><th>name</th><th>min_2019</th><th>max_2019</th><th>avg_2019</th></tr></thead><tbody><tr><td>SRRA</td><td>15.65</td><td>0.355</td><td>4308.450704225352</td><td>Sierra Oncology Inc</td><td>0.22</td><td>2.0</td><td>0.9052434615384615</td></tr><tr><td>BLPH</td><td>13.5</td><td>0.36</td><td>3650.0</td><td>Bellerophon Ther Com</td><td>0.33</td><td>1.09</td><td>0.6068000000000001</td></tr><tr><td>UONE</td><td>40.75</td><td>1.81</td><td>2151.381215469613</td><td>Urban One Inc</td><td>1.72</td><td>2.76</td><td>2.1226619230769233</td></tr><tr><td>CODX</td><td>15.95</td><td>0.9</td><td>1672.2222222222222</td><td>Co-Diagnostics Inc</td><td>0.7351</td><td>3.24</td><td>1.0729103846153842</td></tr><tr><td>NVAX</td><td>63.28</td><td>3.99</td><td>1485.9649122807018</td><td>Novavax Inc</td><td>3.7</td><td>46.8</td><td>12.280407692307696</td></tr><tr><td>AHPI</td><td>10.68</td><td>1.22</td><td>775.4098360655737</td><td>Allied Healthcare</td><td>0.92</td><td>2.1</td><td>1.577083076923077</td></tr><tr><td>GRPN</td><td>21.02</td><td>2.42</td><td>768.5950413223142</td><td>Groupon Cl A</td><td>2.25</td><td>3.79</td><td>3.1845</td></tr><tr><td>AIRTP</td><td>20.9499</td><td>2.48</td><td>744.7540322580645</td><td>Air T Inc Funding Alpha Income Trust Preferred</td><td>2.08</td><td>3.16</td><td>2.4508157534246577</td></tr><tr><td>LTRPB</td><td>51.85</td><td>7.25</td><td>615.1724137931035</td><td>Liberty Tripadv B</td><td>6.739</td><td>18.93</td><td>12.439446486486483</td></tr><tr><td>VERI</td><td>17.08</td><td>2.53</td><td>575.098814229249</td><td>Veritone Inc</td><td>2.37</td><td>9.64</td><td>5.411423076923077</td></tr><tr><td>CARV</td><td>14.67</td><td>2.3501</td><td>524.2287562231395</td><td>Carver Bancorp</td><td>2.31</td><td>4.6</td><td>3.199572692307692</td></tr><tr><td>CLDX</td><td>10.4</td><td>2.24</td><td>364.2857142857143</td><td>Celldex Therapeutics</td><td>2.05</td><td>10.5</td><td>3.311076923076923</td></tr><tr><td>RAND</td><td>12.2166</td><td>2.699</td><td>352.6343090033346</td><td>Rand Capital Cp</td><td>2.16</td><td>3.18</td><td>2.7238773076923075</td></tr><tr><td>INO</td><td>14.43</td><td>3.39</td><td>325.6637168141593</td><td>Inovio Pharma</td><td>1.98</td><td>5.09</td><td>3.1345384615384613</td></tr><tr><td>NMRD</td><td>13.79</td><td>3.55</td><td>288.45070422535207</td><td>Nemaura Med Inc</td><td>0.5402</td><td>5.25</td><td>1.1420923076923077</td></tr><tr><td>BTAI</td><td>55.02</td><td>14.5</td><td>279.44827586206895</td><td>Bioxcel Therapeutics Inc</td><td>3.75</td><td>11.91</td><td>8.621786923076922</td></tr><tr><td>ARCT</td><td>40.49</td><td>10.87</td><td>272.49310027598904</td><td>Arcturus Therapeutics Ltd</td><td>4.4</td><td>14.58</td><td>8.478558846153847</td></tr><tr><td>MRSN</td><td>21.17</td><td>5.81</td><td>264.3717728055078</td><td>Mersana Therapeutics Inc</td><td>1.44</td><td>7.5</td><td>3.8790769230769233</td></tr><tr><td>KALA</td><td>13.43</td><td>3.77</td><td>256.2334217506631</td><td>Kala Pharmaceuticals Inc</td><td>3.39</td><td>9.16</td><td>5.623192307692308</td></tr><tr><td>ZM</td><td>241.64</td><td>68.8</td><td>251.2209302325581</td><td>Zoom Video Communications Cl A</td><td>61.0</td><td>105.1</td><td>80.27836956521739</td></tr><tr><td>ATOM</td><td>10.41</td><td>3.13</td><td>232.58785942492014</td><td>Atomera Inc</td><td>2.55</td><td>5.6</td><td>3.710395384615385</td></tr><tr><td>ACMR</td><td>62.28</td><td>18.73</td><td>232.5146823278163</td><td>Acm Research Inc</td><td>9.26</td><td>21.5</td><td>14.87002423076923</td></tr><tr><td>MRNA</td><td>64.99</td><td>19.57</td><td>232.08993357179355</td><td>Moderna Inc</td><td>12.26</td><td>28.89</td><td>18.190769230769227</td></tr><tr><td>OSTK</td><td>22.59</td><td>7.08</td><td>219.0677966101695</td><td>Overstock.com Inc</td><td>6.63</td><td>26.89</td><td>14.375961538461535</td></tr><tr><td>ZYXI</td><td>24.5</td><td>7.95</td><td>208.17610062893084</td><td>Zynex Inc</td><td>4.35</td><td>12.6</td><td>8.04151948051948</td></tr><tr><td>IMRN</td><td>10.71</td><td>3.56</td><td>200.8426966292135</td><td>Immuron Ltd</td><td>2.53</td><td>8.45</td><td>4.555326153846153</td></tr><tr><td>VIR</td><td>37.71</td><td>12.56</td><td>200.2388535031847</td><td>Vir Biotechnology Inc</td><td>11.9</td><td>16.15</td><td>13.450862068965517</td></tr><tr><td>TVIX</td><td>145.24</td><td>48.71</td><td>198.17285978238556</td><td>VS 2X VIX Short Term</td><td>6.01</td><td>79.17</td><td>25.720884615384616</td></tr><tr><td>ALPN</td><td>11.5</td><td>3.98</td><td>188.94472361809045</td><td>Alpine Immune Sciences Inc</td><td>2.3414</td><td>8.2436</td><td>4.850632307692308</td></tr><tr><td>LVGO</td><td>71.65</td><td>25.3</td><td>183.20158102766803</td><td>Livongo Health Inc</td><td>15.57</td><td>43.97</td><td>26.89956140350877</td></tr><tr><td>QDEL</td><td>209.2</td><td>75.24</td><td>178.0435938330675</td><td>Quidel Cp</td><td>48.01</td><td>74.07</td><td>61.28019230769229</td></tr><tr><td>HEBT</td><td>16.13</td><td>5.88</td><td>174.31972789115648</td><td>Hebron Technology Co. Ltd</td><td>0.73</td><td>8.79</td><td>2.418675</td></tr><tr><td>WINS</td><td>28.05</td><td>10.48</td><td>167.65267175572518</td><td>Wins Finance Holdings Inc</td><td>7.4</td><td>60.1</td><td>16.942196153846158</td></tr><tr><td>CGEN</td><td>15.58</td><td>6.01</td><td>159.23460898502498</td><td>Compugen Ltd</td><td>2.17</td><td>6.22</td><td>3.9613011538461538</td></tr><tr><td>GNMK</td><td>12.52</td><td>4.87</td><td>157.0841889117043</td><td>Genmark Diagnostics</td><td>4.74</td><td>7.93</td><td>6.331192307692308</td></tr><tr><td>PTGX</td><td>17.95</td><td>7.09</td><td>153.17348377997178</td><td>Protagonist Therapeutics Inc</td><td>5.5</td><td>16.5</td><td>10.592461538461537</td></tr><tr><td>ZS</td><td>114.8</td><td>46.87</td><td>144.93279283123536</td><td>Zscaler Inc</td><td>38.39</td><td>88.5</td><td>60.7458076923077</td></tr><tr><td>MGNX</td><td>26.55</td><td>11.0</td><td>141.36363636363637</td><td>Macrogenics</td><td>7.59</td><td>29.37</td><td>14.746230769230767</td></tr><tr><td>VIIX</td><td>75.06</td><td>31.2</td><td>140.5769230769231</td><td>VS VIX Short Term</td><td>6.84</td><td>39.55</td><td>13.497553461538462</td></tr><tr><td>TSLA</td><td>1012.78</td><td>424.5</td><td>138.5818610129564</td><td>Tesla Inc</td><td>181.1</td><td>435.0</td><td>273.4282307692307</td></tr><tr><td>DDOG</td><td>88.25</td><td>38.22</td><td>130.90005232862376</td><td>Datadog Inc Cl A</td><td>27.9</td><td>43.1</td><td>36.07716216216216</td></tr><tr><td>BILI</td><td>44.19</td><td>19.47</td><td>126.96456086286594</td><td>Bilibili Inc ADR</td><td>13.45</td><td>20.9</td><td>16.224153846153847</td></tr><tr><td>VNET</td><td>16.82</td><td>7.49</td><td>124.56608811749</td><td>21Vianet Group Inc</td><td>6.46</td><td>10.55</td><td>7.966153846153847</td></tr><tr><td>PDD</td><td>85.89</td><td>38.5</td><td>123.0909090909091</td><td>Pinduoduo Inc ADR</td><td>19.09</td><td>44.16</td><td>28.09938461538461</td></tr><tr><td>KNSA</td><td>24.69</td><td>11.11</td><td>122.23222322232226</td><td>Kiniksa Pharmaceuticals Ltd</td><td>5.3</td><td>27.53</td><td>13.67553846153846</td></tr><tr><td>CYTK</td><td>23.36</td><td>10.64</td><td>119.54887218045111</td><td>Cytokinetics</td><td>5.97</td><td>14.41</td><td>9.969615384615386</td></tr><tr><td>DOCU</td><td>163.07</td><td>74.31</td><td>119.44556587269545</td><td>Docusign Inc</td><td>39.27</td><td>75.51</td><td>56.369769230769215</td></tr><tr><td>AMRK</td><td>18.25</td><td>8.38</td><td>117.78042959427206</td><td>A-Mark Precious Meta</td><td>7.95</td><td>14.89</td><td>12.069599230769224</td></tr><tr><td>PRPL</td><td>18.82</td><td>8.77</td><td>114.59521094640823</td><td>Purple Innovation Inc</td><td>4.62</td><td>9.65</td><td>6.688010769230768</td></tr><tr><td>BVXV</td><td>20.87</td><td>9.78</td><td>113.39468302658489</td><td>Biondvax Pharma Ads</td><td>4.75</td><td>8.82</td><td>5.913129615384616</td></tr></tbody></table>\n",
       "     "
      ]
     },
     "metadata": {},
     "output_type": "display_data"
    }
   ],
   "source": [
    "fatDF\n",
    "    .filter($\"end_of_period\" > 10.0)\n",
    "    .withColumn(\"diff_percentage\", $\"diff_percentage\" * 100.0)\n",
    "    .orderBy($\"diff_percentage\".desc).display"
   ]
  },
  {
   "cell_type": "code",
   "execution_count": 36,
   "metadata": {},
   "outputs": [
    {
     "data": {
      "text/html": [
       "<link rel=\"stylesheet\" type=\"text/css\" href=\"https://producteng.builds.test.netflix.net/job/boson-v2-master/lastSuccessfulBuild/artifact/boson-viz-display/src/main/resources/notebooks.css\" />\n",
       "<script type=\"application/javascript\" src=\"https://producteng.builds.test.netflix.net/job/boson-v2-master/lastSuccessfulBuild/artifact/boson-viz-display/src/main/resources/notebooks.js\"></script>\n",
       "<table class=\"product-collection\"><thead><tr><th>ticker</th><th>end_of_period</th><th>start_of_period</th><th>diff_percentage</th><th>name</th><th>min_2019</th><th>max_2019</th><th>avg_2019</th><th>2019_diff_percentage</th><th>2019_growth</th></tr></thead><tbody><tr><td>RRGB</td><td>12.12</td><td>33.08</td><td>-63.361547762998796</td><td>Red Robin Gourmet Burgers Inc</td><td>25.51</td><td>35.54</td><td>30.97219230769231</td><td>-52.489219913759314</td><td>39.317914543316334</td></tr><tr><td>MTSC</td><td>17.86</td><td>48.33</td><td>-63.04572729153735</td><td>M T S Systems Cp</td><td>39.67</td><td>60.75</td><td>54.123653846153836</td><td>-54.978573229140416</td><td>53.13839173178724</td></tr><tr><td>CUTR</td><td>13.57</td><td>36.18</td><td>-62.493090105030404</td><td>Cutera Inc</td><td>12.42</td><td>38.94</td><td>23.776884615384624</td><td>9.259259259259261</td><td>213.52657004830914</td></tr><tr><td>ATRO</td><td>10.57</td><td>28.15</td><td>-62.45115452930728</td><td>Astronics Cp</td><td>26.06</td><td>43.78</td><td>32.85825</td><td>-59.43975441289332</td><td>67.99693016116655</td></tr><tr><td>ZIV</td><td>28.5</td><td>73.03</td><td>-60.97494180473778</td><td>VS -1X VIX Mid Term</td><td>59.9</td><td>76.98</td><td>70.72547576923075</td><td>-52.42070116861436</td><td>28.514190317195336</td></tr><tr><td>NBLX</td><td>10.45</td><td>26.69</td><td>-60.84675908579993</td><td>Noble Midstream Partners LP</td><td>26.45</td><td>27.8</td><td>27.125</td><td>-60.49149338374291</td><td>5.103969754253314</td></tr><tr><td>GIII</td><td>13.97</td><td>34.37</td><td>-59.35408786732616</td><td>G-III Apparel Gp</td><td>18.53</td><td>43.63</td><td>30.524153846153848</td><td>-24.608742579600648</td><td>135.45601726929303</td></tr><tr><td>SOHON</td><td>10.75</td><td>26.114</td><td>-58.83434173240407</td><td>Sotherly Hotels Inc Perp Pfd Ser D</td><td>25.1</td><td>26.98</td><td>25.835902222222234</td><td>-57.171314741035864</td><td>7.490039840637445</td></tr><tr><td>WLFC</td><td>24.81</td><td>59.46</td><td>-58.2744702320888</td><td>Willis Lease Fin C</td><td>34.44</td><td>71.37</td><td>52.419380384615394</td><td>-27.961672473867594</td><td>107.22996515679446</td></tr><tr><td>SOHOO</td><td>10.76</td><td>25.7501</td><td>-58.21375450969123</td><td>Sotherly Hotels LP</td><td>22.15</td><td>26.3</td><td>25.070528461538466</td><td>-51.42212189616253</td><td>18.73589164785554</td></tr><tr><td>PVAC</td><td>12.87</td><td>30.69</td><td>-58.06451612903226</td><td>Penn VA Corp</td><td>23.96</td><td>57.79</td><td>37.05984615384615</td><td>-46.285475792988315</td><td>141.19365609348912</td></tr><tr><td>PLAY</td><td>17.01</td><td>40.48</td><td>-57.9792490118577</td><td>Dave &amp; Buster's Ente</td><td>37.28</td><td>59.2</td><td>45.02559615384615</td><td>-54.372317596566525</td><td>58.798283261802574</td></tr><tr><td>SOHOB</td><td>11.11</td><td>26.4</td><td>-57.91666666666667</td><td>Sotherly Hotels Inc 8.0% Series B Cumulative Re</td><td>24.03</td><td>26.39</td><td>25.38269730769231</td><td>-53.76612567623804</td><td>9.821057012068245</td></tr><tr><td>CHEF</td><td>16.22</td><td>38.36</td><td>-57.716371220020854</td><td>The Chefs Warehouse</td><td>30.11</td><td>41.27</td><td>34.901192307692305</td><td>-46.130853537030895</td><td>37.064098306210575</td></tr><tr><td>NBL</td><td>10.62</td><td>24.79</td><td>-57.16014521984671</td><td>Noble Energy Inc</td><td>24.28</td><td>24.69</td><td>24.485</td><td>-56.26029654036244</td><td>1.6886326194398689</td></tr><tr><td>NXTC</td><td>24.46</td><td>56.25</td><td>-56.51555555555555</td><td>Nextcure Inc</td><td>14.22</td><td>87.5</td><td>30.31780591715978</td><td>72.0112517580872</td><td>515.3305203938115</td></tr><tr><td>MTRX</td><td>10.08</td><td>23.08</td><td>-56.32582322357018</td><td>Matrix Service Company</td><td>16.33</td><td>23.7</td><td>19.69030769230769</td><td>-38.27311696264543</td><td>45.13165952235151</td></tr><tr><td>UAL</td><td>39.94</td><td>89.57</td><td>-55.40917717985933</td><td>United Continental Holdings</td><td>77.38</td><td>95.38</td><td>86.89976923076924</td><td>-48.38459550271388</td><td>23.261824760920135</td></tr><tr><td>BCOR</td><td>12.19</td><td>26.51</td><td>-54.01735194266315</td><td>Blucora Inc</td><td>19.07</td><td>35.99</td><td>27.385961538461533</td><td>-36.077608809648666</td><td>88.7257472469848</td></tr><tr><td>CMTL</td><td>16.59</td><td>35.76</td><td>-53.60738255033557</td><td>Comtech Telecom Company</td><td>21.19</td><td>37.82</td><td>28.004692307692313</td><td>-21.70835299669656</td><td>78.48041529023124</td></tr><tr><td>VNOM</td><td>11.8</td><td>24.84</td><td>-52.49597423510467</td><td>Viper Energy LP</td><td>22.33</td><td>36.36</td><td>29.44019230769231</td><td>-47.156291983878184</td><td>62.83027317510077</td></tr><tr><td>DXPE</td><td>19.14</td><td>40.2</td><td>-52.38805970149254</td><td>Dxp Enterprise</td><td>27.31</td><td>45.0</td><td>36.0691923076923</td><td>-29.915781764921267</td><td>64.77480776272428</td></tr><tr><td>MYGN</td><td>13.05</td><td>27.37</td><td>-52.320058458165875</td><td>Myriad Genetics Inc</td><td>21.18</td><td>45.61</td><td>28.67173076923076</td><td>-38.385269121813025</td><td>115.34466477809254</td></tr><tr><td>CASH</td><td>17.67</td><td>36.89</td><td>-52.100840336134446</td><td>Meta Financial Group</td><td>18.53</td><td>35.86</td><td>27.88730769230769</td><td>-4.6411225040474875</td><td>93.5240151106314</td></tr><tr><td>PKOH</td><td>16.34</td><td>33.86</td><td>-51.74246898995866</td><td>Park Ohio Hld Cp</td><td>25.99</td><td>38.46</td><td>31.93008230769231</td><td>-37.129665255867636</td><td>47.9799923047326</td></tr><tr><td>XENT</td><td>12.22</td><td>25.26</td><td>-51.62311955661124</td><td>Intersect Ent Inc</td><td>14.88</td><td>34.8</td><td>23.998653846153843</td><td>-17.876344086021508</td><td>133.87096774193543</td></tr><tr><td>BELFB</td><td>10.2</td><td>20.72</td><td>-50.77220077220077</td><td>BEL Fuse Inc Cl B</td><td>9.75</td><td>27.03</td><td>18.548049230769227</td><td>4.615384615384608</td><td>177.23076923076923</td></tr><tr><td>ANIP</td><td>30.64</td><td>62.2</td><td>-50.739549839228296</td><td>ANI Pharma Inc</td><td>44.42</td><td>85.38</td><td>67.6746923076923</td><td>-31.022062134173794</td><td>92.21071589374154</td></tr><tr><td>MLVF</td><td>11.8</td><td>23.5146</td><td>-49.81841068952906</td><td>Malvern Bncp</td><td>19.275</td><td>23.75</td><td>21.30892115384615</td><td>-38.780804150453946</td><td>23.216601815823616</td></tr><tr><td>INGN</td><td>34.5</td><td>68.68</td><td>-49.76703552708213</td><td>Inogen Inc</td><td>41.98</td><td>152.87</td><td>78.75126923076924</td><td>-17.818008575512142</td><td>264.1495950452597</td></tr><tr><td>MATW</td><td>19.39</td><td>38.48</td><td>-49.610187110187105</td><td>Matthews Intl Corp</td><td>29.1</td><td>44.91</td><td>36.68657692307692</td><td>-33.36769759450172</td><td>54.32989690721648</td></tr><tr><td>UNB</td><td>18.49</td><td>36.335</td><td>-49.11242603550296</td><td>Union Bankshares Inc</td><td>26.02</td><td>48.97</td><td>37.45181192307691</td><td>-28.93927747886242</td><td>88.20138355111452</td></tr><tr><td>FANG</td><td>47.68</td><td>93.35</td><td>-48.9234065345474</td><td>Diamondback Energy</td><td>74.22</td><td>112.99</td><td>97.32661538461541</td><td>-35.75855564537861</td><td>52.236593909997296</td></tr><tr><td>FFIC</td><td>11.15</td><td>21.72</td><td>-48.66482504604051</td><td>Flushing Finl Corp</td><td>18.93</td><td>23.64</td><td>21.549115384615387</td><td>-41.09878499735869</td><td>24.881141045958802</td></tr><tr><td>MSBI</td><td>14.92</td><td>29.05</td><td>-48.640275387263344</td><td>Midland Sts BNC</td><td>22.06</td><td>29.3</td><td>25.978384615384623</td><td>-32.36627379873073</td><td>32.81958295557572</td></tr><tr><td>NMIH</td><td>17.1</td><td>33.25</td><td>-48.57142857142856</td><td>Nmi Holdings Inc</td><td>17.57</td><td>35.65</td><td>27.354038461538458</td><td>-2.675014228799083</td><td>102.90267501422878</td></tr><tr><td>LILAK</td><td>10.02</td><td>19.46</td><td>-48.509763617677294</td><td>Liberty Latin America Cl C</td><td>14.3</td><td>21.33</td><td>18.017961538461535</td><td>-29.930069930069937</td><td>49.160839160839146</td></tr><tr><td>BNFT</td><td>11.41</td><td>22.09</td><td>-48.34766862833861</td><td>Benefitfocus</td><td>19.53</td><td>60.0</td><td>33.12903846153848</td><td>-41.577060931899645</td><td>207.2196620583717</td></tr><tr><td>SP</td><td>22.12</td><td>42.68</td><td>-48.17244611059044</td><td>SP Plus Corp</td><td>29.25</td><td>46.53</td><td>35.940923076923085</td><td>-24.37606837606837</td><td>59.07692307692308</td></tr><tr><td>XGN</td><td>13.17</td><td>25.35</td><td>-48.04733727810651</td><td>Exagen Inc</td><td>12.9</td><td>29.02</td><td>17.593756756756758</td><td>2.09302325581395</td><td>124.9612403100775</td></tr><tr><td>CATM</td><td>23.58</td><td>45.0</td><td>-47.6</td><td>Cardtronics Inc</td><td>25.26</td><td>43.75</td><td>32.500615384615394</td><td>-6.650831353919252</td><td>73.19873317498019</td></tr><tr><td>PNRG</td><td>78.9</td><td>150.4</td><td>-47.53989361702127</td><td>Primeenergy Cp</td><td>71.03</td><td>184.2</td><td>129.86155500000007</td><td>11.079825425876397</td><td>159.32704491060113</td></tr><tr><td>VREX</td><td>15.79</td><td>30.06</td><td>-47.47172322022622</td><td>Varex Imaging Corp</td><td>23.29</td><td>34.43</td><td>29.862576923076933</td><td>-32.2026620867325</td><td>47.83168741949335</td></tr><tr><td>PKBK</td><td>13.35</td><td>25.39</td><td>-47.420244190626235</td><td>Parke Bancorp Inc</td><td>18.14</td><td>25.45</td><td>22.223815769230765</td><td>-26.40573318632856</td><td>40.29768467475192</td></tr><tr><td>DMRC</td><td>17.79</td><td>33.83</td><td>-47.41353827963346</td><td>Digimarc Corp</td><td>14.19</td><td>65.42</td><td>37.336269230769226</td><td>25.36997885835095</td><td>361.02889358703317</td></tr><tr><td>MVBF</td><td>13.23</td><td>24.95</td><td>-46.97394789579158</td><td>Mvb Financial Corp</td><td>14.85</td><td>24.64</td><td>17.971375384615385</td><td>-10.909090909090905</td><td>65.92592592592594</td></tr><tr><td>TVTY</td><td>10.89</td><td>20.53</td><td>-46.95567462250365</td><td>Tivity Health</td><td>15.0</td><td>25.1</td><td>19.159711538461533</td><td>-27.399999999999995</td><td>67.33333333333334</td></tr><tr><td>HWC</td><td>23.43</td><td>44.13</td><td>-46.90686607749831</td><td>Hancock Whitney Corp</td><td>33.78</td><td>44.42</td><td>40.153615384615385</td><td>-30.639431616341035</td><td>31.497927767910006</td></tr><tr><td>PACW</td><td>20.5</td><td>38.53</td><td>-46.79470542434467</td><td>Pacwest Bancorp</td><td>32.64</td><td>41.56</td><td>37.77888461538464</td><td>-37.193627450980394</td><td>27.328431372549023</td></tr><tr><td>MEOH</td><td>20.82</td><td>39.09</td><td>-46.738296239447436</td><td>Methanex Cp</td><td>30.61</td><td>62.24</td><td>45.156076923076924</td><td>-31.983012087553085</td><td>103.33224436458674</td></tr></tbody></table>\n",
       "     "
      ]
     },
     "metadata": {},
     "output_type": "display_data"
    }
   ],
   "source": [
    "fatDF\n",
    "    .filter($\"end_of_period\" > 10.0)\n",
    "    .withColumn(\"diff_percentage\", $\"diff_percentage\" * 100.0)\n",
    "    .withColumn(\"2019_diff_percentage\", percentageGrowthUDF($\"min_2019\", $\"end_of_period\"))\n",
    "    .withColumn(\"2019_growth\", percentageGrowthUDF($\"min_2019\", $\"max_2019\"))\n",
    "    .orderBy($\"diff_percentage\".asc).display"
   ]
  },
  {
   "cell_type": "markdown",
   "metadata": {},
   "source": [
    "### How about looking at companies that had a positive growth in 2019, 2018 and are below pre-pandemic numbers. "
   ]
  },
  {
   "cell_type": "code",
   "execution_count": 25,
   "metadata": {},
   "outputs": [
    {
     "data": {
      "text/plain": [
       "compareWithLowDF = [ticker: string, end_of_period: double ... 2 more fields]\n"
      ]
     },
     "metadata": {},
     "output_type": "display_data"
    },
    {
     "data": {
      "text/plain": [
       "[ticker: string, end_of_period: double ... 2 more fields]"
      ]
     },
     "execution_count": 25,
     "metadata": {},
     "output_type": "execute_result"
    }
   ],
   "source": [
    "val compareWithLowDF = getComparisionDF(week52Low, readDF(20200604))"
   ]
  },
  {
   "cell_type": "code",
   "execution_count": 26,
   "metadata": {},
   "outputs": [
    {
     "name": "stdout",
     "output_type": "stream",
     "text": [
      "[Stage 70:======================================================> (51 + 1) / 52]"
     ]
    },
    {
     "data": {
      "text/html": [
       "<link rel=\"stylesheet\" type=\"text/css\" href=\"https://producteng.builds.test.netflix.net/job/boson-v2-master/lastSuccessfulBuild/artifact/boson-viz-display/src/main/resources/notebooks.css\" />\n",
       "<script type=\"application/javascript\" src=\"https://producteng.builds.test.netflix.net/job/boson-v2-master/lastSuccessfulBuild/artifact/boson-viz-display/src/main/resources/notebooks.js\"></script>\n",
       "<table class=\"product-collection\"><thead><tr><th>ticker</th><th>end_of_period</th><th>start_of_period</th><th>diff_percentage</th></tr></thead><tbody><tr><td>MSFT</td><td>184.3</td><td>99.55</td><td>0.8513309894525366</td></tr></tbody></table>\n",
       "     "
      ]
     },
     "metadata": {},
     "output_type": "display_data"
    }
   ],
   "source": [
    "compareWithLowDF\n",
    "    .filter($\"end_of_period\" > 10.0)\n",
    "    .filter($\"ticker\" === \"MSFT\")\n",
    "    .orderBy($\"diff_percentage\".asc).display"
   ]
  },
  {
   "cell_type": "code",
   "execution_count": 27,
   "metadata": {},
   "outputs": [
    {
     "data": {
      "text/html": [
       "<link rel=\"stylesheet\" type=\"text/css\" href=\"https://producteng.builds.test.netflix.net/job/boson-v2-master/lastSuccessfulBuild/artifact/boson-viz-display/src/main/resources/notebooks.css\" />\n",
       "<script type=\"application/javascript\" src=\"https://producteng.builds.test.netflix.net/job/boson-v2-master/lastSuccessfulBuild/artifact/boson-viz-display/src/main/resources/notebooks.js\"></script>\n",
       "<table class=\"product-collection\"><thead><tr><th>ticker</th><th>end_of_period</th><th>start_of_period</th><th>diff_percentage</th></tr></thead><tbody><tr><td>SOHOB</td><td>10.2</td><td>24.03</td><td>-0.5755305867665419</td></tr><tr><td>PLAY</td><td>16.5</td><td>37.28</td><td>-0.5574034334763949</td></tr><tr><td>ATRO</td><td>11.81</td><td>26.06</td><td>-0.5468150422102839</td></tr><tr><td>UAL</td><td>35.77</td><td>77.38</td><td>-0.5377358490566037</td></tr><tr><td>SOHOO</td><td>10.38</td><td>22.15</td><td>-0.5313769751693002</td></tr><tr><td>PVAC</td><td>11.66</td><td>23.96</td><td>-0.5133555926544241</td></tr><tr><td>MTSC</td><td>19.44</td><td>39.67</td><td>-0.5099571464582808</td></tr><tr><td>VNOM</td><td>11.35</td><td>22.33</td><td>-0.49171518137035375</td></tr><tr><td>AAL</td><td>12.85</td><td>24.41</td><td>-0.4735764031134781</td></tr><tr><td>ZIV</td><td>31.75</td><td>59.9</td><td>-0.4699499165275459</td></tr><tr><td>CHEF</td><td>16.75</td><td>30.11</td><td>-0.44370640983062104</td></tr><tr><td>BWFG</td><td>14.58</td><td>25.08</td><td>-0.4186602870813397</td></tr><tr><td>PKOH</td><td>15.45</td><td>25.99</td><td>-0.4055405925355906</td></tr><tr><td>CLDB</td><td>12.17</td><td>20.41</td><td>-0.4037236648701617</td></tr><tr><td>TCBI</td><td>30.15</td><td>50.3</td><td>-0.40059642147117297</td></tr><tr><td>PACW</td><td>19.8</td><td>32.64</td><td>-0.39338235294117646</td></tr><tr><td>RRGB</td><td>15.49</td><td>25.51</td><td>-0.3927871422971384</td></tr><tr><td>VIAC</td><td>22.67</td><td>37.26</td><td>-0.3915727321524422</td></tr><tr><td>WLFC</td><td>21.16</td><td>34.44</td><td>-0.3855981416957026</td></tr><tr><td>MLVF</td><td>11.88</td><td>19.275</td><td>-0.38365758754863805</td></tr><tr><td>ISTR</td><td>13.78</td><td>22.17</td><td>-0.3784393324312134</td></tr><tr><td>FFIC</td><td>11.79</td><td>18.93</td><td>-0.3771790808240888</td></tr><tr><td>LORL</td><td>19.18</td><td>30.73</td><td>-0.37585421412300685</td></tr><tr><td>FFBC</td><td>13.93</td><td>22.2</td><td>-0.3725225225225225</td></tr><tr><td>STXB</td><td>12.85</td><td>20.3</td><td>-0.36699507389162567</td></tr><tr><td>ARKR</td><td>11.4102</td><td>17.97</td><td>-0.36504173622704505</td></tr><tr><td>SAGE</td><td>35.92</td><td>56.5</td><td>-0.36424778761061943</td></tr><tr><td>FANG</td><td>47.3</td><td>74.22</td><td>-0.3627054702236594</td></tr><tr><td>HTBI</td><td>15.43</td><td>24.18</td><td>-0.36186931348221674</td></tr><tr><td>DGLD</td><td>17.27</td><td>27.04</td><td>-0.36131656804733725</td></tr><tr><td>OBNK</td><td>20.2</td><td>31.58</td><td>-0.3603546548448385</td></tr><tr><td>BCML</td><td>13.13</td><td>20.51</td><td>-0.3598244758654315</td></tr><tr><td>TLRY</td><td>10.13</td><td>15.63</td><td>-0.35188739603326935</td></tr><tr><td>YGYIP</td><td>14.0</td><td>21.56</td><td>-0.3506493506493506</td></tr><tr><td>CHMG</td><td>25.55</td><td>39.05</td><td>-0.3457106274007682</td></tr><tr><td>NWBI</td><td>10.28</td><td>15.62</td><td>-0.3418693982074264</td></tr><tr><td>WSBC</td><td>22.17</td><td>33.54</td><td>-0.3389982110912343</td></tr><tr><td>ECOL</td><td>36.05</td><td>54.17</td><td>-0.33450249215432903</td></tr><tr><td>FVCB</td><td>10.73</td><td>16.06</td><td>-0.3318804483188044</td></tr><tr><td>MEOH</td><td>20.57</td><td>30.61</td><td>-0.32799738647500815</td></tr><tr><td>CVLY</td><td>13.62</td><td>20.2643</td><td>-0.3278820388565112</td></tr><tr><td>ANIP</td><td>29.87</td><td>44.42</td><td>-0.3275551553354345</td></tr><tr><td>TIGO</td><td>27.8</td><td>41.21</td><td>-0.32540645474399416</td></tr><tr><td>PXI</td><td>16.31</td><td>24.16</td><td>-0.3249172185430464</td></tr><tr><td>FDBC</td><td>37.1</td><td>54.74</td><td>-0.32225063938618925</td></tr><tr><td>CAKE</td><td>24.58</td><td>36.2</td><td>-0.3209944751381216</td></tr><tr><td>VIACA</td><td>27.01</td><td>39.63</td><td>-0.31844562200353266</td></tr><tr><td>MNSB</td><td>13.26</td><td>19.45</td><td>-0.3182519280205655</td></tr><tr><td>MTRX</td><td>11.19</td><td>16.33</td><td>-0.31475811390079605</td></tr><tr><td>BFST</td><td>15.51</td><td>22.56</td><td>-0.31249999999999994</td></tr></tbody></table>\n",
       "     "
      ]
     },
     "metadata": {},
     "output_type": "display_data"
    }
   ],
   "source": [
    "compareWithLowDF\n",
    "    .filter($\"end_of_period\" > 10.0)\n",
    "    .orderBy($\"diff_percentage\".asc).display"
   ]
  },
  {
   "cell_type": "code",
   "execution_count": 8,
   "metadata": {},
   "outputs": [
    {
     "data": {
      "text/html": [
       "<link rel=\"stylesheet\" type=\"text/css\" href=\"https://producteng.builds.test.netflix.net/job/boson-v2-master/lastSuccessfulBuild/artifact/boson-viz-display/src/main/resources/notebooks.css\" />\n",
       "<script type=\"application/javascript\" src=\"https://producteng.builds.test.netflix.net/job/boson-v2-master/lastSuccessfulBuild/artifact/boson-viz-display/src/main/resources/notebooks.js\"></script>\n",
       "<table class=\"product-collection\"><thead><tr><th>ticker</th><th>end_of_period</th><th>start_of_period</th><th>diff_percentage</th></tr></thead><tbody><tr><td>MSFT</td><td>184.3</td><td>99.55</td><td>0.8513309894525366</td></tr><tr><td>ROKU</td><td>104.0</td><td>29.82</td><td>2.4875922199865865</td></tr><tr><td>FB</td><td>229.56</td><td>128.99</td><td>0.7796728428560352</td></tr><tr><td>NFLX</td><td>422.39</td><td>255.71</td><td>0.6518321536115129</td></tr></tbody></table>\n",
       "     "
      ]
     },
     "metadata": {},
     "output_type": "display_data"
    }
   ],
   "source": [
    "compareWithLowDF.filter($\"ticker\".isin(\"ROKU\", \"MSFT\", \"FB\", \"NFLX\")).display"
   ]
  },
  {
   "cell_type": "code",
   "execution_count": 9,
   "metadata": {},
   "outputs": [
    {
     "data": {
      "text/html": [
       "<link rel=\"stylesheet\" type=\"text/css\" href=\"https://producteng.builds.test.netflix.net/job/boson-v2-master/lastSuccessfulBuild/artifact/boson-viz-display/src/main/resources/notebooks.css\" />\n",
       "<script type=\"application/javascript\" src=\"https://producteng.builds.test.netflix.net/job/boson-v2-master/lastSuccessfulBuild/artifact/boson-viz-display/src/main/resources/notebooks.js\"></script>\n",
       "<table class=\"product-collection\"><thead><tr><th>ticker</th><th>end_of_period</th><th>start_of_period</th><th>diff_percentage</th></tr></thead><tbody><tr><td>MSFT</td><td>184.3</td><td>159.45</td><td>0.1558482282847289</td></tr><tr><td>ROKU</td><td>104.0</td><td>173.6</td><td>-0.4009216589861751</td></tr><tr><td>FB</td><td>229.56</td><td>208.6697</td><td>0.10011180348656272</td></tr><tr><td>NFLX</td><td>422.39</td><td>382.77</td><td>0.1035086344279855</td></tr></tbody></table>\n",
       "     "
      ]
     },
     "metadata": {},
     "output_type": "display_data"
    }
   ],
   "source": [
    "compareWithMaxDF.filter($\"ticker\".isin(\"ROKU\", \"MSFT\", \"FB\", \"NFLX\")).display"
   ]
  },
  {
   "cell_type": "code",
   "execution_count": 10,
   "metadata": {},
   "outputs": [
    {
     "data": {
      "text/plain": [
       "week52Avg = [ticker: string, open: double]\n"
      ]
     },
     "metadata": {},
     "output_type": "display_data"
    },
    {
     "data": {
      "text/plain": [
       "[ticker: string, open: double]"
      ]
     },
     "execution_count": 10,
     "metadata": {},
     "output_type": "execute_result"
    }
   ],
   "source": [
    "val week52Avg = spark.table(tableName)\n",
    "    .filter($\"date\" < 20200101)\n",
    "    .filter($\"date\" > 20190101)\n",
    "    .groupBy(\"ticker\")\n",
    "    .agg(avg($\"open\") as \"open\")\n",
    "    .cache()"
   ]
  },
  {
   "cell_type": "code",
   "execution_count": 11,
   "metadata": {},
   "outputs": [
    {
     "name": "stdout",
     "output_type": "stream",
     "text": [
      "[Stage 99:======================================================> (51 + 1) / 52]"
     ]
    },
    {
     "data": {
      "text/html": [
       "<link rel=\"stylesheet\" type=\"text/css\" href=\"https://producteng.builds.test.netflix.net/job/boson-v2-master/lastSuccessfulBuild/artifact/boson-viz-display/src/main/resources/notebooks.css\" />\n",
       "<script type=\"application/javascript\" src=\"https://producteng.builds.test.netflix.net/job/boson-v2-master/lastSuccessfulBuild/artifact/boson-viz-display/src/main/resources/notebooks.js\"></script>\n",
       "<table class=\"product-collection\"><thead><tr><th>ticker</th><th>open</th></tr></thead><tbody><tr><td>MSFT</td><td>130.36676923076922</td></tr><tr><td>ROKU</td><td>98.66103846153842</td></tr><tr><td>FB</td><td>181.5999796153846</td></tr><tr><td>NFLX</td><td>329.04549999999995</td></tr></tbody></table>\n",
       "     "
      ]
     },
     "metadata": {},
     "output_type": "display_data"
    }
   ],
   "source": [
    "week52Avg.filter($\"ticker\".isin(\"ROKU\", \"MSFT\", \"FB\", \"NFLX\")).display"
   ]
  },
  {
   "cell_type": "code",
   "execution_count": 12,
   "metadata": {},
   "outputs": [
    {
     "data": {
      "text/plain": [
       "compareWithAvgDF = [ticker: string, end_of_period: double ... 2 more fields]\n"
      ]
     },
     "metadata": {},
     "output_type": "display_data"
    },
    {
     "data": {
      "text/plain": [
       "[ticker: string, end_of_period: double ... 2 more fields]"
      ]
     },
     "execution_count": 12,
     "metadata": {},
     "output_type": "execute_result"
    }
   ],
   "source": [
    "val compareWithAvgDF = getComparisionDF(week52Avg, readDF(20200604))"
   ]
  },
  {
   "cell_type": "code",
   "execution_count": 16,
   "metadata": {},
   "outputs": [
    {
     "data": {
      "text/html": [
       "<link rel=\"stylesheet\" type=\"text/css\" href=\"https://producteng.builds.test.netflix.net/job/boson-v2-master/lastSuccessfulBuild/artifact/boson-viz-display/src/main/resources/notebooks.css\" />\n",
       "<script type=\"application/javascript\" src=\"https://producteng.builds.test.netflix.net/job/boson-v2-master/lastSuccessfulBuild/artifact/boson-viz-display/src/main/resources/notebooks.js\"></script>\n",
       "<table class=\"product-collection\"><thead><tr><th>ticker</th><th>end_of_period</th><th>start_of_period</th><th>diff_percentage</th></tr></thead><tbody><tr><td>TLRY</td><td>10.13</td><td>45.14019230769232</td><td>-77.55880185234888</td></tr><tr><td>SAGE</td><td>35.92</td><td>151.34496153846152</td><td>-76.2661408514273</td></tr><tr><td>PVAC</td><td>11.66</td><td>37.059846153846145</td><td>-68.53737613589661</td></tr><tr><td>ANAB</td><td>18.94</td><td>52.86623076923079</td><td>-64.17372730301881</td></tr><tr><td>MTSC</td><td>19.44</td><td>54.123653846153836</td><td>-64.08224755989666</td></tr><tr><td>ATRO</td><td>11.81</td><td>32.85825</td><td>-64.05773283726307</td></tr><tr><td>PLAY</td><td>16.5</td><td>45.025596153846145</td><td>-63.35417760239794</td></tr><tr><td>VNOM</td><td>11.35</td><td>29.440192307692303</td><td>-61.447262703394756</td></tr><tr><td>SOHOB</td><td>10.2</td><td>25.382697307692304</td><td>-59.815145426215764</td></tr><tr><td>WLFC</td><td>21.16</td><td>52.419380384615366</td><td>-59.63325044145261</td></tr><tr><td>BNFT</td><td>13.63</td><td>33.12903846153846</td><td>-58.857846068113595</td></tr><tr><td>UAL</td><td>35.77</td><td>86.89976923076922</td><td>-58.83763522431236</td></tr><tr><td>SOHOO</td><td>10.38</td><td>25.07052846153845</td><td>-58.59680414824797</td></tr><tr><td>AAL</td><td>12.85</td><td>30.914923076923078</td><td>-58.43431352545697</td></tr><tr><td>GGAL</td><td>10.21</td><td>23.638846153846156</td><td>-56.80838255153675</td></tr><tr><td>PDCE</td><td>14.08</td><td>32.04211538461537</td><td>-56.05783254010645</td></tr><tr><td>ANIP</td><td>29.87</td><td>67.6746923076923</td><td>-55.86237782331992</td></tr><tr><td>ATRA</td><td>10.42</td><td>23.473230769230778</td><td>-55.609007969798675</td></tr><tr><td>ZIV</td><td>31.75</td><td>70.72547576923075</td><td>-55.108113936770586</td></tr><tr><td>MEOH</td><td>20.57</td><td>45.15607692307692</td><td>-54.446884225481185</td></tr><tr><td>DMRC</td><td>17.04</td><td>37.33626923076922</td><td>-54.360731934198846</td></tr><tr><td>DGLD</td><td>17.27</td><td>37.83023346153846</td><td>-54.34868246964905</td></tr><tr><td>MBCN</td><td>18.85</td><td>40.76194884615384</td><td>-53.75589113478164</td></tr><tr><td>GIII</td><td>14.5</td><td>30.524153846153844</td><td>-52.49663570337739</td></tr><tr><td>CHEF</td><td>16.75</td><td>34.901192307692305</td><td>-52.0073702573529</td></tr><tr><td>AERI</td><td>15.14</td><td>31.436192307692313</td><td>-51.838950939693476</td></tr><tr><td>SBGI</td><td>20.52</td><td>42.48738461538462</td><td>-51.703311028069876</td></tr><tr><td>INGN</td><td>38.08</td><td>78.75126923076925</td><td>-51.64522378882296</td></tr><tr><td>ANDE</td><td>13.48</td><td>27.87407692307692</td><td>-51.639654158951096</td></tr><tr><td>PKOH</td><td>15.45</td><td>31.930082307692302</td><td>-51.613027955527926</td></tr><tr><td>BCOR</td><td>13.3</td><td>27.385961538461537</td><td>-51.4349715954974</td></tr><tr><td>FANG</td><td>47.3</td><td>97.32661538461538</td><td>-51.40075526814548</td></tr><tr><td>RRGB</td><td>15.49</td><td>30.972192307692307</td><td>-49.98739564149975</td></tr><tr><td>UNB</td><td>18.8</td><td>37.45181192307691</td><td>-49.80216167214092</td></tr><tr><td>XENT</td><td>12.18</td><td>23.998653846153843</td><td>-49.24715328584135</td></tr><tr><td>BWFG</td><td>14.58</td><td>28.60999423076923</td><td>-49.03878734683691</td></tr><tr><td>TIGO</td><td>27.8</td><td>54.20138666666668</td><td>-48.70979930648762</td></tr><tr><td>TRIP</td><td>22.99</td><td>44.63307692307692</td><td>-48.49111559209279</td></tr><tr><td>LORL</td><td>19.18</td><td>37.10468576923077</td><td>-48.30841549423631</td></tr><tr><td>TCBI</td><td>30.15</td><td>58.18600000000002</td><td>-48.183411817275655</td></tr><tr><td>PACW</td><td>19.8</td><td>37.77888461538462</td><td>-47.58977084268685</td></tr><tr><td>CLDB</td><td>12.17</td><td>22.79385070422535</td><td>-46.608406986959785</td></tr><tr><td>CELC</td><td>10.3</td><td>19.23469230769231</td><td>-46.450924011501655</td></tr><tr><td>MYGN</td><td>15.47</td><td>28.671730769230773</td><td>-46.04441523076201</td></tr><tr><td>USCR</td><td>24.1</td><td>44.36242307692307</td><td>-45.67474378437051</td></tr><tr><td>ANGO</td><td>10.5</td><td>19.197499999999998</td><td>-45.30537830446672</td></tr><tr><td>FFIC</td><td>11.79</td><td>21.549115384615394</td><td>-45.28777729587332</td></tr><tr><td>PLCE</td><td>48.87</td><td>88.59763461538462</td><td>-44.84051384424442</td></tr><tr><td>BLUE</td><td>64.99</td><td>117.69119230769235</td><td>-44.77921522785675</td></tr><tr><td>WRLD</td><td>68.37</td><td>123.59139846153845</td><td>-44.68061624751605</td></tr></tbody></table>\n",
       "     "
      ]
     },
     "metadata": {},
     "output_type": "display_data"
    }
   ],
   "source": [
    "compareWithAvgDF\n",
    "    .filter($\"end_of_period\" > 10.0)\n",
    "    .withColumn(\"diff_percentage\", $\"diff_percentage\" * 100.0)\n",
    "    .orderBy($\"diff_percentage\".asc).display"
   ]
  },
  {
   "cell_type": "code",
   "execution_count": 28,
   "metadata": {},
   "outputs": [
    {
     "data": {
      "text/plain": [
       "d = com.netflix.boson.util.DateInt@1343b09\n"
      ]
     },
     "metadata": {},
     "output_type": "display_data"
    },
    {
     "data": {
      "text/plain": [
       "20200201"
      ]
     },
     "execution_count": 28,
     "metadata": {},
     "output_type": "execute_result"
    }
   ],
   "source": [
    "import com.netflix.boson.util.DateInt\n",
    "val d = DateInt(20200201)"
   ]
  },
  {
   "cell_type": "code",
   "execution_count": 29,
   "metadata": {},
   "outputs": [
    {
     "data": {
      "text/plain": [
       "SATURDAY"
      ]
     },
     "execution_count": 29,
     "metadata": {},
     "output_type": "execute_result"
    }
   ],
   "source": [
    "d.toLocalDate.getDayOfWeek"
   ]
  },
  {
   "cell_type": "code",
   "execution_count": 1,
   "metadata": {},
   "outputs": [],
   "source": [
    "import java.util.concurrent.TimeUnit"
   ]
  },
  {
   "cell_type": "code",
   "execution_count": 2,
   "metadata": {},
   "outputs": [
    {
     "data": {
      "text/plain": [
       "31536000"
      ]
     },
     "execution_count": 2,
     "metadata": {},
     "output_type": "execute_result"
    }
   ],
   "source": [
    "TimeUnit.DAYS.toSeconds(365)"
   ]
  },
  {
   "cell_type": "code",
   "execution_count": 3,
   "metadata": {},
   "outputs": [
    {
     "data": {
      "text/plain": [
       "m = Map(1 -> 2, 3 -> 4)\n"
      ]
     },
     "metadata": {},
     "output_type": "display_data"
    },
    {
     "data": {
      "text/plain": [
       "Map(1 -> 2, 3 -> 4)"
      ]
     },
     "execution_count": 3,
     "metadata": {},
     "output_type": "execute_result"
    }
   ],
   "source": [
    "val m = Map(1 -> 2, 3 -> 4)"
   ]
  },
  {
   "cell_type": "code",
   "execution_count": 7,
   "metadata": {},
   "outputs": [
    {
     "data": {
      "text/plain": [
       "false"
      ]
     },
     "execution_count": 7,
     "metadata": {},
     "output_type": "execute_result"
    }
   ],
   "source": [
    "m.values.sum < 1.0"
   ]
  },
  {
   "cell_type": "code",
   "execution_count": 1,
   "metadata": {},
   "outputs": [
    {
     "data": {
      "text/plain": [
       "true"
      ]
     },
     "execution_count": 1,
     "metadata": {},
     "output_type": "execute_result"
    }
   ],
   "source": [
    "List(1, 2, 3).toSet == List(3, 2, 1).toSet"
   ]
  },
  {
   "cell_type": "code",
   "execution_count": 1,
   "metadata": {},
   "outputs": [
    {
     "data": {
      "text/plain": [
       "i = 40\n"
      ]
     },
     "metadata": {},
     "output_type": "display_data"
    },
    {
     "data": {
      "text/plain": [
       "40"
      ]
     },
     "execution_count": 1,
     "metadata": {},
     "output_type": "execute_result"
    }
   ],
   "source": [
    "var i:Int = 40"
   ]
  },
  {
   "cell_type": "code",
   "execution_count": 3,
   "metadata": {},
   "outputs": [
    {
     "data": {
      "text/plain": [
       "i1 = (\n"
      ]
     },
     "metadata": {},
     "output_type": "display_data"
    },
    {
     "data": {
      "text/plain": [
       "lastException: Throwable = null\n"
      ]
     },
     "metadata": {},
     "output_type": "display_data"
    },
    {
     "data": {
      "text/plain": [
       "("
      ]
     },
     "execution_count": 3,
     "metadata": {},
     "output_type": "execute_result"
    }
   ],
   "source": [
    "val i1: Char = i.asInstanceOf[Char]"
   ]
  },
  {
   "cell_type": "code",
   "execution_count": 4,
   "metadata": {},
   "outputs": [
    {
     "data": {
      "text/plain": [
       "("
      ]
     },
     "execution_count": 4,
     "metadata": {},
     "output_type": "execute_result"
    }
   ],
   "source": [
    "i1"
   ]
  },
  {
   "cell_type": "code",
   "execution_count": null,
   "metadata": {},
   "outputs": [],
   "source": []
  }
 ],
 "metadata": {
  "hide_input": false,
  "kernelspec": {
   "display_name": "Spark 2.1.1-dra - Scala 2.11 - TrionPlay BDAS Cluster",
   "language": "scala",
   "name": "2.1.1-dra-scala-trionplay_useast1prod"
  },
  "language_info": {
   "codemirror_mode": "text/x-scala",
   "file_extension": ".scala",
   "mimetype": "text/x-scala",
   "name": "scala",
   "pygments_lexer": "scala",
   "version": "2.11.8"
  }
 },
 "nbformat": 4,
 "nbformat_minor": 4
}
