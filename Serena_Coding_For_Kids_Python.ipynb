{
  "nbformat": 4,
  "nbformat_minor": 0,
  "metadata": {
    "colab": {
      "name": "Serena - Coding For Kids Python.ipynb",
      "provenance": [],
      "authorship_tag": "ABX9TyPT11siTMrxhJocKOL9BCac",
      "include_colab_link": true
    },
    "kernelspec": {
      "name": "python3",
      "display_name": "Python 3"
    }
  },
  "cells": [
    {
      "cell_type": "markdown",
      "metadata": {
        "id": "view-in-github",
        "colab_type": "text"
      },
      "source": [
        "<a href=\"https://colab.research.google.com/github/rogermenezes/techproblems/blob/master/Serena_Coding_For_Kids_Python.ipynb\" target=\"_parent\"><img src=\"https://colab.research.google.com/assets/colab-badge.svg\" alt=\"Open In Colab\"/></a>"
      ]
    },
    {
      "cell_type": "markdown",
      "metadata": {
        "id": "0Jkz9PKMeAaa"
      },
      "source": [
        "Here, we'll revise all learning from the [Coding For Kids - Python](https://www.amazon.com/Coding-Kids-Python-Awesome-Activities/dp/1641521759) book"
      ]
    },
    {
      "cell_type": "markdown",
      "metadata": {
        "id": "XltYMmzxmFH4"
      },
      "source": [
        "## Python Installation\n",
        "\n",
        "First things we did here was to install Python from https://www.python.org/downloads/\n",
        "\n",
        "Python comes with IDLE (Integrated and Development and Learning Environment). This is where we write and execute out Python code.\n",
        "\n",
        "You'll also get to know how to save your work (Python programs) to files."
      ]
    },
    {
      "cell_type": "markdown",
      "metadata": {
        "id": "-cNSHZSpvJmT"
      },
      "source": [
        "## Printing..."
      ]
    },
    {
      "cell_type": "code",
      "metadata": {
        "colab": {
          "base_uri": "https://localhost:8080/"
        },
        "id": "mTNe1WbyfAIq",
        "outputId": "f07b32c9-6e36-4487-961a-1bffa492422c"
      },
      "source": [
        "print(\"Hello!\")\n",
        "\n",
        "print(\"Hi Python!\")"
      ],
      "execution_count": 3,
      "outputs": [
        {
          "output_type": "stream",
          "text": [
            "Hello!\n",
            "Hi Python!\n"
          ],
          "name": "stdout"
        }
      ]
    },
    {
      "cell_type": "markdown",
      "metadata": {
        "id": "LrZ-8uOEnHrh"
      },
      "source": [
        "## Comments\n",
        "Let's look at Python comments now. "
      ]
    },
    {
      "cell_type": "code",
      "metadata": {
        "id": "0upV9GiElQzv"
      },
      "source": [
        "# print(\"I should not be printed!\")"
      ],
      "execution_count": 4,
      "outputs": []
    },
    {
      "cell_type": "markdown",
      "metadata": {
        "id": "YHAMNwhDngbJ"
      },
      "source": [
        "## Tricky printing - Escape characters.\n",
        "\n",
        "Some characters are mischievious and need to be escaped. We are trying to print `\"Kumusta\" is \"Hello\" in Tagalog!` here."
      ]
    },
    {
      "cell_type": "code",
      "metadata": {
        "id": "xnO0JgG2oAlW"
      },
      "source": [
        "print(\"\"Kumusta\" is \"Hello\" in Tagalog!\")"
      ],
      "execution_count": null,
      "outputs": []
    },
    {
      "cell_type": "code",
      "metadata": {
        "colab": {
          "base_uri": "https://localhost:8080/"
        },
        "id": "EHtBjNDEnXA0",
        "outputId": "b53d43d8-fff8-467f-b41e-b7b8cf7c1681"
      },
      "source": [
        "print(\"\\\"Kumusta\\\" is \\\"Hello\\\" in Tagalog!\")"
      ],
      "execution_count": 5,
      "outputs": [
        {
          "output_type": "stream",
          "text": [
            "\"Kumusta\" is \"Hello\" in Tagalog!\n"
          ],
          "name": "stdout"
        }
      ]
    },
    {
      "cell_type": "markdown",
      "metadata": {
        "id": "T2T81zMCoMwG"
      },
      "source": [
        "## Printing on Multiple lines"
      ]
    },
    {
      "cell_type": "code",
      "metadata": {
        "colab": {
          "base_uri": "https://localhost:8080/"
        },
        "id": "80IICJZtnz7N",
        "outputId": "b2a50229-dfca-4a7f-df59-370f6dc7db40"
      },
      "source": [
        "print(\"Here is \\na sentence \\non many \\ndifferent lines\") "
      ],
      "execution_count": 6,
      "outputs": [
        {
          "output_type": "stream",
          "text": [
            "Here is \n",
            "a sentence \n",
            "on many \n",
            "different lines\n"
          ],
          "name": "stdout"
        }
      ]
    },
    {
      "cell_type": "markdown",
      "metadata": {
        "id": "gd3pducvpohw"
      },
      "source": [
        "### Variables\n",
        "\n",
        "Variable is container to hold information/data. Just like a cup can hold water, doritos, juice or just anything. \n",
        "\n",
        "A variable has a name and it holds a value. In the example below, `reader` is the name of the variable and the value it holds is `Casey`"
      ]
    },
    {
      "cell_type": "code",
      "metadata": {
        "colab": {
          "base_uri": "https://localhost:8080/"
        },
        "id": "crMaZW2wpntR",
        "outputId": "1879fae2-6365-4c11-9510-6f79737c1aac"
      },
      "source": [
        "reader = \"Casey\"\n",
        "print(reader)"
      ],
      "execution_count": 8,
      "outputs": [
        {
          "output_type": "stream",
          "text": [
            "Casey\n"
          ],
          "name": "stdout"
        }
      ]
    },
    {
      "cell_type": "markdown",
      "metadata": {
        "id": "-1d823iZqBZj"
      },
      "source": [
        "### f-strings"
      ]
    },
    {
      "cell_type": "code",
      "metadata": {
        "colab": {
          "base_uri": "https://localhost:8080/"
        },
        "id": "j6FOJoeppjcq",
        "outputId": "84b59aee-fdd6-47e4-fc04-7b5e18924608"
      },
      "source": [
        "food = \"cake\"\n",
        "print(f\"I like {food}\")"
      ],
      "execution_count": 9,
      "outputs": [
        {
          "output_type": "stream",
          "text": [
            "I like cake\n"
          ],
          "name": "stdout"
        }
      ]
    },
    {
      "cell_type": "code",
      "metadata": {
        "colab": {
          "base_uri": "https://localhost:8080/"
        },
        "id": "N7-DztsSrOMT",
        "outputId": "bf791aff-d1b8-4a47-e8e7-cea31eac00b9"
      },
      "source": [
        "multiline_sentence = \"\"\"\n",
        "  Here is a \n",
        "  sentence on many \n",
        "  different lines\n",
        "\"\"\"\n",
        "print(multiline_sentence)"
      ],
      "execution_count": 10,
      "outputs": [
        {
          "output_type": "stream",
          "text": [
            "\n",
            "  Here is a \n",
            "  sentence on many \n",
            "  different lines\n",
            "\n"
          ],
          "name": "stdout"
        }
      ]
    },
    {
      "cell_type": "markdown",
      "metadata": {
        "id": "BmGcM9ySry5K"
      },
      "source": [
        "### Chapter 3 - Fun with Numbers\n",
        "\n",
        "There are many different types of values that variables can hold. (Value is just information.)\n",
        "\n",
        "1. Integers\n",
        "2. floats --> \n",
        "3. Strings --> \"Hi, my favorite show is Queen's Gambit\"\n",
        "4. Booleans --> True, False\n"
      ]
    },
    {
      "cell_type": "code",
      "metadata": {
        "id": "ndpp0NRbrlU4"
      },
      "source": [
        "my_gpa = 3.47"
      ],
      "execution_count": 11,
      "outputs": []
    },
    {
      "cell_type": "markdown",
      "metadata": {
        "id": "AI6lmMoDsp_H"
      },
      "source": [
        "## Operands\n",
        "\n",
        "Operators are special symbols that represent an action. They are usually used with operands, which are values you perform the action on.\n",
        "\n",
        "### Arithmetic Operators\n",
        "+, -, /, * (multiplcation) are various arithmetic operators.\n",
        "\n",
        "`2 + 5` Here, 2 and 5 are operands and `+` is the operator. The `result` is the value that is computed by the operators action on the operand. In this case, it is 7.\n",
        "\n",
        "Revise multiple times what is an operator, an operand and the result.\n"
      ]
    },
    {
      "cell_type": "code",
      "metadata": {
        "colab": {
          "base_uri": "https://localhost:8080/"
        },
        "id": "19wKnaLvsosq",
        "outputId": "02db8087-f96c-47cb-9c0b-7c69d3e6bb3a"
      },
      "source": [
        "a  = 6\n",
        "b = 3\n",
        "\n",
        "print(a+b)"
      ],
      "execution_count": 12,
      "outputs": [
        {
          "output_type": "stream",
          "text": [
            "9\n"
          ],
          "name": "stdout"
        }
      ]
    },
    {
      "cell_type": "code",
      "metadata": {
        "colab": {
          "base_uri": "https://localhost:8080/"
        },
        "id": "A7wG28yJtdjm",
        "outputId": "3aff421e-c70d-4948-cd91-603d703999dc"
      },
      "source": [
        "print(a-b)"
      ],
      "execution_count": 13,
      "outputs": [
        {
          "output_type": "stream",
          "text": [
            "3\n"
          ],
          "name": "stdout"
        }
      ]
    },
    {
      "cell_type": "code",
      "metadata": {
        "colab": {
          "base_uri": "https://localhost:8080/"
        },
        "id": "3MaKtDiMtfWA",
        "outputId": "7513e16a-db4a-4999-d029-4fdb35bd6136"
      },
      "source": [
        "print(b-a)"
      ],
      "execution_count": 14,
      "outputs": [
        {
          "output_type": "stream",
          "text": [
            "-3\n"
          ],
          "name": "stdout"
        }
      ]
    },
    {
      "cell_type": "markdown",
      "metadata": {
        "id": "vhRfdq2itnP3"
      },
      "source": [
        "## Order of Operators\n",
        "\n",
        "It is given by PEMDAS\n",
        "* Paranthesis\n",
        "* Exponentiation\n",
        "* Multiplication\n",
        "* Division \n",
        "* Addition \n",
        "* Subtraction\n"
      ]
    },
    {
      "cell_type": "code",
      "metadata": {
        "colab": {
          "base_uri": "https://localhost:8080/"
        },
        "id": "h_Jv6Whovbjm",
        "outputId": "849b8804-743c-4de4-9e0a-55d982ab39f8"
      },
      "source": [
        "total = 2 + 1.65 - 1.5 + 3\n",
        "print(total)"
      ],
      "execution_count": 16,
      "outputs": [
        {
          "output_type": "stream",
          "text": [
            "5.15\n"
          ],
          "name": "stdout"
        }
      ]
    },
    {
      "cell_type": "markdown",
      "metadata": {
        "id": "aAwst7C5uEfk"
      },
      "source": [
        "## Comparision Operators\n",
        "\n",
        "* greater-than >\n",
        "* less-than <\n",
        "* greater-than-or-equal-to >=\n",
        "* less-than-or-equal-to <=\n",
        "* equal-to ==\n",
        "* "
      ]
    },
    {
      "cell_type": "code",
      "metadata": {
        "colab": {
          "base_uri": "https://localhost:8080/"
        },
        "id": "HxLDkyZutgtT",
        "outputId": "26b4c17a-cf45-4495-ab35-7526aa42a1e1"
      },
      "source": [
        "3 > 7"
      ],
      "execution_count": 17,
      "outputs": [
        {
          "output_type": "execute_result",
          "data": {
            "text/plain": [
              "False"
            ]
          },
          "metadata": {
            "tags": []
          },
          "execution_count": 17
        }
      ]
    },
    {
      "cell_type": "code",
      "metadata": {
        "colab": {
          "base_uri": "https://localhost:8080/"
        },
        "id": "olIMI4pXv3ih",
        "outputId": "abe7beed-d102-4ce7-9a3d-31f4b6f42acd"
      },
      "source": [
        "7 > 3"
      ],
      "execution_count": 18,
      "outputs": [
        {
          "output_type": "execute_result",
          "data": {
            "text/plain": [
              "True"
            ]
          },
          "metadata": {
            "tags": []
          },
          "execution_count": 18
        }
      ]
    },
    {
      "cell_type": "code",
      "metadata": {
        "colab": {
          "base_uri": "https://localhost:8080/"
        },
        "id": "UcK3gF_iv5Ad",
        "outputId": "b487f945-aab7-47b9-a488-51e97963c627"
      },
      "source": [
        "7 >= 3"
      ],
      "execution_count": 19,
      "outputs": [
        {
          "output_type": "execute_result",
          "data": {
            "text/plain": [
              "True"
            ]
          },
          "metadata": {
            "tags": []
          },
          "execution_count": 19
        }
      ]
    },
    {
      "cell_type": "code",
      "metadata": {
        "colab": {
          "base_uri": "https://localhost:8080/"
        },
        "id": "HQ5STg_9v6V-",
        "outputId": "44b0c5b9-4546-42ca-c6c0-08a6bd813dd8"
      },
      "source": [
        "23 == 20"
      ],
      "execution_count": 20,
      "outputs": [
        {
          "output_type": "execute_result",
          "data": {
            "text/plain": [
              "False"
            ]
          },
          "metadata": {
            "tags": []
          },
          "execution_count": 20
        }
      ]
    },
    {
      "cell_type": "code",
      "metadata": {
        "colab": {
          "base_uri": "https://localhost:8080/"
        },
        "id": "GbsJUln5wpkK",
        "outputId": "a3a0782f-97ef-4f04-f6f2-b6c7f7fd80dc"
      },
      "source": [
        "a == b"
      ],
      "execution_count": 21,
      "outputs": [
        {
          "output_type": "execute_result",
          "data": {
            "text/plain": [
              "False"
            ]
          },
          "metadata": {
            "tags": []
          },
          "execution_count": 21
        }
      ]
    },
    {
      "cell_type": "code",
      "metadata": {
        "id": "EEUdToEuwqmc"
      },
      "source": [
        "c = 6"
      ],
      "execution_count": 22,
      "outputs": []
    },
    {
      "cell_type": "code",
      "metadata": {
        "colab": {
          "base_uri": "https://localhost:8080/"
        },
        "id": "d27soiZ4wr_a",
        "outputId": "e053d326-a91c-43c3-f9b6-a34cb70ed45b"
      },
      "source": [
        "a == 6"
      ],
      "execution_count": 23,
      "outputs": [
        {
          "output_type": "execute_result",
          "data": {
            "text/plain": [
              "True"
            ]
          },
          "metadata": {
            "tags": []
          },
          "execution_count": 23
        }
      ]
    },
    {
      "cell_type": "code",
      "metadata": {
        "colab": {
          "base_uri": "https://localhost:8080/"
        },
        "id": "ljR7YX3MwtEE",
        "outputId": "dda0ca77-9575-4b49-f198-5b846987cd5d"
      },
      "source": [
        "a != b"
      ],
      "execution_count": 24,
      "outputs": [
        {
          "output_type": "execute_result",
          "data": {
            "text/plain": [
              "True"
            ]
          },
          "metadata": {
            "tags": []
          },
          "execution_count": 24
        }
      ]
    },
    {
      "cell_type": "code",
      "metadata": {
        "colab": {
          "base_uri": "https://localhost:8080/"
        },
        "id": "DoSMsRl1wwGi",
        "outputId": "ec0f2f73-9404-4ea5-cb80-43792815449d"
      },
      "source": [
        "5 != \"five\""
      ],
      "execution_count": 25,
      "outputs": [
        {
          "output_type": "execute_result",
          "data": {
            "text/plain": [
              "True"
            ]
          },
          "metadata": {
            "tags": []
          },
          "execution_count": 25
        }
      ]
    },
    {
      "cell_type": "code",
      "metadata": {
        "colab": {
          "base_uri": "https://localhost:8080/"
        },
        "id": "lKgSJm3FzwO-",
        "outputId": "1ec0b541-32f2-418b-c2d5-871c523baaee"
      },
      "source": [
        "10 != \"10\""
      ],
      "execution_count": 26,
      "outputs": [
        {
          "output_type": "execute_result",
          "data": {
            "text/plain": [
              "True"
            ]
          },
          "metadata": {
            "tags": []
          },
          "execution_count": 26
        }
      ]
    },
    {
      "cell_type": "code",
      "metadata": {
        "colab": {
          "base_uri": "https://localhost:8080/"
        },
        "id": "s-bIZA6uzyPW",
        "outputId": "fa61ec44-41f4-4fca-df0f-730d3f49df90"
      },
      "source": [
        "4 != 3"
      ],
      "execution_count": 27,
      "outputs": [
        {
          "output_type": "execute_result",
          "data": {
            "text/plain": [
              "True"
            ]
          },
          "metadata": {
            "tags": []
          },
          "execution_count": 27
        }
      ]
    },
    {
      "cell_type": "code",
      "metadata": {
        "colab": {
          "base_uri": "https://localhost:8080/"
        },
        "id": "bx_Jl3n8zzOf",
        "outputId": "7f5ec0c0-15a8-484a-d524-2c6125833704"
      },
      "source": [
        "9 != 9"
      ],
      "execution_count": 28,
      "outputs": [
        {
          "output_type": "execute_result",
          "data": {
            "text/plain": [
              "False"
            ]
          },
          "metadata": {
            "tags": []
          },
          "execution_count": 28
        }
      ]
    },
    {
      "cell_type": "code",
      "metadata": {
        "id": "EVLRQIeRz0y1"
      },
      "source": [
        ""
      ],
      "execution_count": null,
      "outputs": []
    }
  ]
}